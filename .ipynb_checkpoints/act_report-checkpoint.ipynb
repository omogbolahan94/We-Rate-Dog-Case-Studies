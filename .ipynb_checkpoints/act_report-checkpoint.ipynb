{
 "cells": [
  {
   "cell_type": "markdown",
   "id": "3b2d9e53",
   "metadata": {},
   "source": [
    "Author: Olatunji Gabriel<br/>\n",
    "Date: 30th May, 2022<br/><br/>\n",
    "The analyzing and visualizing in this article is the tweet archive of Twitter user @dog_rates, also known as WeRateDogs. WeRateDogs is a Twitter account that rates people's dogs with a humorous comment about the dog. These ratings almost always have a denominator of 10. The numerators, though? Almost always greater than 10. 11/10, 12/10, 13/10, etc. Why? Because \"they're good dogs Brent.\" WeRateDogs has over 4 million followers and has received international media coverage.\n",
    "The following are my findings from the analysis of the data:<br/>\n",
    "1.\tThe highest numerator rating for a pet is 12.\n",
    "2.\tThe minimum numerator rating is 1.\n",
    "3.\t99% of the denominator rating value is 10 and the remaining 1% of the denominator rating value is between 1 and 14.\n",
    "4.\tThere seems to be an outliers from the visualization above. But the average rating of pets in the dataset is 1.17.\n",
    "5.\tThere seems to be a positive correlation between the rating numerator and denominator. Note, however, that correlation do not imply causation.\n",
    "6.\t85% of the whole observation has one image (the minimum number of image for a pet in the dataset) for a pet. But only 1% of the pet has four images which is the highest number of images of a pet in the dataset.\n",
    "7.\tAs can be seen from above, the number of images for a pet improves the accuracy of the prediction model.\n",
    "8.\tThere is no relationship between pet ratings and number of pet twitter favorite count.\n",
    "9.\tThere is a positive correlation between retweet count and favorite count.\n"
   ]
  },
  {
   "cell_type": "markdown",
   "id": "b6ad8c64",
   "metadata": {},
   "source": [
    "1.\tThe highest numerator rating for a pet is 12."
   ]
  },
  {
   "attachments": {
    "1.png": {
     "image/png": "[encoded data removed]"
    }
   },
   "cell_type": "markdown",
   "id": "7b6cce71",
   "metadata": {},
   "source": [
    "![1.png](attachment:1.png)"
   ]
  },
  {
   "cell_type": "markdown",
   "id": "d288fb92",
   "metadata": {},
   "source": [
    "2.\tThe minimum numerator rating is 1."
   ]
  },
  {
   "attachments": {
    "2.png": {
     "image/png": "[encoded data removed]"
    }
   },
   "cell_type": "markdown",
   "id": "134fa103",
   "metadata": {},
   "source": [
    "![2.png](attachment:2.png)"
   ]
  },
  {
   "cell_type": "markdown",
   "id": "67f853be",
   "metadata": {},
   "source": [
    "3.\t99% of the denominator rating value is 10 and the remaining 1% of the denominator rating value is between 1 and 14."
   ]
  },
  {
   "cell_type": "markdown",
   "id": "3c46ebbb",
   "metadata": {},
   "source": []
  },
  {
   "cell_type": "markdown",
   "id": "1671620a",
   "metadata": {},
   "source": [
    "4.\tThere seems to be an outliers from the visualization above. But the average rating of pets in the dataset is 1.17."
   ]
  },
  {
   "cell_type": "markdown",
   "id": "d4d7a9f8",
   "metadata": {},
   "source": []
  },
  {
   "cell_type": "markdown",
   "id": "0a493e37",
   "metadata": {},
   "source": [
    "5.\tThere seems to be a positive correlation between the rating numerator and denominator. Note, however, that correlation do not imply causation."
   ]
  },
  {
   "cell_type": "markdown",
   "id": "ba20070a",
   "metadata": {},
   "source": []
  },
  {
   "cell_type": "markdown",
   "id": "7a4c6492",
   "metadata": {},
   "source": [
    "6.\t85% of the whole observation has one image (the minimum number of image for a pet in the dataset) for a pet. But only 1% of the pet has four images which is the highest number of images of a pet in the dataset."
   ]
  },
  {
   "cell_type": "markdown",
   "id": "de679e67",
   "metadata": {},
   "source": []
  },
  {
   "cell_type": "markdown",
   "id": "e90eead7",
   "metadata": {},
   "source": [
    "7.\tAs can be seen from above, the number of images for a pet improves the accuracy of the prediction model."
   ]
  },
  {
   "cell_type": "markdown",
   "id": "9ee9b999",
   "metadata": {},
   "source": []
  },
  {
   "cell_type": "markdown",
   "id": "2fd74158",
   "metadata": {},
   "source": [
    "8.\tThere is no relationship between pet ratings and number of pet twitter favorite count."
   ]
  },
  {
   "cell_type": "markdown",
   "id": "86f689fb",
   "metadata": {},
   "source": []
  },
  {
   "cell_type": "markdown",
   "id": "819d063a",
   "metadata": {},
   "source": [
    "9.\tThere is a positive correlation between retweet count and favorite count."
   ]
  },
  {
   "cell_type": "markdown",
   "id": "91686098",
   "metadata": {},
   "source": []
  },
  {
   "cell_type": "code",
   "execution_count": null,
   "id": "2b0e05a2",
   "metadata": {},
   "outputs": [],
   "source": []
  }
 ],
 "metadata": {
  "kernelspec": {
   "display_name": "Python 3",
   "language": "python",
   "name": "python3"
  },
  "language_info": {
   "codemirror_mode": {
    "name": "ipython",
    "version": 3
   },
   "file_extension": ".py",
   "mimetype": "text/x-python",
   "name": "python",
   "nbconvert_exporter": "python",
   "pygments_lexer": "ipython3",
   "version": "3.8.8"
  }
 },
 "nbformat": 4,
 "nbformat_minor": 5
}
