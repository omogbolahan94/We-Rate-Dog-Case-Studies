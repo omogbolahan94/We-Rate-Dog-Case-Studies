{
 "cells": [
  {
   "cell_type": "markdown",
   "id": "4055d350",
   "metadata": {},
   "source": [
    "# Analysing Twitter WeRateDogs Data "
   ]
  },
  {
   "cell_type": "markdown",
   "id": "df3ecd45",
   "metadata": {},
   "source": [
    "### Introduction\n",
    "\n",
    "<p>The reference dataset is the tweet archive of Twitter user @dog_rates, also known as WeRateDogs. WeRateDogs is a Twitter account that rates people's dogs with a humorous comment about the dog. These ratings almost always have a denominator of 10. The numerators, though? Almost always greater than 10. 11/10, 12/10, 13/10, etc. Why? Because \"they're good dogs Brent.\" WeRateDogs has over 4 million followers and has received international media coverage.</p>\n",
    "<p></p>\n",
    "<p></p>"
   ]
  },
  {
   "cell_type": "markdown",
   "id": "42e08231",
   "metadata": {},
   "source": [
    "### Import all Necessary Libraries"
   ]
  },
  {
   "cell_type": "code",
   "execution_count": 1,
   "id": "82092f86",
   "metadata": {},
   "outputs": [],
   "source": [
    "from timeit import default_timer as timer"
   ]
  },
  {
   "cell_type": "code",
   "execution_count": 2,
   "id": "fabd45e2",
   "metadata": {},
   "outputs": [],
   "source": [
    "import os\n",
    "import requests\n",
    "import tweepy\n",
    "import json"
   ]
  },
  {
   "cell_type": "code",
   "execution_count": 3,
   "id": "3e80187b",
   "metadata": {},
   "outputs": [],
   "source": [
    "import numpy as np \n",
    "import pandas as pd\n",
    "import matplotlib.pyplot as plt\n",
    "import seaborn as sns"
   ]
  },
  {
   "cell_type": "code",
   "execution_count": 4,
   "id": "55bf2aba",
   "metadata": {},
   "outputs": [],
   "source": [
    "%matplotlib inline\n",
    "sns.set_style(\"darkgrid\")"
   ]
  },
  {
   "cell_type": "markdown",
   "id": "4368b7a4",
   "metadata": {},
   "source": [
    "### Gather all Data"
   ]
  },
  {
   "cell_type": "markdown",
   "id": "7cfcf27d",
   "metadata": {},
   "source": [
    "**loading the archive data**"
   ]
  },
  {
   "cell_type": "code",
   "execution_count": 5,
   "id": "0df0ab3f",
   "metadata": {},
   "outputs": [
    {
     "data": {
      "text/html": [
       "<div>\n",
       "<style scoped>\n",
       "    .dataframe tbody tr th:only-of-type {\n",
       "        vertical-align: middle;\n",
       "    }\n",
       "\n",
       "    .dataframe tbody tr th {\n",
       "        vertical-align: top;\n",
       "    }\n",
       "\n",
       "    .dataframe thead th {\n",
       "        text-align: right;\n",
       "    }\n",
       "</style>\n",
       "<table border=\"1\" class=\"dataframe\">\n",
       "  <thead>\n",
       "    <tr style=\"text-align: right;\">\n",
       "      <th></th>\n",
       "      <th>tweet_id</th>\n",
       "      <th>in_reply_to_status_id</th>\n",
       "      <th>in_reply_to_user_id</th>\n",
       "      <th>timestamp</th>\n",
       "      <th>source</th>\n",
       "      <th>text</th>\n",
       "      <th>retweeted_status_id</th>\n",
       "      <th>retweeted_status_user_id</th>\n",
       "      <th>retweeted_status_timestamp</th>\n",
       "      <th>expanded_urls</th>\n",
       "      <th>rating_numerator</th>\n",
       "      <th>rating_denominator</th>\n",
       "      <th>name</th>\n",
       "      <th>doggo</th>\n",
       "      <th>floofer</th>\n",
       "      <th>pupper</th>\n",
       "      <th>puppo</th>\n",
       "    </tr>\n",
       "  </thead>\n",
       "  <tbody>\n",
       "    <tr>\n",
       "      <th>0</th>\n",
       "      <td>892420643555336193</td>\n",
       "      <td>NaN</td>\n",
       "      <td>NaN</td>\n",
       "      <td>2017-08-01 16:23:56 +0000</td>\n",
       "      <td>&lt;a href=\"http://twitter.com/download/iphone\" r...</td>\n",
       "      <td>This is Phineas. He's a mystical boy. Only eve...</td>\n",
       "      <td>NaN</td>\n",
       "      <td>NaN</td>\n",
       "      <td>NaN</td>\n",
       "      <td>https://twitter.com/dog_rates/status/892420643...</td>\n",
       "      <td>13</td>\n",
       "      <td>10</td>\n",
       "      <td>Phineas</td>\n",
       "      <td>None</td>\n",
       "      <td>None</td>\n",
       "      <td>None</td>\n",
       "      <td>None</td>\n",
       "    </tr>\n",
       "    <tr>\n",
       "      <th>1</th>\n",
       "      <td>892177421306343426</td>\n",
       "      <td>NaN</td>\n",
       "      <td>NaN</td>\n",
       "      <td>2017-08-01 00:17:27 +0000</td>\n",
       "      <td>&lt;a href=\"http://twitter.com/download/iphone\" r...</td>\n",
       "      <td>This is Tilly. She's just checking pup on you....</td>\n",
       "      <td>NaN</td>\n",
       "      <td>NaN</td>\n",
       "      <td>NaN</td>\n",
       "      <td>https://twitter.com/dog_rates/status/892177421...</td>\n",
       "      <td>13</td>\n",
       "      <td>10</td>\n",
       "      <td>Tilly</td>\n",
       "      <td>None</td>\n",
       "      <td>None</td>\n",
       "      <td>None</td>\n",
       "      <td>None</td>\n",
       "    </tr>\n",
       "  </tbody>\n",
       "</table>\n",
       "</div>"
      ],
      "text/plain": [
       "             tweet_id  in_reply_to_status_id  in_reply_to_user_id  \\\n",
       "0  892420643555336193                    NaN                  NaN   \n",
       "1  892177421306343426                    NaN                  NaN   \n",
       "\n",
       "                   timestamp  \\\n",
       "0  2017-08-01 16:23:56 +0000   \n",
       "1  2017-08-01 00:17:27 +0000   \n",
       "\n",
       "                                              source  \\\n",
       "0  <a href=\"http://twitter.com/download/iphone\" r...   \n",
       "1  <a href=\"http://twitter.com/download/iphone\" r...   \n",
       "\n",
       "                                                text  retweeted_status_id  \\\n",
       "0  This is Phineas. He's a mystical boy. Only eve...                  NaN   \n",
       "1  This is Tilly. She's just checking pup on you....                  NaN   \n",
       "\n",
       "   retweeted_status_user_id retweeted_status_timestamp  \\\n",
       "0                       NaN                        NaN   \n",
       "1                       NaN                        NaN   \n",
       "\n",
       "                                       expanded_urls  rating_numerator  \\\n",
       "0  https://twitter.com/dog_rates/status/892420643...                13   \n",
       "1  https://twitter.com/dog_rates/status/892177421...                13   \n",
       "\n",
       "   rating_denominator     name doggo floofer pupper puppo  \n",
       "0                  10  Phineas  None    None   None  None  \n",
       "1                  10    Tilly  None    None   None  None  "
      ]
     },
     "execution_count": 5,
     "metadata": {},
     "output_type": "execute_result"
    }
   ],
   "source": [
    "# Twitter archive file\n",
    "archived_df = pd.read_csv(\"twitter-archive-enhanced.csv\")\n",
    "archived_df.head(2)"
   ]
  },
  {
   "cell_type": "code",
   "execution_count": 6,
   "id": "11ab762a",
   "metadata": {},
   "outputs": [
    {
     "name": "stdout",
     "output_type": "stream",
     "text": [
      "<class 'pandas.core.frame.DataFrame'>\n",
      "RangeIndex: 2356 entries, 0 to 2355\n",
      "Data columns (total 17 columns):\n",
      " #   Column                      Non-Null Count  Dtype  \n",
      "---  ------                      --------------  -----  \n",
      " 0   tweet_id                    2356 non-null   int64  \n",
      " 1   in_reply_to_status_id       78 non-null     float64\n",
      " 2   in_reply_to_user_id         78 non-null     float64\n",
      " 3   timestamp                   2356 non-null   object \n",
      " 4   source                      2356 non-null   object \n",
      " 5   text                        2356 non-null   object \n",
      " 6   retweeted_status_id         181 non-null    float64\n",
      " 7   retweeted_status_user_id    181 non-null    float64\n",
      " 8   retweeted_status_timestamp  181 non-null    object \n",
      " 9   expanded_urls               2297 non-null   object \n",
      " 10  rating_numerator            2356 non-null   int64  \n",
      " 11  rating_denominator          2356 non-null   int64  \n",
      " 12  name                        2356 non-null   object \n",
      " 13  doggo                       2356 non-null   object \n",
      " 14  floofer                     2356 non-null   object \n",
      " 15  pupper                      2356 non-null   object \n",
      " 16  puppo                       2356 non-null   object \n",
      "dtypes: float64(4), int64(3), object(10)\n",
      "memory usage: 313.0+ KB\n"
     ]
    }
   ],
   "source": [
    "archived_df.info()"
   ]
  },
  {
   "cell_type": "markdown",
   "id": "12abbcc7",
   "metadata": {},
   "source": [
    "**Loading the image prediction data that is hosted on Udacity's servers**"
   ]
  },
  {
   "cell_type": "code",
   "execution_count": 7,
   "id": "6b119410",
   "metadata": {},
   "outputs": [
    {
     "data": {
      "text/plain": [
       "200"
      ]
     },
     "execution_count": 7,
     "metadata": {},
     "output_type": "execute_result"
    }
   ],
   "source": [
    "# Loading the image prediction data\n",
    "# pd.read_csv(\"image-predictions.tsv\", sep=\"\\t\")\n",
    "image_data = requests.get(\"https://d17h27t6h515a5.cloudfront.net/topher/2017/August/599fd2ad_image-predictions/image-predictions.tsv\",)\n",
    "image_data.status_code"
   ]
  },
  {
   "cell_type": "code",
   "execution_count": 8,
   "id": "ae7aaf8a",
   "metadata": {},
   "outputs": [],
   "source": [
    "image_folder = 'image-prediction'\n",
    "if not os.path.exists(image_folder):\n",
    "    os.makedirs(image_folder)"
   ]
  },
  {
   "cell_type": "code",
   "execution_count": 9,
   "id": "0413f98a",
   "metadata": {},
   "outputs": [],
   "source": [
    "with open(image_folder+'/'+'image-data.tsv', 'wb') as file:\n",
    "    file.write(image_data.content)"
   ]
  },
  {
   "cell_type": "code",
   "execution_count": 10,
   "id": "5146bdec",
   "metadata": {},
   "outputs": [],
   "source": [
    "image_df = pd.read_csv(image_folder+'/'+'image-data.tsv', sep='\\t')"
   ]
  },
  {
   "cell_type": "code",
   "execution_count": 11,
   "id": "2114c264",
   "metadata": {},
   "outputs": [
    {
     "data": {
      "text/html": [
       "<div>\n",
       "<style scoped>\n",
       "    .dataframe tbody tr th:only-of-type {\n",
       "        vertical-align: middle;\n",
       "    }\n",
       "\n",
       "    .dataframe tbody tr th {\n",
       "        vertical-align: top;\n",
       "    }\n",
       "\n",
       "    .dataframe thead th {\n",
       "        text-align: right;\n",
       "    }\n",
       "</style>\n",
       "<table border=\"1\" class=\"dataframe\">\n",
       "  <thead>\n",
       "    <tr style=\"text-align: right;\">\n",
       "      <th></th>\n",
       "      <th>tweet_id</th>\n",
       "      <th>jpg_url</th>\n",
       "      <th>img_num</th>\n",
       "      <th>p1</th>\n",
       "      <th>p1_conf</th>\n",
       "      <th>p1_dog</th>\n",
       "      <th>p2</th>\n",
       "      <th>p2_conf</th>\n",
       "      <th>p2_dog</th>\n",
       "      <th>p3</th>\n",
       "      <th>p3_conf</th>\n",
       "      <th>p3_dog</th>\n",
       "    </tr>\n",
       "  </thead>\n",
       "  <tbody>\n",
       "    <tr>\n",
       "      <th>0</th>\n",
       "      <td>666020888022790149</td>\n",
       "      <td>https://pbs.twimg.com/media/CT4udn0WwAA0aMy.jpg</td>\n",
       "      <td>1</td>\n",
       "      <td>Welsh_springer_spaniel</td>\n",
       "      <td>0.465074</td>\n",
       "      <td>True</td>\n",
       "      <td>collie</td>\n",
       "      <td>0.156665</td>\n",
       "      <td>True</td>\n",
       "      <td>Shetland_sheepdog</td>\n",
       "      <td>0.061428</td>\n",
       "      <td>True</td>\n",
       "    </tr>\n",
       "    <tr>\n",
       "      <th>1</th>\n",
       "      <td>666029285002620928</td>\n",
       "      <td>https://pbs.twimg.com/media/CT42GRgUYAA5iDo.jpg</td>\n",
       "      <td>1</td>\n",
       "      <td>redbone</td>\n",
       "      <td>0.506826</td>\n",
       "      <td>True</td>\n",
       "      <td>miniature_pinscher</td>\n",
       "      <td>0.074192</td>\n",
       "      <td>True</td>\n",
       "      <td>Rhodesian_ridgeback</td>\n",
       "      <td>0.072010</td>\n",
       "      <td>True</td>\n",
       "    </tr>\n",
       "  </tbody>\n",
       "</table>\n",
       "</div>"
      ],
      "text/plain": [
       "             tweet_id                                          jpg_url  \\\n",
       "0  666020888022790149  https://pbs.twimg.com/media/CT4udn0WwAA0aMy.jpg   \n",
       "1  666029285002620928  https://pbs.twimg.com/media/CT42GRgUYAA5iDo.jpg   \n",
       "\n",
       "   img_num                      p1   p1_conf  p1_dog                  p2  \\\n",
       "0        1  Welsh_springer_spaniel  0.465074    True              collie   \n",
       "1        1                 redbone  0.506826    True  miniature_pinscher   \n",
       "\n",
       "    p2_conf  p2_dog                   p3   p3_conf  p3_dog  \n",
       "0  0.156665    True    Shetland_sheepdog  0.061428    True  \n",
       "1  0.074192    True  Rhodesian_ridgeback  0.072010    True  "
      ]
     },
     "execution_count": 11,
     "metadata": {},
     "output_type": "execute_result"
    }
   ],
   "source": [
    "image_df.head(2)"
   ]
  },
  {
   "cell_type": "markdown",
   "id": "56a76d77",
   "metadata": {},
   "source": [
    "* tweet_id is the last part of the tweet URL after \"status/\" → https://twitter.com/dog_rates/status/889531135344209921\n",
    "* p1 is the algorithm's #1 prediction for the image in the tweet → golden retriever\n",
    "* p1_conf is how confident the algorithm is in its #1 prediction → 95%\n",
    "* p1_dog is whether or not the #1 prediction is a breed of dog → TRUE\n",
    "* p2 is the algorithm's second most likely prediction → Labrador retriever\n",
    "* p2_conf is how confident the algorithm is in its #2 prediction → 1%\n",
    "* p2_dog is whether or not the #2 prediction is a breed of dog → TRUE\n",
    "etc.\n",
    "* And the #1 prediction for the image in that tweet was spot on"
   ]
  },
  {
   "cell_type": "markdown",
   "id": "e3e02516",
   "metadata": {},
   "source": [
    "**Additional data from the Twitter API**<br/>\n",
    "Use the tweet IDs in the archived_df (WeRateDogs Twitter archive) above and query the Twitter API for each tweet's"
   ]
  },
  {
   "cell_type": "code",
   "execution_count": 12,
   "id": "5d9eb3db",
   "metadata": {},
   "outputs": [],
   "source": [
    "# API security keys\n",
    "consumer_key = os.environ.get('TWITTER_API_KEY')\n",
    "consumer_secret = os.environ.get('TWITTER_API_KEY_SECRET')\n",
    "access_token = os.environ.get('TWITTER_ACCESS_TOKEN')\n",
    "access_secret = os.environ.get('TWITTER_ACCESS_TOKEN_SECRET')"
   ]
  },
  {
   "cell_type": "code",
   "execution_count": 13,
   "id": "28127182",
   "metadata": {},
   "outputs": [],
   "source": [
    "auth = tweepy.OAuthHandler(consumer_key, consumer_secret)\n",
    "auth.set_access_token(access_token, access_secret)"
   ]
  },
  {
   "cell_type": "code",
   "execution_count": 14,
   "id": "debd6c62",
   "metadata": {},
   "outputs": [],
   "source": [
    "api = tweepy.API(auth, wait_on_rate_limit=True)"
   ]
  },
  {
   "cell_type": "code",
   "execution_count": 15,
   "id": "0cf0382b",
   "metadata": {},
   "outputs": [
    {
     "data": {
      "text/plain": [
       "True"
      ]
     },
     "execution_count": 15,
     "metadata": {},
     "output_type": "execute_result"
    }
   ],
   "source": [
    "# verify the tweet id in the archived_df are unique\n",
    "archived_df.tweet_id.nunique() == archived_df.shape[0]"
   ]
  },
  {
   "cell_type": "code",
   "execution_count": null,
   "id": "725ff0b8",
   "metadata": {},
   "outputs": [],
   "source": [
    "# Query Twitter's API for JSON data for each tweet ID in the Twitter archive\n",
    "count = 0\n",
    "failed_id = []\n",
    "start = timer()\n",
    "with open('tweet_json.txt', 'w') as file:\n",
    "    for tweet_id in archived_df.tweet_id.values:\n",
    "        try:\n",
    "            tweet = api.get_status(tweet_id, tweet_mode='extended')\n",
    "            json.dump(tweet._json, file)\n",
    "            file.write('\\n')\n",
    "            count += 1\n",
    "        except: \n",
    "            failed_id.append(tweet_id)\n",
    "            pass\n",
    "end = timer()\n",
    "print(end - start)"
   ]
  },
  {
   "cell_type": "markdown",
   "id": "b7bd9dd1",
   "metadata": {},
   "source": [
    "**confirmed that the code timed out, i have to extract the unsuccessful ids data again**"
   ]
  },
  {
   "cell_type": "code",
   "execution_count": 325,
   "id": "023e9f18",
   "metadata": {},
   "outputs": [],
   "source": [
    "count_like_data = []\n",
    "for i in range(archived_df.shape[0]):\n",
    "    with open('tweet-json.txt') as file:\n",
    "        j = file.readline()\n",
    "        data = json.loads(j)\n",
    "        data_id = data['id']\n",
    "        retweet_count = data[\"retweet_count\"]\n",
    "        favorite_count = data[\"favorite_count\"]\n",
    "        \n",
    "        count_like_data.append({\n",
    "            'id': data_id,\n",
    "            'retweet_count': retweet_count,\n",
    "            'favorite_count': favorite_count\n",
    "        })"
   ]
  },
  {
   "cell_type": "code",
   "execution_count": null,
   "id": "bff6500b",
   "metadata": {},
   "outputs": [],
   "source": []
  },
  {
   "cell_type": "code",
   "execution_count": 326,
   "id": "d2f9afd6",
   "metadata": {},
   "outputs": [],
   "source": [
    "# create a table of the following information: tweet ID, retweet count, and favorite count\n",
    "count_like_df = pd.DataFrame(count_like_data, columns=['id', 'retweet_count', 'favorite_count'])"
   ]
  },
  {
   "cell_type": "code",
   "execution_count": 327,
   "id": "d4148bf3",
   "metadata": {},
   "outputs": [
    {
     "data": {
      "text/html": [
       "<div>\n",
       "<style scoped>\n",
       "    .dataframe tbody tr th:only-of-type {\n",
       "        vertical-align: middle;\n",
       "    }\n",
       "\n",
       "    .dataframe tbody tr th {\n",
       "        vertical-align: top;\n",
       "    }\n",
       "\n",
       "    .dataframe thead th {\n",
       "        text-align: right;\n",
       "    }\n",
       "</style>\n",
       "<table border=\"1\" class=\"dataframe\">\n",
       "  <thead>\n",
       "    <tr style=\"text-align: right;\">\n",
       "      <th></th>\n",
       "      <th>id</th>\n",
       "      <th>retweet_count</th>\n",
       "      <th>favorite_count</th>\n",
       "    </tr>\n",
       "  </thead>\n",
       "  <tbody>\n",
       "    <tr>\n",
       "      <th>0</th>\n",
       "      <td>892420643555336193</td>\n",
       "      <td>8853</td>\n",
       "      <td>39467</td>\n",
       "    </tr>\n",
       "    <tr>\n",
       "      <th>1</th>\n",
       "      <td>892420643555336193</td>\n",
       "      <td>8853</td>\n",
       "      <td>39467</td>\n",
       "    </tr>\n",
       "    <tr>\n",
       "      <th>2</th>\n",
       "      <td>892420643555336193</td>\n",
       "      <td>8853</td>\n",
       "      <td>39467</td>\n",
       "    </tr>\n",
       "    <tr>\n",
       "      <th>3</th>\n",
       "      <td>892420643555336193</td>\n",
       "      <td>8853</td>\n",
       "      <td>39467</td>\n",
       "    </tr>\n",
       "    <tr>\n",
       "      <th>4</th>\n",
       "      <td>892420643555336193</td>\n",
       "      <td>8853</td>\n",
       "      <td>39467</td>\n",
       "    </tr>\n",
       "  </tbody>\n",
       "</table>\n",
       "</div>"
      ],
      "text/plain": [
       "                   id  retweet_count  favorite_count\n",
       "0  892420643555336193           8853           39467\n",
       "1  892420643555336193           8853           39467\n",
       "2  892420643555336193           8853           39467\n",
       "3  892420643555336193           8853           39467\n",
       "4  892420643555336193           8853           39467"
      ]
     },
     "execution_count": 327,
     "metadata": {},
     "output_type": "execute_result"
    }
   ],
   "source": [
    "count_like_df.head()"
   ]
  },
  {
   "cell_type": "code",
   "execution_count": 52,
   "id": "5f389de4",
   "metadata": {},
   "outputs": [
    {
     "name": "stdout",
     "output_type": "stream",
     "text": [
      "<class 'pandas.core.frame.DataFrame'>\n",
      "RangeIndex: 2354 entries, 0 to 2353\n",
      "Data columns (total 3 columns):\n",
      " #   Column          Non-Null Count  Dtype\n",
      "---  ------          --------------  -----\n",
      " 0   id              2354 non-null   int64\n",
      " 1   retweet_count   2354 non-null   int64\n",
      " 2   favorite_count  2354 non-null   int64\n",
      "dtypes: int64(3)\n",
      "memory usage: 55.3 KB\n"
     ]
    }
   ],
   "source": [
    "count_like_df.info()"
   ]
  },
  {
   "cell_type": "code",
   "execution_count": 54,
   "id": "8ce6d022",
   "metadata": {},
   "outputs": [
    {
     "data": {
      "text/plain": [
       "(2356, 17)"
      ]
     },
     "execution_count": 54,
     "metadata": {},
     "output_type": "execute_result"
    }
   ],
   "source": [
    "archived_df.shape"
   ]
  },
  {
   "cell_type": "markdown",
   "id": "446381fe",
   "metadata": {},
   "source": [
    "**Make a copy of all the dataset**"
   ]
  },
  {
   "cell_type": "code",
   "execution_count": 175,
   "id": "338e3f40",
   "metadata": {},
   "outputs": [],
   "source": [
    "archived_df_copy = archived_df.copy()\n",
    "count_like_df_copy = count_like_df.copy()\n",
    "image_df_copy = image_df.copy()"
   ]
  },
  {
   "cell_type": "markdown",
   "id": "2c04ecf9",
   "metadata": {},
   "source": [
    "### Access all Data: Messy and Low Quality Data"
   ]
  },
  {
   "cell_type": "markdown",
   "id": "182bdeac",
   "metadata": {},
   "source": [
    "###### archived_df_copy: Check if Data is Messy/Untidy"
   ]
  },
  {
   "cell_type": "code",
   "execution_count": 176,
   "id": "89962c8e",
   "metadata": {},
   "outputs": [
    {
     "data": {
      "text/html": [
       "<div>\n",
       "<style scoped>\n",
       "    .dataframe tbody tr th:only-of-type {\n",
       "        vertical-align: middle;\n",
       "    }\n",
       "\n",
       "    .dataframe tbody tr th {\n",
       "        vertical-align: top;\n",
       "    }\n",
       "\n",
       "    .dataframe thead th {\n",
       "        text-align: right;\n",
       "    }\n",
       "</style>\n",
       "<table border=\"1\" class=\"dataframe\">\n",
       "  <thead>\n",
       "    <tr style=\"text-align: right;\">\n",
       "      <th></th>\n",
       "      <th>tweet_id</th>\n",
       "      <th>in_reply_to_status_id</th>\n",
       "      <th>in_reply_to_user_id</th>\n",
       "      <th>timestamp</th>\n",
       "      <th>source</th>\n",
       "      <th>text</th>\n",
       "      <th>retweeted_status_id</th>\n",
       "      <th>retweeted_status_user_id</th>\n",
       "      <th>retweeted_status_timestamp</th>\n",
       "      <th>expanded_urls</th>\n",
       "      <th>rating_numerator</th>\n",
       "      <th>rating_denominator</th>\n",
       "      <th>name</th>\n",
       "      <th>doggo</th>\n",
       "      <th>floofer</th>\n",
       "      <th>pupper</th>\n",
       "      <th>puppo</th>\n",
       "    </tr>\n",
       "  </thead>\n",
       "  <tbody>\n",
       "    <tr>\n",
       "      <th>0</th>\n",
       "      <td>892420643555336193</td>\n",
       "      <td>NaN</td>\n",
       "      <td>NaN</td>\n",
       "      <td>2017-08-01 16:23:56 +0000</td>\n",
       "      <td>&lt;a href=\"http://twitter.com/download/iphone\" r...</td>\n",
       "      <td>This is Phineas. He's a mystical boy. Only eve...</td>\n",
       "      <td>NaN</td>\n",
       "      <td>NaN</td>\n",
       "      <td>NaN</td>\n",
       "      <td>https://twitter.com/dog_rates/status/892420643...</td>\n",
       "      <td>13</td>\n",
       "      <td>10</td>\n",
       "      <td>Phineas</td>\n",
       "      <td>None</td>\n",
       "      <td>None</td>\n",
       "      <td>None</td>\n",
       "      <td>None</td>\n",
       "    </tr>\n",
       "    <tr>\n",
       "      <th>1</th>\n",
       "      <td>892177421306343426</td>\n",
       "      <td>NaN</td>\n",
       "      <td>NaN</td>\n",
       "      <td>2017-08-01 00:17:27 +0000</td>\n",
       "      <td>&lt;a href=\"http://twitter.com/download/iphone\" r...</td>\n",
       "      <td>This is Tilly. She's just checking pup on you....</td>\n",
       "      <td>NaN</td>\n",
       "      <td>NaN</td>\n",
       "      <td>NaN</td>\n",
       "      <td>https://twitter.com/dog_rates/status/892177421...</td>\n",
       "      <td>13</td>\n",
       "      <td>10</td>\n",
       "      <td>Tilly</td>\n",
       "      <td>None</td>\n",
       "      <td>None</td>\n",
       "      <td>None</td>\n",
       "      <td>None</td>\n",
       "    </tr>\n",
       "  </tbody>\n",
       "</table>\n",
       "</div>"
      ],
      "text/plain": [
       "             tweet_id  in_reply_to_status_id  in_reply_to_user_id  \\\n",
       "0  892420643555336193                    NaN                  NaN   \n",
       "1  892177421306343426                    NaN                  NaN   \n",
       "\n",
       "                   timestamp  \\\n",
       "0  2017-08-01 16:23:56 +0000   \n",
       "1  2017-08-01 00:17:27 +0000   \n",
       "\n",
       "                                              source  \\\n",
       "0  <a href=\"http://twitter.com/download/iphone\" r...   \n",
       "1  <a href=\"http://twitter.com/download/iphone\" r...   \n",
       "\n",
       "                                                text  retweeted_status_id  \\\n",
       "0  This is Phineas. He's a mystical boy. Only eve...                  NaN   \n",
       "1  This is Tilly. She's just checking pup on you....                  NaN   \n",
       "\n",
       "   retweeted_status_user_id retweeted_status_timestamp  \\\n",
       "0                       NaN                        NaN   \n",
       "1                       NaN                        NaN   \n",
       "\n",
       "                                       expanded_urls  rating_numerator  \\\n",
       "0  https://twitter.com/dog_rates/status/892420643...                13   \n",
       "1  https://twitter.com/dog_rates/status/892177421...                13   \n",
       "\n",
       "   rating_denominator     name doggo floofer pupper puppo  \n",
       "0                  10  Phineas  None    None   None  None  \n",
       "1                  10    Tilly  None    None   None  None  "
      ]
     },
     "execution_count": 176,
     "metadata": {},
     "output_type": "execute_result"
    }
   ],
   "source": [
    "archived_df_copy.head(2)"
   ]
  },
  {
   "cell_type": "code",
   "execution_count": 177,
   "id": "35fcc48d",
   "metadata": {},
   "outputs": [
    {
     "name": "stdout",
     "output_type": "stream",
     "text": [
      "['None' 'doggo']\n",
      "['None' 'floofer']\n",
      "['None' 'pupper']\n",
      "['None' 'puppo']\n"
     ]
    }
   ],
   "source": [
    "# 'doggo', 'floofer', 'pupper', 'puppo' features seems to be messy. Lets unspect it\n",
    "potential_messy = ['doggo', 'floofer', 'pupper', 'puppo']\n",
    "for feat in potential_messy:\n",
    "    print(archived_df_copy[feat].unique())"
   ]
  },
  {
   "cell_type": "markdown",
   "id": "61ce7419",
   "metadata": {},
   "source": [
    "The archived data is untidy. The archived_df features: `doggo`, `floofer`, `pupper`, `puppo` are all dog stage names and are suppose to be values of a feature (i will call the feature `stage_name`)."
   ]
  },
  {
   "cell_type": "code",
   "execution_count": 178,
   "id": "90b09714",
   "metadata": {},
   "outputs": [
    {
     "data": {
      "text/plain": [
       "Index(['tweet_id', 'in_reply_to_status_id', 'in_reply_to_user_id', 'timestamp',\n",
       "       'source', 'text', 'retweeted_status_id', 'retweeted_status_user_id',\n",
       "       'retweeted_status_timestamp', 'expanded_urls', 'rating_numerator',\n",
       "       'rating_denominator', 'name', 'doggo', 'floofer', 'pupper', 'puppo'],\n",
       "      dtype='object')"
      ]
     },
     "execution_count": 178,
     "metadata": {},
     "output_type": "execute_result"
    }
   ],
   "source": [
    "archived_df_copy.columns"
   ]
  },
  {
   "cell_type": "markdown",
   "id": "15f7b7f6",
   "metadata": {},
   "source": [
    "check for number of observation without pet name"
   ]
  },
  {
   "cell_type": "code",
   "execution_count": 185,
   "id": "adb2b875",
   "metadata": {},
   "outputs": [
    {
     "data": {
      "text/plain": [
       "(1976, 17)"
      ]
     },
     "execution_count": 185,
     "metadata": {},
     "output_type": "execute_result"
    }
   ],
   "source": [
    "archived_df_copy.query('doggo==\"None\" & floofer==\"None\" & pupper==\"None\" & puppo==\"None\"')"
   ]
  },
  {
   "cell_type": "markdown",
   "id": "5e69e5d7",
   "metadata": {},
   "source": [
    "As shown above, the number of observation kwith missing pet name is `1976` of all `2355` total observations. I could have dropped all of those pet name features, but for the sake of emostrating the understandng of dealing with messy data, i will transform it"
   ]
  },
  {
   "cell_type": "code",
   "execution_count": 189,
   "id": "2306e18a",
   "metadata": {},
   "outputs": [],
   "source": [
    "# other_features = ['tweet_id', 'in_reply_to_status_id', 'in_reply_to_user_id', 'timestamp',\n",
    "#        'source', 'text', 'retweeted_status_id', 'retweeted_status_user_id',\n",
    "#        'retweeted_status_timestamp', 'expanded_urls', 'rating_numerator',\n",
    "#        'rating_denominator', 'name']\n",
    "# messy_pet_name = pd.melt(archived_df_copy, id_vars=other_features, value_vars=['doggo', 'floofer', 'pupper', 'puppo'],\n",
    "#                           var_name='stage_name', value_name='stage_name_value')"
   ]
  },
  {
   "cell_type": "code",
   "execution_count": 205,
   "id": "cad6c6be",
   "metadata": {},
   "outputs": [],
   "source": [
    "# create a new series as the size of the archived_df_copy with all None values\n",
    "archived_df_copy['stage_name'] = pd.Series('None', index=archived_df.index).astype('object')"
   ]
  },
  {
   "cell_type": "code",
   "execution_count": 216,
   "id": "6867dc4a",
   "metadata": {},
   "outputs": [],
   "source": [
    "for i in archived_df_copy.index:\n",
    "    if archived_df.doggo[i]==\"None\" and archived_df.floofer[i]==\"None\" and archived_df.pupper[i]==\"None\" and archived_df.puppo[i]==\"None\":\n",
    "        archived_df_copy.loc[i, 'stage_name'] = 'None'\n",
    "    elif archived_df.doggo[i]!=\"None\" and archived_df.floofer[i]==\"None\" and archived_df.pupper[i]==\"None\" and archived_df.puppo[i]==\"None\":\n",
    "        archived_df_copy.loc[i, 'stage_name'] = archived_df.doggo[i]\n",
    "    elif archived_df.doggo[i]==\"None\" and archived_df.floofer[i]!=\"None\" and archived_df.pupper[i]==\"None\" and archived_df.puppo[i]==\"None\":\n",
    "        archived_df_copy.loc[i, 'stage_name'] = archived_df.floofer[i]\n",
    "    elif archived_df.doggo[i]==\"None\" and archived_df.floofer[i]==\"None\" and archived_df.pupper[i]!=\"None\" and archived_df.puppo[i]==\"None\":\n",
    "        archived_df_copy.loc[i, 'stage_name'] = archived_df.pupper[i]\n",
    "    else:\n",
    "        archived_df_copy.loc[i, 'stage_name'] = archived_df.puppo[i]"
   ]
  },
  {
   "cell_type": "code",
   "execution_count": 217,
   "id": "ccf4b767",
   "metadata": {},
   "outputs": [
    {
     "data": {
      "text/plain": [
       "array(['None', 'doggo', 'puppo', 'pupper', 'floofer'], dtype=object)"
      ]
     },
     "execution_count": 217,
     "metadata": {},
     "output_type": "execute_result"
    }
   ],
   "source": [
    "archived_df_copy.stage_name.unique()"
   ]
  },
  {
   "cell_type": "markdown",
   "id": "35cf8970",
   "metadata": {},
   "source": [
    "I will be dropping the `doggo`, `puppo`, `pupper`, and `floofer` features altogether as below"
   ]
  },
  {
   "cell_type": "code",
   "execution_count": 219,
   "id": "8c0191cf",
   "metadata": {},
   "outputs": [],
   "source": [
    "archived_df_copy.drop(['doggo', 'puppo', 'pupper', 'floofer'], axis=1, inplace=True)"
   ]
  },
  {
   "cell_type": "markdown",
   "id": "a9d0fed3",
   "metadata": {},
   "source": [
    "Vserify the changes"
   ]
  },
  {
   "cell_type": "code",
   "execution_count": 220,
   "id": "c7113ee8",
   "metadata": {},
   "outputs": [
    {
     "data": {
      "text/html": [
       "<div>\n",
       "<style scoped>\n",
       "    .dataframe tbody tr th:only-of-type {\n",
       "        vertical-align: middle;\n",
       "    }\n",
       "\n",
       "    .dataframe tbody tr th {\n",
       "        vertical-align: top;\n",
       "    }\n",
       "\n",
       "    .dataframe thead th {\n",
       "        text-align: right;\n",
       "    }\n",
       "</style>\n",
       "<table border=\"1\" class=\"dataframe\">\n",
       "  <thead>\n",
       "    <tr style=\"text-align: right;\">\n",
       "      <th></th>\n",
       "      <th>tweet_id</th>\n",
       "      <th>in_reply_to_status_id</th>\n",
       "      <th>in_reply_to_user_id</th>\n",
       "      <th>timestamp</th>\n",
       "      <th>source</th>\n",
       "      <th>text</th>\n",
       "      <th>retweeted_status_id</th>\n",
       "      <th>retweeted_status_user_id</th>\n",
       "      <th>retweeted_status_timestamp</th>\n",
       "      <th>expanded_urls</th>\n",
       "      <th>rating_numerator</th>\n",
       "      <th>rating_denominator</th>\n",
       "      <th>name</th>\n",
       "      <th>stage_name</th>\n",
       "    </tr>\n",
       "  </thead>\n",
       "  <tbody>\n",
       "    <tr>\n",
       "      <th>0</th>\n",
       "      <td>892420643555336193</td>\n",
       "      <td>NaN</td>\n",
       "      <td>NaN</td>\n",
       "      <td>2017-08-01 16:23:56 +0000</td>\n",
       "      <td>&lt;a href=\"http://twitter.com/download/iphone\" r...</td>\n",
       "      <td>This is Phineas. He's a mystical boy. Only eve...</td>\n",
       "      <td>NaN</td>\n",
       "      <td>NaN</td>\n",
       "      <td>NaN</td>\n",
       "      <td>https://twitter.com/dog_rates/status/892420643...</td>\n",
       "      <td>13</td>\n",
       "      <td>10</td>\n",
       "      <td>Phineas</td>\n",
       "      <td>None</td>\n",
       "    </tr>\n",
       "    <tr>\n",
       "      <th>1</th>\n",
       "      <td>892177421306343426</td>\n",
       "      <td>NaN</td>\n",
       "      <td>NaN</td>\n",
       "      <td>2017-08-01 00:17:27 +0000</td>\n",
       "      <td>&lt;a href=\"http://twitter.com/download/iphone\" r...</td>\n",
       "      <td>This is Tilly. She's just checking pup on you....</td>\n",
       "      <td>NaN</td>\n",
       "      <td>NaN</td>\n",
       "      <td>NaN</td>\n",
       "      <td>https://twitter.com/dog_rates/status/892177421...</td>\n",
       "      <td>13</td>\n",
       "      <td>10</td>\n",
       "      <td>Tilly</td>\n",
       "      <td>None</td>\n",
       "    </tr>\n",
       "  </tbody>\n",
       "</table>\n",
       "</div>"
      ],
      "text/plain": [
       "             tweet_id  in_reply_to_status_id  in_reply_to_user_id  \\\n",
       "0  892420643555336193                    NaN                  NaN   \n",
       "1  892177421306343426                    NaN                  NaN   \n",
       "\n",
       "                   timestamp  \\\n",
       "0  2017-08-01 16:23:56 +0000   \n",
       "1  2017-08-01 00:17:27 +0000   \n",
       "\n",
       "                                              source  \\\n",
       "0  <a href=\"http://twitter.com/download/iphone\" r...   \n",
       "1  <a href=\"http://twitter.com/download/iphone\" r...   \n",
       "\n",
       "                                                text  retweeted_status_id  \\\n",
       "0  This is Phineas. He's a mystical boy. Only eve...                  NaN   \n",
       "1  This is Tilly. She's just checking pup on you....                  NaN   \n",
       "\n",
       "   retweeted_status_user_id retweeted_status_timestamp  \\\n",
       "0                       NaN                        NaN   \n",
       "1                       NaN                        NaN   \n",
       "\n",
       "                                       expanded_urls  rating_numerator  \\\n",
       "0  https://twitter.com/dog_rates/status/892420643...                13   \n",
       "1  https://twitter.com/dog_rates/status/892177421...                13   \n",
       "\n",
       "   rating_denominator     name stage_name  \n",
       "0                  10  Phineas       None  \n",
       "1                  10    Tilly       None  "
      ]
     },
     "execution_count": 220,
     "metadata": {},
     "output_type": "execute_result"
    }
   ],
   "source": [
    "archived_df_copy.head(2)"
   ]
  },
  {
   "cell_type": "markdown",
   "id": "df655ab6",
   "metadata": {},
   "source": [
    "**image_df_copy: Check if Data is Messy/Untidy**"
   ]
  },
  {
   "cell_type": "code",
   "execution_count": 222,
   "id": "ae4f2d74",
   "metadata": {},
   "outputs": [
    {
     "data": {
      "text/html": [
       "<div>\n",
       "<style scoped>\n",
       "    .dataframe tbody tr th:only-of-type {\n",
       "        vertical-align: middle;\n",
       "    }\n",
       "\n",
       "    .dataframe tbody tr th {\n",
       "        vertical-align: top;\n",
       "    }\n",
       "\n",
       "    .dataframe thead th {\n",
       "        text-align: right;\n",
       "    }\n",
       "</style>\n",
       "<table border=\"1\" class=\"dataframe\">\n",
       "  <thead>\n",
       "    <tr style=\"text-align: right;\">\n",
       "      <th></th>\n",
       "      <th>tweet_id</th>\n",
       "      <th>jpg_url</th>\n",
       "      <th>img_num</th>\n",
       "      <th>p1</th>\n",
       "      <th>p1_conf</th>\n",
       "      <th>p1_dog</th>\n",
       "      <th>p2</th>\n",
       "      <th>p2_conf</th>\n",
       "      <th>p2_dog</th>\n",
       "      <th>p3</th>\n",
       "      <th>p3_conf</th>\n",
       "      <th>p3_dog</th>\n",
       "    </tr>\n",
       "  </thead>\n",
       "  <tbody>\n",
       "    <tr>\n",
       "      <th>0</th>\n",
       "      <td>666020888022790149</td>\n",
       "      <td>https://pbs.twimg.com/media/CT4udn0WwAA0aMy.jpg</td>\n",
       "      <td>1</td>\n",
       "      <td>Welsh_springer_spaniel</td>\n",
       "      <td>0.465074</td>\n",
       "      <td>True</td>\n",
       "      <td>collie</td>\n",
       "      <td>0.156665</td>\n",
       "      <td>True</td>\n",
       "      <td>Shetland_sheepdog</td>\n",
       "      <td>0.061428</td>\n",
       "      <td>True</td>\n",
       "    </tr>\n",
       "    <tr>\n",
       "      <th>1</th>\n",
       "      <td>666029285002620928</td>\n",
       "      <td>https://pbs.twimg.com/media/CT42GRgUYAA5iDo.jpg</td>\n",
       "      <td>1</td>\n",
       "      <td>redbone</td>\n",
       "      <td>0.506826</td>\n",
       "      <td>True</td>\n",
       "      <td>miniature_pinscher</td>\n",
       "      <td>0.074192</td>\n",
       "      <td>True</td>\n",
       "      <td>Rhodesian_ridgeback</td>\n",
       "      <td>0.072010</td>\n",
       "      <td>True</td>\n",
       "    </tr>\n",
       "  </tbody>\n",
       "</table>\n",
       "</div>"
      ],
      "text/plain": [
       "             tweet_id                                          jpg_url  \\\n",
       "0  666020888022790149  https://pbs.twimg.com/media/CT4udn0WwAA0aMy.jpg   \n",
       "1  666029285002620928  https://pbs.twimg.com/media/CT42GRgUYAA5iDo.jpg   \n",
       "\n",
       "   img_num                      p1   p1_conf  p1_dog                  p2  \\\n",
       "0        1  Welsh_springer_spaniel  0.465074    True              collie   \n",
       "1        1                 redbone  0.506826    True  miniature_pinscher   \n",
       "\n",
       "    p2_conf  p2_dog                   p3   p3_conf  p3_dog  \n",
       "0  0.156665    True    Shetland_sheepdog  0.061428    True  \n",
       "1  0.074192    True  Rhodesian_ridgeback  0.072010    True  "
      ]
     },
     "execution_count": 222,
     "metadata": {},
     "output_type": "execute_result"
    }
   ],
   "source": [
    "image_df_copy.head(2)"
   ]
  },
  {
   "cell_type": "markdown",
   "id": "c1b525fa",
   "metadata": {},
   "source": [
    "This data frame is tidy enough."
   ]
  },
  {
   "cell_type": "markdown",
   "id": "3c5e883f",
   "metadata": {},
   "source": [
    "**count_like_df_copy: Check if Data is Messy/Untidy**"
   ]
  },
  {
   "cell_type": "code",
   "execution_count": 223,
   "id": "94bbfde2",
   "metadata": {},
   "outputs": [
    {
     "data": {
      "text/html": [
       "<div>\n",
       "<style scoped>\n",
       "    .dataframe tbody tr th:only-of-type {\n",
       "        vertical-align: middle;\n",
       "    }\n",
       "\n",
       "    .dataframe tbody tr th {\n",
       "        vertical-align: top;\n",
       "    }\n",
       "\n",
       "    .dataframe thead th {\n",
       "        text-align: right;\n",
       "    }\n",
       "</style>\n",
       "<table border=\"1\" class=\"dataframe\">\n",
       "  <thead>\n",
       "    <tr style=\"text-align: right;\">\n",
       "      <th></th>\n",
       "      <th>id</th>\n",
       "      <th>retweet_count</th>\n",
       "      <th>favorite_count</th>\n",
       "    </tr>\n",
       "  </thead>\n",
       "  <tbody>\n",
       "    <tr>\n",
       "      <th>0</th>\n",
       "      <td>892420643555336193</td>\n",
       "      <td>8853</td>\n",
       "      <td>39467</td>\n",
       "    </tr>\n",
       "    <tr>\n",
       "      <th>1</th>\n",
       "      <td>892177421306343426</td>\n",
       "      <td>6514</td>\n",
       "      <td>33819</td>\n",
       "    </tr>\n",
       "  </tbody>\n",
       "</table>\n",
       "</div>"
      ],
      "text/plain": [
       "                   id  retweet_count  favorite_count\n",
       "0  892420643555336193           8853           39467\n",
       "1  892177421306343426           6514           33819"
      ]
     },
     "execution_count": 223,
     "metadata": {},
     "output_type": "execute_result"
    }
   ],
   "source": [
    "count_like_df_copy.head(2)"
   ]
  },
  {
   "cell_type": "markdown",
   "id": "7e48a6ca",
   "metadata": {},
   "source": [
    "Lastly, this count_like_df data frame is also tidy"
   ]
  },
  {
   "cell_type": "markdown",
   "id": "0386fddf",
   "metadata": {},
   "source": [
    "### Check for Data Quality"
   ]
  },
  {
   "cell_type": "markdown",
   "id": "e28d99d0",
   "metadata": {},
   "source": [
    "#### Missing Values\n",
    "* **archived_df_copy: Missing Values**"
   ]
  },
  {
   "cell_type": "code",
   "execution_count": 224,
   "id": "2b0dec3f",
   "metadata": {},
   "outputs": [
    {
     "data": {
      "text/plain": [
       "tweet_id                         0\n",
       "in_reply_to_status_id         2278\n",
       "in_reply_to_user_id           2278\n",
       "timestamp                        0\n",
       "source                           0\n",
       "text                             0\n",
       "retweeted_status_id           2175\n",
       "retweeted_status_user_id      2175\n",
       "retweeted_status_timestamp    2175\n",
       "expanded_urls                   59\n",
       "rating_numerator                 0\n",
       "rating_denominator               0\n",
       "name                             0\n",
       "stage_name                       0\n",
       "dtype: int64"
      ]
     },
     "execution_count": 224,
     "metadata": {},
     "output_type": "execute_result"
    }
   ],
   "source": [
    "archived_df_copy.isna().sum()"
   ]
  },
  {
   "cell_type": "markdown",
   "id": "2de80855",
   "metadata": {},
   "source": [
    "There are `2356` observations in the archived data of which there are over `2000` missing values in the `in_reply_to_status_id`, `in_reply_to_user_id`, `retweeted_status_id`, `retweeted_status_user_id`, and `retweeted_status_timestamp` features. It is best to drop these features.   "
   ]
  },
  {
   "cell_type": "code",
   "execution_count": 225,
   "id": "073b3e25",
   "metadata": {},
   "outputs": [],
   "source": [
    "def drop_features(df, features):\n",
    "    \"\"\"\n",
    "    df: dataframe\n",
    "    features: list of features to drop\n",
    "    drop the number of features from the df dataframe\n",
    "    \"\"\"\n",
    "    df.drop(features, axis=1, inplace=True)"
   ]
  },
  {
   "cell_type": "code",
   "execution_count": 226,
   "id": "1bd771f9",
   "metadata": {},
   "outputs": [],
   "source": [
    "target_features = ['in_reply_to_status_id', 'in_reply_to_user_id', 'retweeted_status_id', \n",
    "                  'retweeted_status_user_id', 'retweeted_status_timestamp']\n",
    "drop_features(archived_df_copy, target_features)"
   ]
  },
  {
   "cell_type": "markdown",
   "id": "aac709eb",
   "metadata": {},
   "source": [
    "Examining the `expanded_urls` further"
   ]
  },
  {
   "cell_type": "code",
   "execution_count": 227,
   "id": "1eba4203",
   "metadata": {},
   "outputs": [],
   "source": [
    "expanded_urls = []\n",
    "for i in range(5):\n",
    "    expanded_urls.append(archived_df_copy.expanded_urls[0][-7:])"
   ]
  },
  {
   "cell_type": "code",
   "execution_count": 228,
   "id": "9a6afff1",
   "metadata": {},
   "outputs": [
    {
     "name": "stdout",
     "output_type": "stream",
     "text": [
      "https://twitter.com/dog_rates/status/892420643555336193/photo/1\n"
     ]
    },
    {
     "data": {
      "text/plain": [
       "array(['photo/1'], dtype=object)"
      ]
     },
     "execution_count": 228,
     "metadata": {},
     "output_type": "execute_result"
    }
   ],
   "source": [
    "print(archived_df_copy.expanded_urls[0])\n",
    "pd.Series(expanded_urls).unique()"
   ]
  },
  {
   "cell_type": "markdown",
   "id": "6728bd14",
   "metadata": {},
   "source": [
    "The only difference in all url in the `expanded_urls` feature is the tweet id"
   ]
  },
  {
   "cell_type": "code",
   "execution_count": 229,
   "id": "8e917e6f",
   "metadata": {},
   "outputs": [
    {
     "name": "stderr",
     "output_type": "stream",
     "text": [
      "<ipython-input-229-3a229c2d24bb>:5: SettingWithCopyWarning: \n",
      "A value is trying to be set on a copy of a slice from a DataFrame\n",
      "\n",
      "See the caveats in the documentation: https://pandas.pydata.org/pandas-docs/stable/user_guide/indexing.html#returning-a-view-versus-a-copy\n",
      "  archived_df_copy.expanded_urls[i] = 'https://twitter.com/dog_rates/status/'+str(archived_df_copy.tweet_id[i])+'/photo/1'\n"
     ]
    }
   ],
   "source": [
    "# filter all the nan observations in the expanded_urls\n",
    "temp = archived_df_copy[archived_df_copy.expanded_urls.isna()].index\n",
    "for i in range(archived_df_copy.shape[0]):\n",
    "    if i in temp:\n",
    "        archived_df_copy.expanded_urls[i] = 'https://twitter.com/dog_rates/status/'+str(archived_df_copy.tweet_id[i])+'/photo/1'"
   ]
  },
  {
   "cell_type": "markdown",
   "id": "79873ca3",
   "metadata": {},
   "source": [
    "Verify the removal of missing values"
   ]
  },
  {
   "cell_type": "code",
   "execution_count": 230,
   "id": "53d385ca",
   "metadata": {},
   "outputs": [
    {
     "data": {
      "text/plain": [
       "tweet_id              0\n",
       "timestamp             0\n",
       "source                0\n",
       "text                  0\n",
       "expanded_urls         0\n",
       "rating_numerator      0\n",
       "rating_denominator    0\n",
       "name                  0\n",
       "stage_name            0\n",
       "dtype: int64"
      ]
     },
     "execution_count": 230,
     "metadata": {},
     "output_type": "execute_result"
    }
   ],
   "source": [
    "archived_df_copy.isna().sum()"
   ]
  },
  {
   "cell_type": "markdown",
   "id": "d5de3f19",
   "metadata": {},
   "source": [
    "Now, the archived_df_copy is now free of missing data"
   ]
  },
  {
   "cell_type": "markdown",
   "id": "9d33ef0f",
   "metadata": {},
   "source": [
    "* **image_df_copy: Missing Values**"
   ]
  },
  {
   "cell_type": "code",
   "execution_count": 231,
   "id": "c27c8630",
   "metadata": {},
   "outputs": [
    {
     "data": {
      "text/plain": [
       "tweet_id    0\n",
       "jpg_url     0\n",
       "img_num     0\n",
       "p1          0\n",
       "p1_conf     0\n",
       "p1_dog      0\n",
       "p2          0\n",
       "p2_conf     0\n",
       "p2_dog      0\n",
       "p3          0\n",
       "p3_conf     0\n",
       "p3_dog      0\n",
       "dtype: int64"
      ]
     },
     "execution_count": 231,
     "metadata": {},
     "output_type": "execute_result"
    }
   ],
   "source": [
    "# examine image_df for missing values\n",
    "image_df_copy.isna().sum()"
   ]
  },
  {
   "cell_type": "markdown",
   "id": "3b5c16c8",
   "metadata": {},
   "source": [
    "No missing values in this dataframe"
   ]
  },
  {
   "cell_type": "markdown",
   "id": "2cd9a23c",
   "metadata": {},
   "source": [
    "* **count_like_df_copy: Missing Values**"
   ]
  },
  {
   "cell_type": "code",
   "execution_count": 232,
   "id": "a4825277",
   "metadata": {},
   "outputs": [
    {
     "data": {
      "text/plain": [
       "id                0\n",
       "retweet_count     0\n",
       "favorite_count    0\n",
       "dtype: int64"
      ]
     },
     "execution_count": 232,
     "metadata": {},
     "output_type": "execute_result"
    }
   ],
   "source": [
    "# check for missing values in the \n",
    "count_like_df_copy.isna().sum()"
   ]
  },
  {
   "cell_type": "markdown",
   "id": "8b755603",
   "metadata": {},
   "source": [
    "Also, no missing value"
   ]
  },
  {
   "cell_type": "markdown",
   "id": "b8324ea6",
   "metadata": {},
   "source": [
    "#### Duplicated Values\n",
    "* **archived_df_copy, image_df_copy, count_like_df_copy: Duplicated Values**"
   ]
  },
  {
   "cell_type": "code",
   "execution_count": 233,
   "id": "b49f1e2f",
   "metadata": {},
   "outputs": [
    {
     "data": {
      "text/plain": [
       "0"
      ]
     },
     "execution_count": 233,
     "metadata": {},
     "output_type": "execute_result"
    }
   ],
   "source": [
    "archived_df_copy.duplicated().sum()"
   ]
  },
  {
   "cell_type": "code",
   "execution_count": 234,
   "id": "204baa09",
   "metadata": {},
   "outputs": [
    {
     "data": {
      "text/plain": [
       "0"
      ]
     },
     "execution_count": 234,
     "metadata": {},
     "output_type": "execute_result"
    }
   ],
   "source": [
    "image_df_copy.duplicated().sum()"
   ]
  },
  {
   "cell_type": "code",
   "execution_count": 235,
   "id": "357a4d72",
   "metadata": {},
   "outputs": [
    {
     "data": {
      "text/plain": [
       "0"
      ]
     },
     "execution_count": 235,
     "metadata": {},
     "output_type": "execute_result"
    }
   ],
   "source": [
    "count_like_df_copy.duplicated().sum()"
   ]
  },
  {
   "cell_type": "markdown",
   "id": "87d82b70",
   "metadata": {},
   "source": [
    "There is no duplicatd values in any of the table "
   ]
  },
  {
   "cell_type": "markdown",
   "id": "909e87c9",
   "metadata": {},
   "source": [
    "####  Valid Type\n",
    "* **archived_df_copy: Valid Type**"
   ]
  },
  {
   "cell_type": "code",
   "execution_count": 236,
   "id": "755900bd",
   "metadata": {},
   "outputs": [
    {
     "name": "stdout",
     "output_type": "stream",
     "text": [
      "<class 'pandas.core.frame.DataFrame'>\n",
      "RangeIndex: 2356 entries, 0 to 2355\n",
      "Data columns (total 9 columns):\n",
      " #   Column              Non-Null Count  Dtype \n",
      "---  ------              --------------  ----- \n",
      " 0   tweet_id            2356 non-null   int64 \n",
      " 1   timestamp           2356 non-null   object\n",
      " 2   source              2356 non-null   object\n",
      " 3   text                2356 non-null   object\n",
      " 4   expanded_urls       2356 non-null   object\n",
      " 5   rating_numerator    2356 non-null   int64 \n",
      " 6   rating_denominator  2356 non-null   int64 \n",
      " 7   name                2356 non-null   object\n",
      " 8   stage_name          2356 non-null   object\n",
      "dtypes: int64(3), object(6)\n",
      "memory usage: 165.8+ KB\n"
     ]
    }
   ],
   "source": [
    "archived_df_copy.info()"
   ]
  },
  {
   "cell_type": "markdown",
   "id": "e4b200a5",
   "metadata": {},
   "source": [
    "The timestamp should be a datetime type"
   ]
  },
  {
   "cell_type": "code",
   "execution_count": 237,
   "id": "2c694e10",
   "metadata": {},
   "outputs": [],
   "source": [
    "archived_df_copy['timestamp'] = pd.to_datetime(archived_df_copy['timestamp'])"
   ]
  },
  {
   "cell_type": "markdown",
   "id": "69c247ac",
   "metadata": {},
   "source": [
    "Verify the changes"
   ]
  },
  {
   "cell_type": "code",
   "execution_count": 239,
   "id": "bcb6bace",
   "metadata": {},
   "outputs": [
    {
     "name": "stdout",
     "output_type": "stream",
     "text": [
      "<class 'pandas.core.frame.DataFrame'>\n",
      "RangeIndex: 2356 entries, 0 to 2355\n",
      "Data columns (total 9 columns):\n",
      " #   Column              Non-Null Count  Dtype              \n",
      "---  ------              --------------  -----              \n",
      " 0   tweet_id            2356 non-null   int64              \n",
      " 1   timestamp           2356 non-null   datetime64[ns, UTC]\n",
      " 2   source              2356 non-null   object             \n",
      " 3   text                2356 non-null   object             \n",
      " 4   expanded_urls       2356 non-null   object             \n",
      " 5   rating_numerator    2356 non-null   int64              \n",
      " 6   rating_denominator  2356 non-null   int64              \n",
      " 7   name                2356 non-null   object             \n",
      " 8   stage_name          2356 non-null   object             \n",
      "dtypes: datetime64[ns, UTC](1), int64(3), object(5)\n",
      "memory usage: 165.8+ KB\n"
     ]
    }
   ],
   "source": [
    "archived_df_copy.info()"
   ]
  },
  {
   "cell_type": "markdown",
   "id": "342dacb6",
   "metadata": {},
   "source": [
    "* **image_df_copy: Valid Type**"
   ]
  },
  {
   "cell_type": "code",
   "execution_count": 240,
   "id": "d3faee34",
   "metadata": {},
   "outputs": [
    {
     "name": "stdout",
     "output_type": "stream",
     "text": [
      "<class 'pandas.core.frame.DataFrame'>\n",
      "RangeIndex: 2075 entries, 0 to 2074\n",
      "Data columns (total 12 columns):\n",
      " #   Column    Non-Null Count  Dtype  \n",
      "---  ------    --------------  -----  \n",
      " 0   tweet_id  2075 non-null   int64  \n",
      " 1   jpg_url   2075 non-null   object \n",
      " 2   img_num   2075 non-null   int64  \n",
      " 3   p1        2075 non-null   object \n",
      " 4   p1_conf   2075 non-null   float64\n",
      " 5   p1_dog    2075 non-null   bool   \n",
      " 6   p2        2075 non-null   object \n",
      " 7   p2_conf   2075 non-null   float64\n",
      " 8   p2_dog    2075 non-null   bool   \n",
      " 9   p3        2075 non-null   object \n",
      " 10  p3_conf   2075 non-null   float64\n",
      " 11  p3_dog    2075 non-null   bool   \n",
      "dtypes: bool(3), float64(3), int64(2), object(4)\n",
      "memory usage: 152.1+ KB\n"
     ]
    }
   ],
   "source": [
    "image_df_copy.info()"
   ]
  },
  {
   "cell_type": "markdown",
   "id": "168b7791",
   "metadata": {},
   "source": [
    "The type of this `image_df_copy` is valid"
   ]
  },
  {
   "cell_type": "markdown",
   "id": "e35a49f8",
   "metadata": {},
   "source": [
    "* **count_like_df_copy: Valid Type**"
   ]
  },
  {
   "cell_type": "code",
   "execution_count": 150,
   "id": "514733c4",
   "metadata": {},
   "outputs": [
    {
     "name": "stdout",
     "output_type": "stream",
     "text": [
      "<class 'pandas.core.frame.DataFrame'>\n",
      "RangeIndex: 2354 entries, 0 to 2353\n",
      "Data columns (total 3 columns):\n",
      " #   Column          Non-Null Count  Dtype\n",
      "---  ------          --------------  -----\n",
      " 0   id              2354 non-null   int64\n",
      " 1   retweet_count   2354 non-null   int64\n",
      " 2   favorite_count  2354 non-null   int64\n",
      "dtypes: int64(3)\n",
      "memory usage: 55.3 KB\n"
     ]
    }
   ],
   "source": [
    "count_like_df_copy.info()"
   ]
  },
  {
   "cell_type": "markdown",
   "id": "5bd509b2",
   "metadata": {},
   "source": [
    "The type of this `count_like_df_copy` is also valid"
   ]
  },
  {
   "cell_type": "markdown",
   "id": "7a608ebe",
   "metadata": {},
   "source": [
    "#### Descriptive Column Names\n",
    "* **archived_df_copy: Descriptive Column Names** "
   ]
  },
  {
   "cell_type": "code",
   "execution_count": 241,
   "id": "a5ba4f20",
   "metadata": {},
   "outputs": [
    {
     "data": {
      "text/plain": [
       "Index(['tweet_id', 'timestamp', 'source', 'text', 'expanded_urls',\n",
       "       'rating_numerator', 'rating_denominator', 'name', 'stage_name'],\n",
       "      dtype='object')"
      ]
     },
     "execution_count": 241,
     "metadata": {},
     "output_type": "execute_result"
    }
   ],
   "source": [
    "archived_df_copy.columns"
   ]
  },
  {
   "cell_type": "code",
   "execution_count": 244,
   "id": "45c910e9",
   "metadata": {},
   "outputs": [],
   "source": [
    "# changing the timestamp feature to date\n",
    "archived_df_copy.rename({'timestamp':'date'}, axis=1, inplace=True)"
   ]
  },
  {
   "cell_type": "markdown",
   "id": "eccef916",
   "metadata": {},
   "source": [
    "Verify the changes"
   ]
  },
  {
   "cell_type": "code",
   "execution_count": 247,
   "id": "1c210d23",
   "metadata": {},
   "outputs": [
    {
     "data": {
      "text/plain": [
       "Index(['tweet_id', 'date', 'source', 'text', 'expanded_urls',\n",
       "       'rating_numerator', 'rating_denominator', 'name', 'stage_name'],\n",
       "      dtype='object')"
      ]
     },
     "execution_count": 247,
     "metadata": {},
     "output_type": "execute_result"
    }
   ],
   "source": [
    "archived_df_copy.columns"
   ]
  },
  {
   "cell_type": "markdown",
   "id": "77930941",
   "metadata": {},
   "source": [
    "* **image_df_copy: Descriptive Column Names** "
   ]
  },
  {
   "cell_type": "code",
   "execution_count": 248,
   "id": "7f5a8ad9",
   "metadata": {},
   "outputs": [
    {
     "data": {
      "text/plain": [
       "Index(['tweet_id', 'jpg_url', 'img_num', 'p1', 'p1_conf', 'p1_dog', 'p2',\n",
       "       'p2_conf', 'p2_dog', 'p3', 'p3_conf', 'p3_dog'],\n",
       "      dtype='object')"
      ]
     },
     "execution_count": 248,
     "metadata": {},
     "output_type": "execute_result"
    }
   ],
   "source": [
    "image_df_copy.columns"
   ]
  },
  {
   "cell_type": "code",
   "execution_count": 249,
   "id": "ceeb34d6",
   "metadata": {},
   "outputs": [],
   "source": [
    "# renaming the image_df\n",
    "image_df_copy.rename({'jpg_url':'image_url', 'p1':\"prediction1\", 'p1_conf':\"prediction1_confidence\", 'p1_dog':'prediction1_is_dog', \n",
    "                     'p2':\"prediction2\", 'p2_conf':\"prediction2_confidence\", 'p2_dog':'prediction2_is_dog',\n",
    "                     'p3':\"prediction3\", 'p3_conf':\"prediction3_confidence\", 'p3_dog':'prediction3_is_dog'}, \n",
    "                     axis=1, inplace=True)"
   ]
  },
  {
   "cell_type": "markdown",
   "id": "9a62effd",
   "metadata": {},
   "source": [
    "Verify the changes made to the feature names"
   ]
  },
  {
   "cell_type": "code",
   "execution_count": 250,
   "id": "6804ff7e",
   "metadata": {},
   "outputs": [
    {
     "data": {
      "text/plain": [
       "Index(['tweet_id', 'image_url', 'img_num', 'prediction1',\n",
       "       'prediction1_confidence', 'prediction1_is_dog', 'prediction2',\n",
       "       'prediction2_confidence', 'prediction2_is_dog', 'prediction3',\n",
       "       'prediction3_confidence', 'prediction3_is_dog'],\n",
       "      dtype='object')"
      ]
     },
     "execution_count": 250,
     "metadata": {},
     "output_type": "execute_result"
    }
   ],
   "source": [
    "image_df_copy.columns"
   ]
  },
  {
   "cell_type": "markdown",
   "id": "b4665cd9",
   "metadata": {},
   "source": [
    "* **count_like_df_copy: Descriptive Column Names** "
   ]
  },
  {
   "cell_type": "code",
   "execution_count": 251,
   "id": "f3801eb8",
   "metadata": {},
   "outputs": [
    {
     "data": {
      "text/plain": [
       "Index(['id', 'retweet_count', 'favorite_count'], dtype='object')"
      ]
     },
     "execution_count": 251,
     "metadata": {},
     "output_type": "execute_result"
    }
   ],
   "source": [
    "count_like_df_copy.columns"
   ]
  },
  {
   "cell_type": "code",
   "execution_count": 252,
   "id": "a98e5352",
   "metadata": {},
   "outputs": [],
   "source": [
    "# Rename the id feature to tweet_id as that of archgived_df_copy and image_df_copy()\n",
    "count_like_df_copy.rename({'id': 'tweet_id'}, axis=1, inplace=True)"
   ]
  },
  {
   "cell_type": "markdown",
   "id": "ab4e823b",
   "metadata": {},
   "source": [
    "Verify the changes"
   ]
  },
  {
   "cell_type": "code",
   "execution_count": 253,
   "id": "23f8de58",
   "metadata": {},
   "outputs": [
    {
     "data": {
      "text/plain": [
       "Index(['tweet_id', 'retweet_count', 'favorite_count'], dtype='object')"
      ]
     },
     "execution_count": 253,
     "metadata": {},
     "output_type": "execute_result"
    }
   ],
   "source": [
    "# Test the changes\n",
    "count_like_df_copy.columns"
   ]
  },
  {
   "cell_type": "markdown",
   "id": "d01c23fd",
   "metadata": {},
   "source": [
    "### Categorical Features\n",
    "* **archived_df_copy: Categorical Features**"
   ]
  },
  {
   "cell_type": "code",
   "execution_count": 254,
   "id": "51b292ad",
   "metadata": {},
   "outputs": [
    {
     "data": {
      "text/plain": [
       "tweet_id              2356\n",
       "date                  2356\n",
       "source                   4\n",
       "text                  2356\n",
       "expanded_urls         2277\n",
       "rating_numerator        40\n",
       "rating_denominator      18\n",
       "name                   957\n",
       "stage_name               5\n",
       "dtype: int64"
      ]
     },
     "execution_count": 254,
     "metadata": {},
     "output_type": "execute_result"
    }
   ],
   "source": [
    "archived_df_copy.nunique()"
   ]
  },
  {
   "cell_type": "markdown",
   "id": "5d531c6f",
   "metadata": {},
   "source": [
    "There are two features that seems to be categorical: `source` and `stage_name`"
   ]
  },
  {
   "cell_type": "code",
   "execution_count": 255,
   "id": "eb7199c0",
   "metadata": {},
   "outputs": [],
   "source": [
    "archived_df_copy.source = archived_df_copy.source.astype('category')\n",
    "archived_df_copy.stage_name = archived_df_copy.stage_name.astype('category')"
   ]
  },
  {
   "cell_type": "markdown",
   "id": "3fec45d0",
   "metadata": {},
   "source": [
    "Varufy the changes"
   ]
  },
  {
   "cell_type": "code",
   "execution_count": 256,
   "id": "476d5f63",
   "metadata": {},
   "outputs": [
    {
     "name": "stdout",
     "output_type": "stream",
     "text": [
      "<class 'pandas.core.frame.DataFrame'>\n",
      "Int64Index: 2356 entries, 0 to 2355\n",
      "Data columns (total 9 columns):\n",
      " #   Column              Non-Null Count  Dtype              \n",
      "---  ------              --------------  -----              \n",
      " 0   tweet_id            2356 non-null   int64              \n",
      " 1   date                2356 non-null   datetime64[ns, UTC]\n",
      " 2   source              2356 non-null   category           \n",
      " 3   text                2356 non-null   object             \n",
      " 4   expanded_urls       2356 non-null   object             \n",
      " 5   rating_numerator    2356 non-null   int64              \n",
      " 6   rating_denominator  2356 non-null   int64              \n",
      " 7   name                2356 non-null   object             \n",
      " 8   stage_name          2356 non-null   category           \n",
      "dtypes: category(2), datetime64[ns, UTC](1), int64(3), object(3)\n",
      "memory usage: 152.3+ KB\n"
     ]
    }
   ],
   "source": [
    "archived_df_copy.info()"
   ]
  },
  {
   "cell_type": "markdown",
   "id": "0be0ad04",
   "metadata": {},
   "source": [
    "* **image_df_copy: Categorical Features**"
   ]
  },
  {
   "cell_type": "code",
   "execution_count": 257,
   "id": "99c06819",
   "metadata": {},
   "outputs": [
    {
     "data": {
      "text/plain": [
       "tweet_id                  2075\n",
       "image_url                 2009\n",
       "img_num                      4\n",
       "prediction1                378\n",
       "prediction1_confidence    2006\n",
       "prediction1_is_dog           2\n",
       "prediction2                405\n",
       "prediction2_confidence    2004\n",
       "prediction2_is_dog           2\n",
       "prediction3                408\n",
       "prediction3_confidence    2006\n",
       "prediction3_is_dog           2\n",
       "dtype: int64"
      ]
     },
     "execution_count": 257,
     "metadata": {},
     "output_type": "execute_result"
    }
   ],
   "source": [
    "image_df_copy.nunique()"
   ]
  },
  {
   "cell_type": "markdown",
   "id": "dda20662",
   "metadata": {},
   "source": [
    "The features `img_num`, `prediction1_is_dog`, `prediction2_is_dog` and `prediction3_is_dog` seems to be categorical features"
   ]
  },
  {
   "cell_type": "code",
   "execution_count": 259,
   "id": "c1474dc6",
   "metadata": {},
   "outputs": [],
   "source": [
    "image_df_copy.img_num = image_df_copy.img_num.astype('category')\n",
    "image_df_copy.prediction1_is_dog = image_df_copy.prediction1_is_dog.astype('category')\n",
    "image_df_copy.prediction2_is_dog = image_df_copy.prediction2_is_dog.astype('category')\n",
    "image_df_copy.prediction3_is_dog = image_df_copy.prediction3_is_dog.astype('category')"
   ]
  },
  {
   "cell_type": "markdown",
   "id": "762203ba",
   "metadata": {},
   "source": [
    "Verify the changes"
   ]
  },
  {
   "cell_type": "code",
   "execution_count": 260,
   "id": "a3e415ef",
   "metadata": {},
   "outputs": [
    {
     "name": "stdout",
     "output_type": "stream",
     "text": [
      "<class 'pandas.core.frame.DataFrame'>\n",
      "RangeIndex: 2075 entries, 0 to 2074\n",
      "Data columns (total 12 columns):\n",
      " #   Column                  Non-Null Count  Dtype   \n",
      "---  ------                  --------------  -----   \n",
      " 0   tweet_id                2075 non-null   int64   \n",
      " 1   image_url               2075 non-null   object  \n",
      " 2   img_num                 2075 non-null   category\n",
      " 3   prediction1             2075 non-null   object  \n",
      " 4   prediction1_confidence  2075 non-null   float64 \n",
      " 5   prediction1_is_dog      2075 non-null   category\n",
      " 6   prediction2             2075 non-null   object  \n",
      " 7   prediction2_confidence  2075 non-null   float64 \n",
      " 8   prediction2_is_dog      2075 non-null   category\n",
      " 9   prediction3             2075 non-null   object  \n",
      " 10  prediction3_confidence  2075 non-null   float64 \n",
      " 11  prediction3_is_dog      2075 non-null   category\n",
      "dtypes: category(4), float64(3), int64(1), object(4)\n",
      "memory usage: 138.5+ KB\n"
     ]
    }
   ],
   "source": [
    "image_df_copy.info()"
   ]
  },
  {
   "cell_type": "markdown",
   "id": "4c6db443",
   "metadata": {},
   "source": [
    "* **count_like_df_copy: Categorical Features**"
   ]
  },
  {
   "cell_type": "code",
   "execution_count": 158,
   "id": "4e15f36a",
   "metadata": {},
   "outputs": [
    {
     "data": {
      "text/plain": [
       "tweet_id          2354\n",
       "retweet_count     1724\n",
       "favorite_count    2007\n",
       "dtype: int64"
      ]
     },
     "execution_count": 158,
     "metadata": {},
     "output_type": "execute_result"
    }
   ],
   "source": [
    "count_like_df_copy.nunique()"
   ]
  },
  {
   "cell_type": "markdown",
   "id": "58ec9fdc",
   "metadata": {},
   "source": [
    "These features does not require any any datatype transformation"
   ]
  },
  {
   "cell_type": "markdown",
   "id": "0c84345e",
   "metadata": {},
   "source": [
    "### Form a Rating Ration for the Rating Numerator and Denominator"
   ]
  },
  {
   "cell_type": "code",
   "execution_count": 279,
   "id": "4bafb04e",
   "metadata": {},
   "outputs": [],
   "source": [
    "archived_df_copy['rating_ratio'] = archived_df_copy['rating_numerator'] / archived_df_copy['rating_denominator'] "
   ]
  },
  {
   "cell_type": "markdown",
   "id": "672a451c",
   "metadata": {},
   "source": [
    "Verify the changes"
   ]
  },
  {
   "cell_type": "code",
   "execution_count": 281,
   "id": "f36c5a79",
   "metadata": {},
   "outputs": [
    {
     "data": {
      "text/html": [
       "<div>\n",
       "<style scoped>\n",
       "    .dataframe tbody tr th:only-of-type {\n",
       "        vertical-align: middle;\n",
       "    }\n",
       "\n",
       "    .dataframe tbody tr th {\n",
       "        vertical-align: top;\n",
       "    }\n",
       "\n",
       "    .dataframe thead th {\n",
       "        text-align: right;\n",
       "    }\n",
       "</style>\n",
       "<table border=\"1\" class=\"dataframe\">\n",
       "  <thead>\n",
       "    <tr style=\"text-align: right;\">\n",
       "      <th></th>\n",
       "      <th>rating_numerator</th>\n",
       "      <th>rating_denominator</th>\n",
       "      <th>rating_ratio</th>\n",
       "    </tr>\n",
       "  </thead>\n",
       "  <tbody>\n",
       "    <tr>\n",
       "      <th>0</th>\n",
       "      <td>13</td>\n",
       "      <td>10</td>\n",
       "      <td>1.3</td>\n",
       "    </tr>\n",
       "    <tr>\n",
       "      <th>1</th>\n",
       "      <td>13</td>\n",
       "      <td>10</td>\n",
       "      <td>1.3</td>\n",
       "    </tr>\n",
       "    <tr>\n",
       "      <th>2</th>\n",
       "      <td>12</td>\n",
       "      <td>10</td>\n",
       "      <td>1.2</td>\n",
       "    </tr>\n",
       "    <tr>\n",
       "      <th>3</th>\n",
       "      <td>13</td>\n",
       "      <td>10</td>\n",
       "      <td>1.3</td>\n",
       "    </tr>\n",
       "    <tr>\n",
       "      <th>4</th>\n",
       "      <td>12</td>\n",
       "      <td>10</td>\n",
       "      <td>1.2</td>\n",
       "    </tr>\n",
       "    <tr>\n",
       "      <th>5</th>\n",
       "      <td>13</td>\n",
       "      <td>10</td>\n",
       "      <td>1.3</td>\n",
       "    </tr>\n",
       "  </tbody>\n",
       "</table>\n",
       "</div>"
      ],
      "text/plain": [
       "   rating_numerator  rating_denominator  rating_ratio\n",
       "0                13                  10           1.3\n",
       "1                13                  10           1.3\n",
       "2                12                  10           1.2\n",
       "3                13                  10           1.3\n",
       "4                12                  10           1.2\n",
       "5                13                  10           1.3"
      ]
     },
     "execution_count": 281,
     "metadata": {},
     "output_type": "execute_result"
    }
   ],
   "source": [
    "archived_df_copy[['rating_numerator', 'rating_denominator', 'rating_ratio']][:6]"
   ]
  },
  {
   "cell_type": "markdown",
   "id": "41c40d76",
   "metadata": {},
   "source": [
    "### Final Tidiness\n",
    "There is a common feature to the three table which we will merge on"
   ]
  },
  {
   "cell_type": "code",
   "execution_count": 282,
   "id": "097e23d8",
   "metadata": {},
   "outputs": [],
   "source": [
    "new_df = archived_df_copy.merge(count_like_df_copy, how='inner', on='tweet_id')"
   ]
  },
  {
   "cell_type": "code",
   "execution_count": 283,
   "id": "b1a86384",
   "metadata": {},
   "outputs": [],
   "source": [
    "new_df =  new_df.merge(image_df_copy, how='inner', on='tweet_id')"
   ]
  },
  {
   "cell_type": "code",
   "execution_count": 284,
   "id": "e0e4c7ac",
   "metadata": {},
   "outputs": [
    {
     "name": "stdout",
     "output_type": "stream",
     "text": [
      "<class 'pandas.core.frame.DataFrame'>\n",
      "Int64Index: 2073 entries, 0 to 2072\n",
      "Data columns (total 23 columns):\n",
      " #   Column                  Non-Null Count  Dtype              \n",
      "---  ------                  --------------  -----              \n",
      " 0   tweet_id                2073 non-null   int64              \n",
      " 1   date                    2073 non-null   datetime64[ns, UTC]\n",
      " 2   source                  2073 non-null   category           \n",
      " 3   text                    2073 non-null   object             \n",
      " 4   expanded_urls           2073 non-null   object             \n",
      " 5   rating_numerator        2073 non-null   int64              \n",
      " 6   rating_denominator      2073 non-null   int64              \n",
      " 7   name                    2073 non-null   object             \n",
      " 8   stage_name              2073 non-null   category           \n",
      " 9   rating_ratio            2073 non-null   float64            \n",
      " 10  retweet_count           2073 non-null   int64              \n",
      " 11  favorite_count          2073 non-null   int64              \n",
      " 12  image_url               2073 non-null   object             \n",
      " 13  img_num                 2073 non-null   category           \n",
      " 14  prediction1             2073 non-null   object             \n",
      " 15  prediction1_confidence  2073 non-null   float64            \n",
      " 16  prediction1_is_dog      2073 non-null   category           \n",
      " 17  prediction2             2073 non-null   object             \n",
      " 18  prediction2_confidence  2073 non-null   float64            \n",
      " 19  prediction2_is_dog      2073 non-null   category           \n",
      " 20  prediction3             2073 non-null   object             \n",
      " 21  prediction3_confidence  2073 non-null   float64            \n",
      " 22  prediction3_is_dog      2073 non-null   category           \n",
      "dtypes: category(6), datetime64[ns, UTC](1), float64(4), int64(5), object(7)\n",
      "memory usage: 304.6+ KB\n"
     ]
    }
   ],
   "source": [
    "new_df.info()"
   ]
  },
  {
   "cell_type": "markdown",
   "id": "f0186405",
   "metadata": {},
   "source": [
    "### Save the New Dataframe"
   ]
  },
  {
   "cell_type": "code",
   "execution_count": 285,
   "id": "8b9608a2",
   "metadata": {},
   "outputs": [],
   "source": [
    "new_df.to_csv('twitter_archive_master.csv', index=False)"
   ]
  },
  {
   "cell_type": "markdown",
   "id": "e51a1444",
   "metadata": {},
   "source": [
    "### Save the New Dataframe in a Database"
   ]
  },
  {
   "cell_type": "code",
   "execution_count": 286,
   "id": "cbf5e41b",
   "metadata": {},
   "outputs": [],
   "source": [
    "from sqlalchemy import create_engine"
   ]
  },
  {
   "cell_type": "code",
   "execution_count": 287,
   "id": "df19d2c3",
   "metadata": {},
   "outputs": [],
   "source": [
    "# create a database named twitter_archive\n",
    "db = create_engine('sqlite:///twitter_archive.db')"
   ]
  },
  {
   "cell_type": "code",
   "execution_count": 288,
   "id": "818701df",
   "metadata": {},
   "outputs": [],
   "source": [
    "# save the new_df to the twitter_archive database and named it as twitter_archive_master table\n",
    "new_df.to_sql('twitter_archive_master', db, index=False)"
   ]
  },
  {
   "cell_type": "code",
   "execution_count": null,
   "id": "16b4f8ad",
   "metadata": {},
   "outputs": [],
   "source": []
  },
  {
   "cell_type": "markdown",
   "id": "313752b6",
   "metadata": {},
   "source": [
    "### Analyse and Visualize"
   ]
  },
  {
   "cell_type": "code",
   "execution_count": 289,
   "id": "4c37bf6b",
   "metadata": {},
   "outputs": [],
   "source": [
    "df = pd.read_csv('twitter_archive_master.csv')"
   ]
  },
  {
   "cell_type": "markdown",
   "id": "72a4ea18",
   "metadata": {},
   "source": [
    "**Summary Statistics of the numerical features**"
   ]
  },
  {
   "cell_type": "code",
   "execution_count": 298,
   "id": "753b32f9",
   "metadata": {},
   "outputs": [
    {
     "data": {
      "text/html": [
       "<div>\n",
       "<style scoped>\n",
       "    .dataframe tbody tr th:only-of-type {\n",
       "        vertical-align: middle;\n",
       "    }\n",
       "\n",
       "    .dataframe tbody tr th {\n",
       "        vertical-align: top;\n",
       "    }\n",
       "\n",
       "    .dataframe thead th {\n",
       "        text-align: right;\n",
       "    }\n",
       "</style>\n",
       "<table border=\"1\" class=\"dataframe\">\n",
       "  <thead>\n",
       "    <tr style=\"text-align: right;\">\n",
       "      <th></th>\n",
       "      <th>tweet_id</th>\n",
       "      <th>rating_numerator</th>\n",
       "      <th>rating_denominator</th>\n",
       "      <th>rating_ratio</th>\n",
       "      <th>retweet_count</th>\n",
       "      <th>favorite_count</th>\n",
       "      <th>img_num</th>\n",
       "      <th>prediction1_confidence</th>\n",
       "      <th>prediction2_confidence</th>\n",
       "      <th>prediction3_confidence</th>\n",
       "    </tr>\n",
       "  </thead>\n",
       "  <tbody>\n",
       "    <tr>\n",
       "      <th>count</th>\n",
       "      <td>2.073000e+03</td>\n",
       "      <td>2073.000000</td>\n",
       "      <td>2073.000000</td>\n",
       "      <td>2073.000000</td>\n",
       "      <td>2073.000000</td>\n",
       "      <td>2073.000000</td>\n",
       "      <td>2073.000000</td>\n",
       "      <td>2073.000000</td>\n",
       "      <td>2.073000e+03</td>\n",
       "      <td>2.073000e+03</td>\n",
       "    </tr>\n",
       "    <tr>\n",
       "      <th>mean</th>\n",
       "      <td>7.383634e+17</td>\n",
       "      <td>12.265798</td>\n",
       "      <td>10.511819</td>\n",
       "      <td>1.169987</td>\n",
       "      <td>2976.089243</td>\n",
       "      <td>8556.718283</td>\n",
       "      <td>1.203570</td>\n",
       "      <td>0.594532</td>\n",
       "      <td>1.346665e-01</td>\n",
       "      <td>6.034005e-02</td>\n",
       "    </tr>\n",
       "    <tr>\n",
       "      <th>std</th>\n",
       "      <td>6.780118e+16</td>\n",
       "      <td>40.699924</td>\n",
       "      <td>7.180517</td>\n",
       "      <td>3.988880</td>\n",
       "      <td>5054.897526</td>\n",
       "      <td>12098.640994</td>\n",
       "      <td>0.561856</td>\n",
       "      <td>0.271234</td>\n",
       "      <td>1.006830e-01</td>\n",
       "      <td>5.092769e-02</td>\n",
       "    </tr>\n",
       "    <tr>\n",
       "      <th>min</th>\n",
       "      <td>6.660209e+17</td>\n",
       "      <td>0.000000</td>\n",
       "      <td>2.000000</td>\n",
       "      <td>0.000000</td>\n",
       "      <td>16.000000</td>\n",
       "      <td>0.000000</td>\n",
       "      <td>1.000000</td>\n",
       "      <td>0.044333</td>\n",
       "      <td>1.011300e-08</td>\n",
       "      <td>1.740170e-10</td>\n",
       "    </tr>\n",
       "    <tr>\n",
       "      <th>25%</th>\n",
       "      <td>6.764706e+17</td>\n",
       "      <td>10.000000</td>\n",
       "      <td>10.000000</td>\n",
       "      <td>1.000000</td>\n",
       "      <td>634.000000</td>\n",
       "      <td>1674.000000</td>\n",
       "      <td>1.000000</td>\n",
       "      <td>0.364095</td>\n",
       "      <td>5.390140e-02</td>\n",
       "      <td>1.619920e-02</td>\n",
       "    </tr>\n",
       "    <tr>\n",
       "      <th>50%</th>\n",
       "      <td>7.119681e+17</td>\n",
       "      <td>11.000000</td>\n",
       "      <td>10.000000</td>\n",
       "      <td>1.100000</td>\n",
       "      <td>1408.000000</td>\n",
       "      <td>3864.000000</td>\n",
       "      <td>1.000000</td>\n",
       "      <td>0.588230</td>\n",
       "      <td>1.186220e-01</td>\n",
       "      <td>4.947150e-02</td>\n",
       "    </tr>\n",
       "    <tr>\n",
       "      <th>75%</th>\n",
       "      <td>7.931959e+17</td>\n",
       "      <td>12.000000</td>\n",
       "      <td>10.000000</td>\n",
       "      <td>1.200000</td>\n",
       "      <td>3443.000000</td>\n",
       "      <td>10937.000000</td>\n",
       "      <td>1.000000</td>\n",
       "      <td>0.843911</td>\n",
       "      <td>1.955730e-01</td>\n",
       "      <td>9.193000e-02</td>\n",
       "    </tr>\n",
       "    <tr>\n",
       "      <th>max</th>\n",
       "      <td>8.924206e+17</td>\n",
       "      <td>1776.000000</td>\n",
       "      <td>170.000000</td>\n",
       "      <td>177.600000</td>\n",
       "      <td>79515.000000</td>\n",
       "      <td>132810.000000</td>\n",
       "      <td>4.000000</td>\n",
       "      <td>1.000000</td>\n",
       "      <td>4.880140e-01</td>\n",
       "      <td>2.734190e-01</td>\n",
       "    </tr>\n",
       "  </tbody>\n",
       "</table>\n",
       "</div>"
      ],
      "text/plain": [
       "           tweet_id  rating_numerator  rating_denominator  rating_ratio  \\\n",
       "count  2.073000e+03       2073.000000         2073.000000   2073.000000   \n",
       "mean   7.383634e+17         12.265798           10.511819      1.169987   \n",
       "std    6.780118e+16         40.699924            7.180517      3.988880   \n",
       "min    6.660209e+17          0.000000            2.000000      0.000000   \n",
       "25%    6.764706e+17         10.000000           10.000000      1.000000   \n",
       "50%    7.119681e+17         11.000000           10.000000      1.100000   \n",
       "75%    7.931959e+17         12.000000           10.000000      1.200000   \n",
       "max    8.924206e+17       1776.000000          170.000000    177.600000   \n",
       "\n",
       "       retweet_count  favorite_count      img_num  prediction1_confidence  \\\n",
       "count    2073.000000     2073.000000  2073.000000             2073.000000   \n",
       "mean     2976.089243     8556.718283     1.203570                0.594532   \n",
       "std      5054.897526    12098.640994     0.561856                0.271234   \n",
       "min        16.000000        0.000000     1.000000                0.044333   \n",
       "25%       634.000000     1674.000000     1.000000                0.364095   \n",
       "50%      1408.000000     3864.000000     1.000000                0.588230   \n",
       "75%      3443.000000    10937.000000     1.000000                0.843911   \n",
       "max     79515.000000   132810.000000     4.000000                1.000000   \n",
       "\n",
       "       prediction2_confidence  prediction3_confidence  \n",
       "count            2.073000e+03            2.073000e+03  \n",
       "mean             1.346665e-01            6.034005e-02  \n",
       "std              1.006830e-01            5.092769e-02  \n",
       "min              1.011300e-08            1.740170e-10  \n",
       "25%              5.390140e-02            1.619920e-02  \n",
       "50%              1.186220e-01            4.947150e-02  \n",
       "75%              1.955730e-01            9.193000e-02  \n",
       "max              4.880140e-01            2.734190e-01  "
      ]
     },
     "execution_count": 298,
     "metadata": {},
     "output_type": "execute_result"
    }
   ],
   "source": [
    "df.describe()"
   ]
  },
  {
   "cell_type": "markdown",
   "id": "943affaf",
   "metadata": {},
   "source": [
    "**Top 5 most numerator rating values**"
   ]
  },
  {
   "cell_type": "code",
   "execution_count": 344,
   "id": "c0eed3a6",
   "metadata": {},
   "outputs": [
    {
     "data": {
      "text/html": [
       "<div>\n",
       "<style scoped>\n",
       "    .dataframe tbody tr th:only-of-type {\n",
       "        vertical-align: middle;\n",
       "    }\n",
       "\n",
       "    .dataframe tbody tr th {\n",
       "        vertical-align: top;\n",
       "    }\n",
       "\n",
       "    .dataframe thead th {\n",
       "        text-align: right;\n",
       "    }\n",
       "</style>\n",
       "<table border=\"1\" class=\"dataframe\">\n",
       "  <thead>\n",
       "    <tr style=\"text-align: right;\">\n",
       "      <th></th>\n",
       "      <th>nume_value</th>\n",
       "      <th>nume_count</th>\n",
       "      <th>nume_rate</th>\n",
       "    </tr>\n",
       "  </thead>\n",
       "  <tbody>\n",
       "    <tr>\n",
       "      <th>0</th>\n",
       "      <td>12</td>\n",
       "      <td>473</td>\n",
       "      <td>0.228172</td>\n",
       "    </tr>\n",
       "    <tr>\n",
       "      <th>1</th>\n",
       "      <td>10</td>\n",
       "      <td>429</td>\n",
       "      <td>0.206946</td>\n",
       "    </tr>\n",
       "    <tr>\n",
       "      <th>2</th>\n",
       "      <td>11</td>\n",
       "      <td>413</td>\n",
       "      <td>0.199228</td>\n",
       "    </tr>\n",
       "    <tr>\n",
       "      <th>3</th>\n",
       "      <td>13</td>\n",
       "      <td>283</td>\n",
       "      <td>0.136517</td>\n",
       "    </tr>\n",
       "    <tr>\n",
       "      <th>4</th>\n",
       "      <td>9</td>\n",
       "      <td>151</td>\n",
       "      <td>0.072841</td>\n",
       "    </tr>\n",
       "  </tbody>\n",
       "</table>\n",
       "</div>"
      ],
      "text/plain": [
       "   nume_value  nume_count  nume_rate\n",
       "0          12         473   0.228172\n",
       "1          10         429   0.206946\n",
       "2          11         413   0.199228\n",
       "3          13         283   0.136517\n",
       "4           9         151   0.072841"
      ]
     },
     "execution_count": 344,
     "metadata": {},
     "output_type": "execute_result"
    }
   ],
   "source": [
    "nume = df.rating_numerator.value_counts()\n",
    "nume_df = pd.DataFrame({'nume_value':nume.index, 'nume_count':nume.values})\n",
    "nume_df['nume_rate'] = nume_df['nume_count'] / sum(nume_df['nume_count'])\n",
    "nume_df[:5]"
   ]
  },
  {
   "cell_type": "code",
   "execution_count": 346,
   "id": "32967b59",
   "metadata": {},
   "outputs": [
    {
     "data": {
      "text/plain": [
       "<AxesSubplot:xlabel='nume_value', ylabel='nume_count'>"
      ]
     },
     "execution_count": 346,
     "metadata": {},
     "output_type": "execute_result"
    },
    {
     "data": {
      "image/png": "[encoded data removed]",
      "text/plain": [
       "<Figure size 432x288 with 1 Axes>"
      ]
     },
     "metadata": {},
     "output_type": "display_data"
    }
   ],
   "source": [
    "sns.barplot(x='nume_value', y='nume_count', data=nume_df[:5])"
   ]
  },
  {
   "cell_type": "markdown",
   "id": "5c2203a1",
   "metadata": {},
   "source": [
    "The highest numerator rating for a pet is `12`"
   ]
  },
  {
   "cell_type": "markdown",
   "id": "cd68e191",
   "metadata": {},
   "source": [
    "**5 Least numerator rating values?**"
   ]
  },
  {
   "cell_type": "code",
   "execution_count": 347,
   "id": "c4f2395e",
   "metadata": {},
   "outputs": [
    {
     "data": {
      "text/plain": [
       "<AxesSubplot:xlabel='nume_value', ylabel='nume_count'>"
      ]
     },
     "execution_count": 347,
     "metadata": {},
     "output_type": "execute_result"
    },
    {
     "data": {
      "image/png": "[encoded data removed]",
      "text/plain": [
       "<Figure size 432x288 with 1 Axes>"
      ]
     },
     "metadata": {},
     "output_type": "display_data"
    }
   ],
   "source": [
    "sns.barplot(x='nume_value', y='nume_count', data=nume_df[-5:])"
   ]
  },
  {
   "cell_type": "markdown",
   "id": "f323774b",
   "metadata": {},
   "source": [
    "The minimum numerator rating is `1`"
   ]
  },
  {
   "cell_type": "markdown",
   "id": "dcdfb61b",
   "metadata": {},
   "source": [
    "**What proportion of the data has a denominator rating of 10?**"
   ]
  },
  {
   "cell_type": "code",
   "execution_count": 341,
   "id": "4cf8b718",
   "metadata": {},
   "outputs": [
    {
     "data": {
      "text/html": [
       "<div>\n",
       "<style scoped>\n",
       "    .dataframe tbody tr th:only-of-type {\n",
       "        vertical-align: middle;\n",
       "    }\n",
       "\n",
       "    .dataframe tbody tr th {\n",
       "        vertical-align: top;\n",
       "    }\n",
       "\n",
       "    .dataframe thead th {\n",
       "        text-align: right;\n",
       "    }\n",
       "</style>\n",
       "<table border=\"1\" class=\"dataframe\">\n",
       "  <thead>\n",
       "    <tr style=\"text-align: right;\">\n",
       "      <th></th>\n",
       "      <th>denom_value</th>\n",
       "      <th>denom_count</th>\n",
       "      <th>denom_rate</th>\n",
       "    </tr>\n",
       "  </thead>\n",
       "  <tbody>\n",
       "    <tr>\n",
       "      <th>0</th>\n",
       "      <td>10</td>\n",
       "      <td>2055</td>\n",
       "      <td>0.991317</td>\n",
       "    </tr>\n",
       "    <tr>\n",
       "      <th>1</th>\n",
       "      <td>50</td>\n",
       "      <td>3</td>\n",
       "      <td>0.001447</td>\n",
       "    </tr>\n",
       "    <tr>\n",
       "      <th>2</th>\n",
       "      <td>80</td>\n",
       "      <td>2</td>\n",
       "      <td>0.000965</td>\n",
       "    </tr>\n",
       "    <tr>\n",
       "      <th>3</th>\n",
       "      <td>11</td>\n",
       "      <td>2</td>\n",
       "      <td>0.000965</td>\n",
       "    </tr>\n",
       "    <tr>\n",
       "      <th>4</th>\n",
       "      <td>2</td>\n",
       "      <td>1</td>\n",
       "      <td>0.000482</td>\n",
       "    </tr>\n",
       "    <tr>\n",
       "      <th>5</th>\n",
       "      <td>20</td>\n",
       "      <td>1</td>\n",
       "      <td>0.000482</td>\n",
       "    </tr>\n",
       "    <tr>\n",
       "      <th>6</th>\n",
       "      <td>40</td>\n",
       "      <td>1</td>\n",
       "      <td>0.000482</td>\n",
       "    </tr>\n",
       "    <tr>\n",
       "      <th>7</th>\n",
       "      <td>70</td>\n",
       "      <td>1</td>\n",
       "      <td>0.000482</td>\n",
       "    </tr>\n",
       "    <tr>\n",
       "      <th>8</th>\n",
       "      <td>90</td>\n",
       "      <td>1</td>\n",
       "      <td>0.000482</td>\n",
       "    </tr>\n",
       "    <tr>\n",
       "      <th>9</th>\n",
       "      <td>110</td>\n",
       "      <td>1</td>\n",
       "      <td>0.000482</td>\n",
       "    </tr>\n",
       "    <tr>\n",
       "      <th>10</th>\n",
       "      <td>120</td>\n",
       "      <td>1</td>\n",
       "      <td>0.000482</td>\n",
       "    </tr>\n",
       "    <tr>\n",
       "      <th>11</th>\n",
       "      <td>130</td>\n",
       "      <td>1</td>\n",
       "      <td>0.000482</td>\n",
       "    </tr>\n",
       "    <tr>\n",
       "      <th>12</th>\n",
       "      <td>150</td>\n",
       "      <td>1</td>\n",
       "      <td>0.000482</td>\n",
       "    </tr>\n",
       "    <tr>\n",
       "      <th>13</th>\n",
       "      <td>170</td>\n",
       "      <td>1</td>\n",
       "      <td>0.000482</td>\n",
       "    </tr>\n",
       "    <tr>\n",
       "      <th>14</th>\n",
       "      <td>7</td>\n",
       "      <td>1</td>\n",
       "      <td>0.000482</td>\n",
       "    </tr>\n",
       "  </tbody>\n",
       "</table>\n",
       "</div>"
      ],
      "text/plain": [
       "    denom_value  denom_count  denom_rate\n",
       "0            10         2055    0.991317\n",
       "1            50            3    0.001447\n",
       "2            80            2    0.000965\n",
       "3            11            2    0.000965\n",
       "4             2            1    0.000482\n",
       "5            20            1    0.000482\n",
       "6            40            1    0.000482\n",
       "7            70            1    0.000482\n",
       "8            90            1    0.000482\n",
       "9           110            1    0.000482\n",
       "10          120            1    0.000482\n",
       "11          130            1    0.000482\n",
       "12          150            1    0.000482\n",
       "13          170            1    0.000482\n",
       "14            7            1    0.000482"
      ]
     },
     "execution_count": 341,
     "metadata": {},
     "output_type": "execute_result"
    }
   ],
   "source": [
    "denom = df.rating_denominator.value_counts()\n",
    "denom_df = pd.DataFrame({'denom_value':denom.index, 'denom_count':denom.values})\n",
    "denom_df['denom_rate'] = denom_df['denom_count'] / sum(denom_df['denom_count'])\n",
    "denom_df"
   ]
  },
  {
   "cell_type": "code",
   "execution_count": 335,
   "id": "8babf3df",
   "metadata": {},
   "outputs": [
    {
     "name": "stderr",
     "output_type": "stream",
     "text": [
      "C:\\Users\\PT WORLD\\anaconda3\\lib\\site-packages\\seaborn\\_decorators.py:36: FutureWarning: Pass the following variable as a keyword arg: x. From version 0.12, the only valid positional argument will be `data`, and passing other arguments without an explicit keyword will result in an error or misinterpretation.\n",
      "  warnings.warn(\n"
     ]
    },
    {
     "data": {
      "image/png": "[encoded data removed]",
      "text/plain": [
       "<Figure size 432x288 with 1 Axes>"
      ]
     },
     "metadata": {},
     "output_type": "display_data"
    }
   ],
   "source": [
    "g = sns.countplot(df.rating_denominator)\n",
    "g.set_yscale('log')"
   ]
  },
  {
   "cell_type": "markdown",
   "id": "6a30e67b",
   "metadata": {},
   "source": [
    "`99%` of the denominator rating value is `10` and the remaining `1%` of the denominator rating value is between `1` and `14`"
   ]
  },
  {
   "cell_type": "markdown",
   "id": "74262c1a",
   "metadata": {},
   "source": [
    "**What is the average rating of pets?**"
   ]
  },
  {
   "cell_type": "code",
   "execution_count": 295,
   "id": "0e349973",
   "metadata": {},
   "outputs": [
    {
     "data": {
      "text/plain": [
       "count    2073.000000\n",
       "mean        1.169987\n",
       "std         3.988880\n",
       "min         0.000000\n",
       "25%         1.000000\n",
       "50%         1.100000\n",
       "75%         1.200000\n",
       "max       177.600000\n",
       "Name: rating_ratio, dtype: float64"
      ]
     },
     "execution_count": 295,
     "metadata": {},
     "output_type": "execute_result"
    }
   ],
   "source": [
    "df.rating_ratio.describe()"
   ]
  },
  {
   "cell_type": "markdown",
   "id": "ce3746a0",
   "metadata": {},
   "source": [
    "There seems to be an outliers from the visualization above. But the average rating of pets in the dataset is `1.17`."
   ]
  },
  {
   "cell_type": "markdown",
   "id": "a74a371b",
   "metadata": {},
   "source": [
    "**Relationship between the numerator rating and the denominator rating**"
   ]
  },
  {
   "cell_type": "code",
   "execution_count": 314,
   "id": "a31686b1",
   "metadata": {},
   "outputs": [
    {
     "data": {
      "text/plain": [
       "Text(0, 0.5, 'Rating Numerator')"
      ]
     },
     "execution_count": 314,
     "metadata": {},
     "output_type": "execute_result"
    },
    {
     "data": {
      "image/png": "[encoded data removed]",
      "text/plain": [
       "<Figure size 432x288 with 1 Axes>"
      ]
     },
     "metadata": {},
     "output_type": "display_data"
    }
   ],
   "source": [
    "plt.scatter(x='rating_denominator', y='rating_numerator', data=df)\n",
    "plt.title('Relationship between Rating Denominator and Numerator')\n",
    "plt.xlabel('Rating Denominator')\n",
    "plt.ylabel('Rating Numerator')"
   ]
  },
  {
   "cell_type": "markdown",
   "id": "528296f6",
   "metadata": {},
   "source": [
    "There seems to be a positive correlation between the rating numerator and denominator. Note, however, that correlation do not imply causation."
   ]
  },
  {
   "cell_type": "markdown",
   "id": "4f436ba2",
   "metadata": {},
   "source": [
    "**Highest number of pet images**"
   ]
  },
  {
   "cell_type": "code",
   "execution_count": 309,
   "id": "a649afdc",
   "metadata": {},
   "outputs": [
    {
     "data": {
      "text/html": [
       "<div>\n",
       "<style scoped>\n",
       "    .dataframe tbody tr th:only-of-type {\n",
       "        vertical-align: middle;\n",
       "    }\n",
       "\n",
       "    .dataframe tbody tr th {\n",
       "        vertical-align: top;\n",
       "    }\n",
       "\n",
       "    .dataframe thead th {\n",
       "        text-align: right;\n",
       "    }\n",
       "</style>\n",
       "<table border=\"1\" class=\"dataframe\">\n",
       "  <thead>\n",
       "    <tr style=\"text-align: right;\">\n",
       "      <th></th>\n",
       "      <th>img_num</th>\n",
       "      <th>img_num_count</th>\n",
       "      <th>img_num_rate</th>\n",
       "    </tr>\n",
       "  </thead>\n",
       "  <tbody>\n",
       "    <tr>\n",
       "      <th>0</th>\n",
       "      <td>1</td>\n",
       "      <td>1779</td>\n",
       "      <td>0.858177</td>\n",
       "    </tr>\n",
       "    <tr>\n",
       "      <th>1</th>\n",
       "      <td>2</td>\n",
       "      <td>197</td>\n",
       "      <td>0.095031</td>\n",
       "    </tr>\n",
       "    <tr>\n",
       "      <th>2</th>\n",
       "      <td>3</td>\n",
       "      <td>66</td>\n",
       "      <td>0.031838</td>\n",
       "    </tr>\n",
       "    <tr>\n",
       "      <th>3</th>\n",
       "      <td>4</td>\n",
       "      <td>31</td>\n",
       "      <td>0.014954</td>\n",
       "    </tr>\n",
       "  </tbody>\n",
       "</table>\n",
       "</div>"
      ],
      "text/plain": [
       "   img_num  img_num_count  img_num_rate\n",
       "0        1           1779      0.858177\n",
       "1        2            197      0.095031\n",
       "2        3             66      0.031838\n",
       "3        4             31      0.014954"
      ]
     },
     "execution_count": 309,
     "metadata": {},
     "output_type": "execute_result"
    }
   ],
   "source": [
    "img_num_count = df['img_num'].value_counts()\n",
    "img_num_df = pd.DataFrame({'img_num':img_num_count.index, 'img_num_count':img_num_count.values})\n",
    "img_num_df['img_num_rate'] = img_num_df['img_num_count'] / sum(img_num_df['img_num_count'])\n",
    "img_num_df"
   ]
  },
  {
   "cell_type": "code",
   "execution_count": 316,
   "id": "6ecce41f",
   "metadata": {},
   "outputs": [
    {
     "name": "stderr",
     "output_type": "stream",
     "text": [
      "C:\\Users\\PT WORLD\\anaconda3\\lib\\site-packages\\seaborn\\_decorators.py:36: FutureWarning: Pass the following variable as a keyword arg: x. From version 0.12, the only valid positional argument will be `data`, and passing other arguments without an explicit keyword will result in an error or misinterpretation.\n",
      "  warnings.warn(\n"
     ]
    },
    {
     "data": {
      "text/plain": [
       "Text(0, 0.5, 'Count of Image No.')"
      ]
     },
     "execution_count": 316,
     "metadata": {},
     "output_type": "execute_result"
    },
    {
     "data": {
      "image/png": "[encoded data removed]",
      "text/plain": [
       "<Figure size 432x288 with 1 Axes>"
      ]
     },
     "metadata": {},
     "output_type": "display_data"
    }
   ],
   "source": [
    "sns.countplot(df['img_num'])\n",
    "plt.title('Count of Catehories of Uploaded Images')\n",
    "plt.xlabel('Image Number Category')\n",
    "plt.ylabel('Count of Image No.')"
   ]
  },
  {
   "cell_type": "markdown",
   "id": "9fe72193",
   "metadata": {},
   "source": [
    "`85%` of the whole observation has one image (the minimum number of image for a pet in the dataset) for a pet. But only `1%` of the pet has four images which is the highest number of images of a pet in the dataset."
   ]
  },
  {
   "cell_type": "markdown",
   "id": "d26c239b",
   "metadata": {},
   "source": [
    "**Does number of image for a pet affects the confidence of it being predicted accurately by the best model?**"
   ]
  },
  {
   "cell_type": "code",
   "execution_count": 312,
   "id": "505803f5",
   "metadata": {},
   "outputs": [
    {
     "data": {
      "text/html": [
       "<div>\n",
       "<style scoped>\n",
       "    .dataframe tbody tr th:only-of-type {\n",
       "        vertical-align: middle;\n",
       "    }\n",
       "\n",
       "    .dataframe tbody tr th {\n",
       "        vertical-align: top;\n",
       "    }\n",
       "\n",
       "    .dataframe thead th {\n",
       "        text-align: right;\n",
       "    }\n",
       "</style>\n",
       "<table border=\"1\" class=\"dataframe\">\n",
       "  <thead>\n",
       "    <tr style=\"text-align: right;\">\n",
       "      <th></th>\n",
       "      <th>img_num</th>\n",
       "      <th>prediction1_confidence</th>\n",
       "    </tr>\n",
       "  </thead>\n",
       "  <tbody>\n",
       "    <tr>\n",
       "      <th>0</th>\n",
       "      <td>1</td>\n",
       "      <td>0.572428</td>\n",
       "    </tr>\n",
       "    <tr>\n",
       "      <th>1</th>\n",
       "      <td>2</td>\n",
       "      <td>0.703495</td>\n",
       "    </tr>\n",
       "    <tr>\n",
       "      <th>2</th>\n",
       "      <td>3</td>\n",
       "      <td>0.759897</td>\n",
       "    </tr>\n",
       "    <tr>\n",
       "      <th>3</th>\n",
       "      <td>4</td>\n",
       "      <td>0.818488</td>\n",
       "    </tr>\n",
       "  </tbody>\n",
       "</table>\n",
       "</div>"
      ],
      "text/plain": [
       "   img_num  prediction1_confidence\n",
       "0        1                0.572428\n",
       "1        2                0.703495\n",
       "2        3                0.759897\n",
       "3        4                0.818488"
      ]
     },
     "execution_count": 312,
     "metadata": {},
     "output_type": "execute_result"
    }
   ],
   "source": [
    "img_num_confidence = df.groupby('img_num')['prediction1_confidence'].mean().reset_index()\n",
    "img_num_confidence"
   ]
  },
  {
   "cell_type": "code",
   "execution_count": 317,
   "id": "beb6a0d4",
   "metadata": {},
   "outputs": [
    {
     "data": {
      "text/plain": [
       "Text(0, 0.5, 'Confidence of Prediction')"
      ]
     },
     "execution_count": 317,
     "metadata": {},
     "output_type": "execute_result"
    },
    {
     "data": {
      "image/png": "[encoded data removed]",
      "text/plain": [
       "<Figure size 432x288 with 1 Axes>"
      ]
     },
     "metadata": {},
     "output_type": "display_data"
    }
   ],
   "source": [
    "sns.barplot(x='img_num', y='prediction1_confidence', data=img_num_confidence)\n",
    "plt.title('Effect of Number of Images on Model Performance')\n",
    "plt.xlabel('Image Number Category')\n",
    "plt.ylabel('Confidence of Prediction')"
   ]
  },
  {
   "cell_type": "markdown",
   "id": "ce92abc2",
   "metadata": {},
   "source": [
    "As can be seen from above, the number of images for a pet improves the accuracy of the prediction model"
   ]
  },
  {
   "cell_type": "markdown",
   "id": "ff2785d4",
   "metadata": {},
   "source": [
    "**How does ratings relate to favorite_count?**"
   ]
  },
  {
   "cell_type": "code",
   "execution_count": 350,
   "id": "22b2708c",
   "metadata": {},
   "outputs": [
    {
     "data": {
      "text/plain": [
       "Text(0, 0.5, 'Favorite Count')"
      ]
     },
     "execution_count": 350,
     "metadata": {},
     "output_type": "execute_result"
    },
    {
     "data": {
      "image/png": "[encoded data removed]",
      "text/plain": [
       "<Figure size 432x288 with 1 Axes>"
      ]
     },
     "metadata": {},
     "output_type": "display_data"
    }
   ],
   "source": [
    "sns.scatterplot(x='rating_ratio', y='favorite_count', data=df)\n",
    "plt.title('Relationship Between Ratings and Favorite Count')\n",
    "plt.xlabel('Rating')\n",
    "plt.ylabel('Favorite Count')"
   ]
  },
  {
   "cell_type": "markdown",
   "id": "f10d36b9",
   "metadata": {},
   "source": [
    "There is no relationship between pet ratings and number of pet twitter favorite count."
   ]
  },
  {
   "cell_type": "markdown",
   "id": "086428fd",
   "metadata": {},
   "source": [
    "**What is the relationship between favorite count and retweet?** "
   ]
  },
  {
   "cell_type": "code",
   "execution_count": 351,
   "id": "eaea6d3b",
   "metadata": {},
   "outputs": [
    {
     "data": {
      "text/plain": [
       "Text(0, 0.5, 'Favorite Count')"
      ]
     },
     "execution_count": 351,
     "metadata": {},
     "output_type": "execute_result"
    },
    {
     "data": {
      "image/png": "[encoded data removed]",
      "text/plain": [
       "<Figure size 432x288 with 1 Axes>"
      ]
     },
     "metadata": {},
     "output_type": "display_data"
    }
   ],
   "source": [
    "sns.scatterplot(x='retweet_count', y='favorite_count', data=df)\n",
    "plt.title('Relationship between favorite count and retweet')\n",
    "plt.xlabel('Retweet Count')\n",
    "plt.ylabel('Favorite Count')"
   ]
  },
  {
   "cell_type": "markdown",
   "id": "0bc7aaaf",
   "metadata": {},
   "source": [
    "There is a positive correlation between retweet count and favorite count."
   ]
  },
  {
   "cell_type": "markdown",
   "id": "259406f0",
   "metadata": {},
   "source": [
    "### Conclusion\n",
    "1.\tThe highest numerator rating for a pet is 12.\n",
    "2.\tThe minimum numerator rating is 1.\n",
    "3.\t99% of the denominator rating value is 10 and the remaining 1% of the denominator rating value is between 1 and 14.\n",
    "4.\tThere seems to be an outliers from the visualization above. But the average rating of pets in the dataset is 1.17.\n",
    "5.\tThere seems to be a positive correlation between the rating numerator and denominator. Note, however, that correlation do not imply causation.\n",
    "6.\t85% of the whole observation has one image (the minimum number of image for a pet in the dataset) for a pet. But only 1% of the pet has four images which is the highest number of images of a pet in the dataset.\n",
    "7.\tAs can be seen from above, the number of images for a pet improves the accuracy of the prediction model.\n",
    "8. There is no relationship between pet ratings and number of pet twitter favorite count.\n",
    "9. There is a positive correlation between retweet count and favorite count."
   ]
  },
  {
   "cell_type": "markdown",
   "id": "9d44ee21",
   "metadata": {},
   "source": [
    "### Limitation\n",
    "* The data was untidy.\n",
    "* Data cleaning is a long process but it worths it."
   ]
  },
  {
   "cell_type": "markdown",
   "id": "a914127d",
   "metadata": {},
   "source": [
    "# Thank You"
   ]
  },
  {
   "cell_type": "code",
   "execution_count": null,
   "id": "a8cda4fd",
   "metadata": {},
   "outputs": [],
   "source": []
  }
 ],
 "metadata": {
  "kernelspec": {
   "display_name": "Python 3",
   "language": "python",
   "name": "python3"
  },
  "language_info": {
   "codemirror_mode": {
    "name": "ipython",
    "version": 3
   },
   "file_extension": ".py",
   "mimetype": "text/x-python",
   "name": "python",
   "nbconvert_exporter": "python",
   "pygments_lexer": "ipython3",
   "version": "3.8.8"
  }
 },
 "nbformat": 4,
 "nbformat_minor": 5
}
