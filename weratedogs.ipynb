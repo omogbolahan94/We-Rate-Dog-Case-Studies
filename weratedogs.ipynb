{
 "cells": [
  {
   "cell_type": "markdown",
   "id": "4055d350",
   "metadata": {},
   "source": [
    "# Analysing Twitter WeRateDogs Data "
   ]
  },
  {
   "cell_type": "markdown",
   "id": "df3ecd45",
   "metadata": {},
   "source": [
    "### Introduction\n",
    "\n",
    "<p>The reference dataset is the tweet archive of Twitter user @dog_rates, also known as WeRateDogs. WeRateDogs is a Twitter account that rates people's dogs with a humorous comment about the dog. These ratings almost always have a denominator of 10. The numerators, though? Almost always greater than 10. 11/10, 12/10, 13/10, etc. Why? Because \"they're good dogs Brent.\" WeRateDogs has over 4 million followers and has received international media coverage.</p>\n",
    "<p></p>\n",
    "<p></p>"
   ]
  },
  {
   "cell_type": "markdown",
   "id": "42e08231",
   "metadata": {},
   "source": [
    "### Import all Necessary Libraries"
   ]
  },
  {
   "cell_type": "code",
   "execution_count": 1,
   "id": "82092f86",
   "metadata": {},
   "outputs": [],
   "source": [
    "from timeit import default_timer as timer"
   ]
  },
  {
   "cell_type": "code",
   "execution_count": 2,
   "id": "fabd45e2",
   "metadata": {},
   "outputs": [],
   "source": [
    "import os\n",
    "import requests\n",
    "import tweepy\n",
    "import json"
   ]
  },
  {
   "cell_type": "code",
   "execution_count": 3,
   "id": "3e80187b",
   "metadata": {},
   "outputs": [],
   "source": [
    "import numpy as np \n",
    "import pandas as pd\n",
    "import matplotlib.pyplot as plt\n",
    "import seaborn as sns"
   ]
  },
  {
   "cell_type": "code",
   "execution_count": 4,
   "id": "55bf2aba",
   "metadata": {},
   "outputs": [],
   "source": [
    "%matplotlib inline\n",
    "sns.set_style(\"darkgrid\")"
   ]
  },
  {
   "cell_type": "markdown",
   "id": "4368b7a4",
   "metadata": {},
   "source": [
    "### Gather all Data"
   ]
  },
  {
   "cell_type": "markdown",
   "id": "7cfcf27d",
   "metadata": {},
   "source": [
    "**loading the archive data**"
   ]
  },
  {
   "cell_type": "code",
   "execution_count": 5,
   "id": "0df0ab3f",
   "metadata": {},
   "outputs": [
    {
     "data": {
      "text/html": [
       "<div>\n",
       "<style scoped>\n",
       "    .dataframe tbody tr th:only-of-type {\n",
       "        vertical-align: middle;\n",
       "    }\n",
       "\n",
       "    .dataframe tbody tr th {\n",
       "        vertical-align: top;\n",
       "    }\n",
       "\n",
       "    .dataframe thead th {\n",
       "        text-align: right;\n",
       "    }\n",
       "</style>\n",
       "<table border=\"1\" class=\"dataframe\">\n",
       "  <thead>\n",
       "    <tr style=\"text-align: right;\">\n",
       "      <th></th>\n",
       "      <th>tweet_id</th>\n",
       "      <th>in_reply_to_status_id</th>\n",
       "      <th>in_reply_to_user_id</th>\n",
       "      <th>timestamp</th>\n",
       "      <th>source</th>\n",
       "      <th>text</th>\n",
       "      <th>retweeted_status_id</th>\n",
       "      <th>retweeted_status_user_id</th>\n",
       "      <th>retweeted_status_timestamp</th>\n",
       "      <th>expanded_urls</th>\n",
       "      <th>rating_numerator</th>\n",
       "      <th>rating_denominator</th>\n",
       "      <th>name</th>\n",
       "      <th>doggo</th>\n",
       "      <th>floofer</th>\n",
       "      <th>pupper</th>\n",
       "      <th>puppo</th>\n",
       "    </tr>\n",
       "  </thead>\n",
       "  <tbody>\n",
       "    <tr>\n",
       "      <th>0</th>\n",
       "      <td>892420643555336193</td>\n",
       "      <td>NaN</td>\n",
       "      <td>NaN</td>\n",
       "      <td>2017-08-01 16:23:56 +0000</td>\n",
       "      <td>&lt;a href=\"http://twitter.com/download/iphone\" r...</td>\n",
       "      <td>This is Phineas. He's a mystical boy. Only eve...</td>\n",
       "      <td>NaN</td>\n",
       "      <td>NaN</td>\n",
       "      <td>NaN</td>\n",
       "      <td>https://twitter.com/dog_rates/status/892420643...</td>\n",
       "      <td>13</td>\n",
       "      <td>10</td>\n",
       "      <td>Phineas</td>\n",
       "      <td>None</td>\n",
       "      <td>None</td>\n",
       "      <td>None</td>\n",
       "      <td>None</td>\n",
       "    </tr>\n",
       "    <tr>\n",
       "      <th>1</th>\n",
       "      <td>892177421306343426</td>\n",
       "      <td>NaN</td>\n",
       "      <td>NaN</td>\n",
       "      <td>2017-08-01 00:17:27 +0000</td>\n",
       "      <td>&lt;a href=\"http://twitter.com/download/iphone\" r...</td>\n",
       "      <td>This is Tilly. She's just checking pup on you....</td>\n",
       "      <td>NaN</td>\n",
       "      <td>NaN</td>\n",
       "      <td>NaN</td>\n",
       "      <td>https://twitter.com/dog_rates/status/892177421...</td>\n",
       "      <td>13</td>\n",
       "      <td>10</td>\n",
       "      <td>Tilly</td>\n",
       "      <td>None</td>\n",
       "      <td>None</td>\n",
       "      <td>None</td>\n",
       "      <td>None</td>\n",
       "    </tr>\n",
       "  </tbody>\n",
       "</table>\n",
       "</div>"
      ],
      "text/plain": [
       "             tweet_id  in_reply_to_status_id  in_reply_to_user_id  \\\n",
       "0  892420643555336193                    NaN                  NaN   \n",
       "1  892177421306343426                    NaN                  NaN   \n",
       "\n",
       "                   timestamp  \\\n",
       "0  2017-08-01 16:23:56 +0000   \n",
       "1  2017-08-01 00:17:27 +0000   \n",
       "\n",
       "                                              source  \\\n",
       "0  <a href=\"http://twitter.com/download/iphone\" r...   \n",
       "1  <a href=\"http://twitter.com/download/iphone\" r...   \n",
       "\n",
       "                                                text  retweeted_status_id  \\\n",
       "0  This is Phineas. He's a mystical boy. Only eve...                  NaN   \n",
       "1  This is Tilly. She's just checking pup on you....                  NaN   \n",
       "\n",
       "   retweeted_status_user_id retweeted_status_timestamp  \\\n",
       "0                       NaN                        NaN   \n",
       "1                       NaN                        NaN   \n",
       "\n",
       "                                       expanded_urls  rating_numerator  \\\n",
       "0  https://twitter.com/dog_rates/status/892420643...                13   \n",
       "1  https://twitter.com/dog_rates/status/892177421...                13   \n",
       "\n",
       "   rating_denominator     name doggo floofer pupper puppo  \n",
       "0                  10  Phineas  None    None   None  None  \n",
       "1                  10    Tilly  None    None   None  None  "
      ]
     },
     "execution_count": 5,
     "metadata": {},
     "output_type": "execute_result"
    }
   ],
   "source": [
    "# Twitter archive file\n",
    "archived_df = pd.read_csv(\"twitter-archive-enhanced.csv\")\n",
    "archived_df.head(2)"
   ]
  },
  {
   "cell_type": "markdown",
   "id": "12abbcc7",
   "metadata": {},
   "source": [
    "**Loading the image prediction data that is hosted on Udacity's servers**"
   ]
  },
  {
   "cell_type": "code",
   "execution_count": 6,
   "id": "6b119410",
   "metadata": {},
   "outputs": [
    {
     "data": {
      "text/plain": [
       "200"
      ]
     },
     "execution_count": 6,
     "metadata": {},
     "output_type": "execute_result"
    }
   ],
   "source": [
    "# Loading the image prediction data\n",
    "# pd.read_csv(\"image-predictions.tsv\", sep=\"\\t\")\n",
    "image_data = requests.get(\"https://d17h27t6h515a5.cloudfront.net/topher/2017/August/599fd2ad_image-predictions/image-predictions.tsv\",)\n",
    "image_data.status_code"
   ]
  },
  {
   "cell_type": "code",
   "execution_count": 7,
   "id": "ae7aaf8a",
   "metadata": {},
   "outputs": [],
   "source": [
    "image_folder = 'image-prediction'\n",
    "if not os.path.exists(image_folder):\n",
    "    os.makedirs(image_folder)"
   ]
  },
  {
   "cell_type": "code",
   "execution_count": 8,
   "id": "0413f98a",
   "metadata": {},
   "outputs": [],
   "source": [
    "with open(image_folder+'/'+'image-data.tsv', 'wb') as file:\n",
    "    file.write(image_data.content)"
   ]
  },
  {
   "cell_type": "code",
   "execution_count": 9,
   "id": "5146bdec",
   "metadata": {},
   "outputs": [],
   "source": [
    "image_df = pd.read_csv(image_folder+'/'+'image-data.tsv', sep='\\t')"
   ]
  },
  {
   "cell_type": "code",
   "execution_count": 10,
   "id": "2114c264",
   "metadata": {},
   "outputs": [
    {
     "data": {
      "text/html": [
       "<div>\n",
       "<style scoped>\n",
       "    .dataframe tbody tr th:only-of-type {\n",
       "        vertical-align: middle;\n",
       "    }\n",
       "\n",
       "    .dataframe tbody tr th {\n",
       "        vertical-align: top;\n",
       "    }\n",
       "\n",
       "    .dataframe thead th {\n",
       "        text-align: right;\n",
       "    }\n",
       "</style>\n",
       "<table border=\"1\" class=\"dataframe\">\n",
       "  <thead>\n",
       "    <tr style=\"text-align: right;\">\n",
       "      <th></th>\n",
       "      <th>tweet_id</th>\n",
       "      <th>jpg_url</th>\n",
       "      <th>img_num</th>\n",
       "      <th>p1</th>\n",
       "      <th>p1_conf</th>\n",
       "      <th>p1_dog</th>\n",
       "      <th>p2</th>\n",
       "      <th>p2_conf</th>\n",
       "      <th>p2_dog</th>\n",
       "      <th>p3</th>\n",
       "      <th>p3_conf</th>\n",
       "      <th>p3_dog</th>\n",
       "    </tr>\n",
       "  </thead>\n",
       "  <tbody>\n",
       "    <tr>\n",
       "      <th>0</th>\n",
       "      <td>666020888022790149</td>\n",
       "      <td>https://pbs.twimg.com/media/CT4udn0WwAA0aMy.jpg</td>\n",
       "      <td>1</td>\n",
       "      <td>Welsh_springer_spaniel</td>\n",
       "      <td>0.465074</td>\n",
       "      <td>True</td>\n",
       "      <td>collie</td>\n",
       "      <td>0.156665</td>\n",
       "      <td>True</td>\n",
       "      <td>Shetland_sheepdog</td>\n",
       "      <td>0.061428</td>\n",
       "      <td>True</td>\n",
       "    </tr>\n",
       "    <tr>\n",
       "      <th>1</th>\n",
       "      <td>666029285002620928</td>\n",
       "      <td>https://pbs.twimg.com/media/CT42GRgUYAA5iDo.jpg</td>\n",
       "      <td>1</td>\n",
       "      <td>redbone</td>\n",
       "      <td>0.506826</td>\n",
       "      <td>True</td>\n",
       "      <td>miniature_pinscher</td>\n",
       "      <td>0.074192</td>\n",
       "      <td>True</td>\n",
       "      <td>Rhodesian_ridgeback</td>\n",
       "      <td>0.072010</td>\n",
       "      <td>True</td>\n",
       "    </tr>\n",
       "  </tbody>\n",
       "</table>\n",
       "</div>"
      ],
      "text/plain": [
       "             tweet_id                                          jpg_url  \\\n",
       "0  666020888022790149  https://pbs.twimg.com/media/CT4udn0WwAA0aMy.jpg   \n",
       "1  666029285002620928  https://pbs.twimg.com/media/CT42GRgUYAA5iDo.jpg   \n",
       "\n",
       "   img_num                      p1   p1_conf  p1_dog                  p2  \\\n",
       "0        1  Welsh_springer_spaniel  0.465074    True              collie   \n",
       "1        1                 redbone  0.506826    True  miniature_pinscher   \n",
       "\n",
       "    p2_conf  p2_dog                   p3   p3_conf  p3_dog  \n",
       "0  0.156665    True    Shetland_sheepdog  0.061428    True  \n",
       "1  0.074192    True  Rhodesian_ridgeback  0.072010    True  "
      ]
     },
     "execution_count": 10,
     "metadata": {},
     "output_type": "execute_result"
    }
   ],
   "source": [
    "image_df.head(2)"
   ]
  },
  {
   "cell_type": "markdown",
   "id": "56a76d77",
   "metadata": {},
   "source": [
    "* tweet_id is the last part of the tweet URL after \"status/\" → https://twitter.com/dog_rates/status/889531135344209921\n",
    "* p1 is the algorithm's #1 prediction for the image in the tweet → golden retriever\n",
    "* p1_conf is how confident the algorithm is in its #1 prediction → 95%\n",
    "* p1_dog is whether or not the #1 prediction is a breed of dog → TRUE\n",
    "* p2 is the algorithm's second most likely prediction → Labrador retriever\n",
    "* p2_conf is how confident the algorithm is in its #2 prediction → 1%\n",
    "* p2_dog is whether or not the #2 prediction is a breed of dog → TRUE\n",
    "etc.\n",
    "* And the #1 prediction for the image in that tweet was spot on"
   ]
  },
  {
   "cell_type": "markdown",
   "id": "e3e02516",
   "metadata": {},
   "source": [
    "**Additional data from the Twitter API**<br/>\n",
    "Use the tweet IDs in the archived_df (WeRateDogs Twitter archive) above and query the Twitter API for each tweet's"
   ]
  },
  {
   "cell_type": "code",
   "execution_count": 11,
   "id": "5d9eb3db",
   "metadata": {},
   "outputs": [],
   "source": [
    "# API security keys\n",
    "consumer_key = os.environ.get('TWITTER_API_KEY')\n",
    "consumer_secret = os.environ.get('TWITTER_API_KEY_SECRET')\n",
    "access_token = os.environ.get('TWITTER_ACCESS_TOKEN')\n",
    "access_secret = os.environ.get('TWITTER_ACCESS_TOKEN_SECRET')"
   ]
  },
  {
   "cell_type": "code",
   "execution_count": 12,
   "id": "28127182",
   "metadata": {},
   "outputs": [],
   "source": [
    "auth = tweepy.OAuthHandler(consumer_key, consumer_secret)\n",
    "auth.set_access_token(access_token, access_secret)"
   ]
  },
  {
   "cell_type": "code",
   "execution_count": 13,
   "id": "debd6c62",
   "metadata": {},
   "outputs": [],
   "source": [
    "api = tweepy.API(auth, wait_on_rate_limit=True)"
   ]
  },
  {
   "cell_type": "code",
   "execution_count": 14,
   "id": "0cf0382b",
   "metadata": {},
   "outputs": [
    {
     "data": {
      "text/plain": [
       "True"
      ]
     },
     "execution_count": 14,
     "metadata": {},
     "output_type": "execute_result"
    }
   ],
   "source": [
    "# verify the tweet id in the archived_df are unique\n",
    "archived_df.tweet_id.nunique() == archived_df.shape[0]"
   ]
  },
  {
   "cell_type": "code",
   "execution_count": 15,
   "id": "725ff0b8",
   "metadata": {},
   "outputs": [],
   "source": [
    "# Query Twitter's API for JSON data for each tweet ID in the Twitter archive\n",
    "# count = 0\n",
    "# failed_id = []\n",
    "# start = timer()\n",
    "# with open('tweet_json.txt', 'w') as file:\n",
    "#     for tweet_id in archived_df.tweet_id.values:\n",
    "#         try:\n",
    "#             tweet = api.get_status(tweet_id, tweet_mode='extended')\n",
    "#             json.dump(tweet._json, file)\n",
    "#             file.write('\\n')\n",
    "#             count += 1\n",
    "#         except: \n",
    "#             failed_id.append(tweet_id)\n",
    "#             pass\n",
    "# end = timer()\n",
    "# print(end - start)"
   ]
  },
  {
   "cell_type": "markdown",
   "id": "0e9911bf",
   "metadata": {},
   "source": [
    "Using the code above above took eternity, and my system eventually crashed. I had to download the tweet-json.txt file from Coursera"
   ]
  },
  {
   "cell_type": "markdown",
   "id": "b7bd9dd1",
   "metadata": {},
   "source": [
    "**confirmed that the code timed out, i have to extract the unsuccessful ids data again**"
   ]
  },
  {
   "cell_type": "code",
   "execution_count": 16,
   "id": "023e9f18",
   "metadata": {},
   "outputs": [],
   "source": [
    "count_like_data = []\n",
    "with open('tweet-json.txt') as file:\n",
    "    for i in range(archived_df.shape[0]):\n",
    "        f = file.readlines()\n",
    "        for line in f:\n",
    "            data = json.loads(line)\n",
    "            data_id = data['id']\n",
    "            retweet_count = data[\"retweet_count\"]\n",
    "            favorite_count = data[\"favorite_count\"]\n",
    "\n",
    "            count_like_data.append({\n",
    "                'tweet_id': data_id,\n",
    "                'retweet_count': retweet_count,\n",
    "                'favorite_count': favorite_count\n",
    "            })"
   ]
  },
  {
   "cell_type": "code",
   "execution_count": 17,
   "id": "d2f9afd6",
   "metadata": {},
   "outputs": [],
   "source": [
    "# create a table of the following information: tweet ID, retweet count, and favorite count\n",
    "count_like_df = pd.DataFrame(count_like_data, columns=['tweet_id', 'retweet_count', 'favorite_count'])"
   ]
  },
  {
   "cell_type": "code",
   "execution_count": 18,
   "id": "d4148bf3",
   "metadata": {},
   "outputs": [
    {
     "data": {
      "text/html": [
       "<div>\n",
       "<style scoped>\n",
       "    .dataframe tbody tr th:only-of-type {\n",
       "        vertical-align: middle;\n",
       "    }\n",
       "\n",
       "    .dataframe tbody tr th {\n",
       "        vertical-align: top;\n",
       "    }\n",
       "\n",
       "    .dataframe thead th {\n",
       "        text-align: right;\n",
       "    }\n",
       "</style>\n",
       "<table border=\"1\" class=\"dataframe\">\n",
       "  <thead>\n",
       "    <tr style=\"text-align: right;\">\n",
       "      <th></th>\n",
       "      <th>tweet_id</th>\n",
       "      <th>retweet_count</th>\n",
       "      <th>favorite_count</th>\n",
       "    </tr>\n",
       "  </thead>\n",
       "  <tbody>\n",
       "    <tr>\n",
       "      <th>0</th>\n",
       "      <td>892420643555336193</td>\n",
       "      <td>8853</td>\n",
       "      <td>39467</td>\n",
       "    </tr>\n",
       "    <tr>\n",
       "      <th>1</th>\n",
       "      <td>892177421306343426</td>\n",
       "      <td>6514</td>\n",
       "      <td>33819</td>\n",
       "    </tr>\n",
       "    <tr>\n",
       "      <th>2</th>\n",
       "      <td>891815181378084864</td>\n",
       "      <td>4328</td>\n",
       "      <td>25461</td>\n",
       "    </tr>\n",
       "    <tr>\n",
       "      <th>3</th>\n",
       "      <td>891689557279858688</td>\n",
       "      <td>8964</td>\n",
       "      <td>42908</td>\n",
       "    </tr>\n",
       "    <tr>\n",
       "      <th>4</th>\n",
       "      <td>891327558926688256</td>\n",
       "      <td>9774</td>\n",
       "      <td>41048</td>\n",
       "    </tr>\n",
       "  </tbody>\n",
       "</table>\n",
       "</div>"
      ],
      "text/plain": [
       "             tweet_id  retweet_count  favorite_count\n",
       "0  892420643555336193           8853           39467\n",
       "1  892177421306343426           6514           33819\n",
       "2  891815181378084864           4328           25461\n",
       "3  891689557279858688           8964           42908\n",
       "4  891327558926688256           9774           41048"
      ]
     },
     "execution_count": 18,
     "metadata": {},
     "output_type": "execute_result"
    }
   ],
   "source": [
    "count_like_df.head()"
   ]
  },
  {
   "cell_type": "markdown",
   "id": "2c04ecf9",
   "metadata": {},
   "source": [
    "### Access all "
   ]
  },
  {
   "cell_type": "markdown",
   "id": "217324c0",
   "metadata": {},
   "source": [
    "#### Access for Messy Issue"
   ]
  },
  {
   "cell_type": "markdown",
   "id": "65a1eea3",
   "metadata": {},
   "source": [
    "###### archived_df: Check if Data is Messy/Untidy"
   ]
  },
  {
   "cell_type": "code",
   "execution_count": 19,
   "id": "7f775586",
   "metadata": {},
   "outputs": [
    {
     "data": {
      "text/html": [
       "<div>\n",
       "<style scoped>\n",
       "    .dataframe tbody tr th:only-of-type {\n",
       "        vertical-align: middle;\n",
       "    }\n",
       "\n",
       "    .dataframe tbody tr th {\n",
       "        vertical-align: top;\n",
       "    }\n",
       "\n",
       "    .dataframe thead th {\n",
       "        text-align: right;\n",
       "    }\n",
       "</style>\n",
       "<table border=\"1\" class=\"dataframe\">\n",
       "  <thead>\n",
       "    <tr style=\"text-align: right;\">\n",
       "      <th></th>\n",
       "      <th>tweet_id</th>\n",
       "      <th>in_reply_to_status_id</th>\n",
       "      <th>in_reply_to_user_id</th>\n",
       "      <th>timestamp</th>\n",
       "      <th>source</th>\n",
       "      <th>text</th>\n",
       "      <th>retweeted_status_id</th>\n",
       "      <th>retweeted_status_user_id</th>\n",
       "      <th>retweeted_status_timestamp</th>\n",
       "      <th>expanded_urls</th>\n",
       "      <th>rating_numerator</th>\n",
       "      <th>rating_denominator</th>\n",
       "      <th>name</th>\n",
       "      <th>doggo</th>\n",
       "      <th>floofer</th>\n",
       "      <th>pupper</th>\n",
       "      <th>puppo</th>\n",
       "    </tr>\n",
       "  </thead>\n",
       "  <tbody>\n",
       "    <tr>\n",
       "      <th>0</th>\n",
       "      <td>892420643555336193</td>\n",
       "      <td>NaN</td>\n",
       "      <td>NaN</td>\n",
       "      <td>2017-08-01 16:23:56 +0000</td>\n",
       "      <td>&lt;a href=\"http://twitter.com/download/iphone\" r...</td>\n",
       "      <td>This is Phineas. He's a mystical boy. Only eve...</td>\n",
       "      <td>NaN</td>\n",
       "      <td>NaN</td>\n",
       "      <td>NaN</td>\n",
       "      <td>https://twitter.com/dog_rates/status/892420643...</td>\n",
       "      <td>13</td>\n",
       "      <td>10</td>\n",
       "      <td>Phineas</td>\n",
       "      <td>None</td>\n",
       "      <td>None</td>\n",
       "      <td>None</td>\n",
       "      <td>None</td>\n",
       "    </tr>\n",
       "    <tr>\n",
       "      <th>1</th>\n",
       "      <td>892177421306343426</td>\n",
       "      <td>NaN</td>\n",
       "      <td>NaN</td>\n",
       "      <td>2017-08-01 00:17:27 +0000</td>\n",
       "      <td>&lt;a href=\"http://twitter.com/download/iphone\" r...</td>\n",
       "      <td>This is Tilly. She's just checking pup on you....</td>\n",
       "      <td>NaN</td>\n",
       "      <td>NaN</td>\n",
       "      <td>NaN</td>\n",
       "      <td>https://twitter.com/dog_rates/status/892177421...</td>\n",
       "      <td>13</td>\n",
       "      <td>10</td>\n",
       "      <td>Tilly</td>\n",
       "      <td>None</td>\n",
       "      <td>None</td>\n",
       "      <td>None</td>\n",
       "      <td>None</td>\n",
       "    </tr>\n",
       "  </tbody>\n",
       "</table>\n",
       "</div>"
      ],
      "text/plain": [
       "             tweet_id  in_reply_to_status_id  in_reply_to_user_id  \\\n",
       "0  892420643555336193                    NaN                  NaN   \n",
       "1  892177421306343426                    NaN                  NaN   \n",
       "\n",
       "                   timestamp  \\\n",
       "0  2017-08-01 16:23:56 +0000   \n",
       "1  2017-08-01 00:17:27 +0000   \n",
       "\n",
       "                                              source  \\\n",
       "0  <a href=\"http://twitter.com/download/iphone\" r...   \n",
       "1  <a href=\"http://twitter.com/download/iphone\" r...   \n",
       "\n",
       "                                                text  retweeted_status_id  \\\n",
       "0  This is Phineas. He's a mystical boy. Only eve...                  NaN   \n",
       "1  This is Tilly. She's just checking pup on you....                  NaN   \n",
       "\n",
       "   retweeted_status_user_id retweeted_status_timestamp  \\\n",
       "0                       NaN                        NaN   \n",
       "1                       NaN                        NaN   \n",
       "\n",
       "                                       expanded_urls  rating_numerator  \\\n",
       "0  https://twitter.com/dog_rates/status/892420643...                13   \n",
       "1  https://twitter.com/dog_rates/status/892177421...                13   \n",
       "\n",
       "   rating_denominator     name doggo floofer pupper puppo  \n",
       "0                  10  Phineas  None    None   None  None  \n",
       "1                  10    Tilly  None    None   None  None  "
      ]
     },
     "execution_count": 19,
     "metadata": {},
     "output_type": "execute_result"
    }
   ],
   "source": [
    "archived_df.head(2)"
   ]
  },
  {
   "cell_type": "code",
   "execution_count": 20,
   "id": "1a5b1368",
   "metadata": {},
   "outputs": [
    {
     "name": "stdout",
     "output_type": "stream",
     "text": [
      "['None' 'doggo']\n",
      "['None' 'floofer']\n",
      "['None' 'pupper']\n",
      "['None' 'puppo']\n"
     ]
    }
   ],
   "source": [
    "# 'doggo', 'floofer', 'pupper', 'puppo' features seems to be values of a common feature. Lets unspect it\n",
    "potential_messy = ['doggo', 'floofer', 'pupper', 'puppo']\n",
    "for feat in potential_messy:\n",
    "    print(archived_df[feat].unique())"
   ]
  },
  {
   "cell_type": "markdown",
   "id": "fa4cd9fc",
   "metadata": {},
   "source": [
    "The archived data is untidy. The archived_df features: `doggo`, `floofer`, `pupper`, `puppo` are all dog stage names and are suppose to be values of a feature (i will call the feature `stage_name`)."
   ]
  },
  {
   "cell_type": "markdown",
   "id": "55189aeb",
   "metadata": {},
   "source": [
    "###### image_df: Check if Data is Messy/Untidy"
   ]
  },
  {
   "cell_type": "code",
   "execution_count": 21,
   "id": "cb84affd",
   "metadata": {},
   "outputs": [
    {
     "data": {
      "text/html": [
       "<div>\n",
       "<style scoped>\n",
       "    .dataframe tbody tr th:only-of-type {\n",
       "        vertical-align: middle;\n",
       "    }\n",
       "\n",
       "    .dataframe tbody tr th {\n",
       "        vertical-align: top;\n",
       "    }\n",
       "\n",
       "    .dataframe thead th {\n",
       "        text-align: right;\n",
       "    }\n",
       "</style>\n",
       "<table border=\"1\" class=\"dataframe\">\n",
       "  <thead>\n",
       "    <tr style=\"text-align: right;\">\n",
       "      <th></th>\n",
       "      <th>tweet_id</th>\n",
       "      <th>jpg_url</th>\n",
       "      <th>img_num</th>\n",
       "      <th>p1</th>\n",
       "      <th>p1_conf</th>\n",
       "      <th>p1_dog</th>\n",
       "      <th>p2</th>\n",
       "      <th>p2_conf</th>\n",
       "      <th>p2_dog</th>\n",
       "      <th>p3</th>\n",
       "      <th>p3_conf</th>\n",
       "      <th>p3_dog</th>\n",
       "    </tr>\n",
       "  </thead>\n",
       "  <tbody>\n",
       "    <tr>\n",
       "      <th>0</th>\n",
       "      <td>666020888022790149</td>\n",
       "      <td>https://pbs.twimg.com/media/CT4udn0WwAA0aMy.jpg</td>\n",
       "      <td>1</td>\n",
       "      <td>Welsh_springer_spaniel</td>\n",
       "      <td>0.465074</td>\n",
       "      <td>True</td>\n",
       "      <td>collie</td>\n",
       "      <td>0.156665</td>\n",
       "      <td>True</td>\n",
       "      <td>Shetland_sheepdog</td>\n",
       "      <td>0.061428</td>\n",
       "      <td>True</td>\n",
       "    </tr>\n",
       "    <tr>\n",
       "      <th>1</th>\n",
       "      <td>666029285002620928</td>\n",
       "      <td>https://pbs.twimg.com/media/CT42GRgUYAA5iDo.jpg</td>\n",
       "      <td>1</td>\n",
       "      <td>redbone</td>\n",
       "      <td>0.506826</td>\n",
       "      <td>True</td>\n",
       "      <td>miniature_pinscher</td>\n",
       "      <td>0.074192</td>\n",
       "      <td>True</td>\n",
       "      <td>Rhodesian_ridgeback</td>\n",
       "      <td>0.072010</td>\n",
       "      <td>True</td>\n",
       "    </tr>\n",
       "  </tbody>\n",
       "</table>\n",
       "</div>"
      ],
      "text/plain": [
       "             tweet_id                                          jpg_url  \\\n",
       "0  666020888022790149  https://pbs.twimg.com/media/CT4udn0WwAA0aMy.jpg   \n",
       "1  666029285002620928  https://pbs.twimg.com/media/CT42GRgUYAA5iDo.jpg   \n",
       "\n",
       "   img_num                      p1   p1_conf  p1_dog                  p2  \\\n",
       "0        1  Welsh_springer_spaniel  0.465074    True              collie   \n",
       "1        1                 redbone  0.506826    True  miniature_pinscher   \n",
       "\n",
       "    p2_conf  p2_dog                   p3   p3_conf  p3_dog  \n",
       "0  0.156665    True    Shetland_sheepdog  0.061428    True  \n",
       "1  0.074192    True  Rhodesian_ridgeback  0.072010    True  "
      ]
     },
     "execution_count": 21,
     "metadata": {},
     "output_type": "execute_result"
    }
   ],
   "source": [
    "image_df.head(2)"
   ]
  },
  {
   "cell_type": "markdown",
   "id": "aca6f731",
   "metadata": {},
   "source": [
    "###### image_df: Check if Data is Messy/Untidy"
   ]
  },
  {
   "cell_type": "code",
   "execution_count": 22,
   "id": "21a40b64",
   "metadata": {},
   "outputs": [
    {
     "data": {
      "text/html": [
       "<div>\n",
       "<style scoped>\n",
       "    .dataframe tbody tr th:only-of-type {\n",
       "        vertical-align: middle;\n",
       "    }\n",
       "\n",
       "    .dataframe tbody tr th {\n",
       "        vertical-align: top;\n",
       "    }\n",
       "\n",
       "    .dataframe thead th {\n",
       "        text-align: right;\n",
       "    }\n",
       "</style>\n",
       "<table border=\"1\" class=\"dataframe\">\n",
       "  <thead>\n",
       "    <tr style=\"text-align: right;\">\n",
       "      <th></th>\n",
       "      <th>tweet_id</th>\n",
       "      <th>retweet_count</th>\n",
       "      <th>favorite_count</th>\n",
       "    </tr>\n",
       "  </thead>\n",
       "  <tbody>\n",
       "    <tr>\n",
       "      <th>0</th>\n",
       "      <td>892420643555336193</td>\n",
       "      <td>8853</td>\n",
       "      <td>39467</td>\n",
       "    </tr>\n",
       "    <tr>\n",
       "      <th>1</th>\n",
       "      <td>892177421306343426</td>\n",
       "      <td>6514</td>\n",
       "      <td>33819</td>\n",
       "    </tr>\n",
       "  </tbody>\n",
       "</table>\n",
       "</div>"
      ],
      "text/plain": [
       "             tweet_id  retweet_count  favorite_count\n",
       "0  892420643555336193           8853           39467\n",
       "1  892177421306343426           6514           33819"
      ]
     },
     "execution_count": 22,
     "metadata": {},
     "output_type": "execute_result"
    }
   ],
   "source": [
    "count_like_df.head(2)"
   ]
  },
  {
   "cell_type": "markdown",
   "id": "5111b106",
   "metadata": {},
   "source": [
    "The dataframe `image_df` and `count_like_df` are tidy enough. The common issue with the three dataset is that they are suppose to be one since they have a common unique features"
   ]
  },
  {
   "cell_type": "markdown",
   "id": "3a7beaa2",
   "metadata": {},
   "source": [
    "### Access Data for Low Quality Issue"
   ]
  },
  {
   "cell_type": "markdown",
   "id": "889bcdf2",
   "metadata": {},
   "source": [
    "* **archived_df: Low Quality Issue**"
   ]
  },
  {
   "cell_type": "code",
   "execution_count": 23,
   "id": "60f0b0df",
   "metadata": {},
   "outputs": [
    {
     "data": {
      "text/html": [
       "<div>\n",
       "<style scoped>\n",
       "    .dataframe tbody tr th:only-of-type {\n",
       "        vertical-align: middle;\n",
       "    }\n",
       "\n",
       "    .dataframe tbody tr th {\n",
       "        vertical-align: top;\n",
       "    }\n",
       "\n",
       "    .dataframe thead th {\n",
       "        text-align: right;\n",
       "    }\n",
       "</style>\n",
       "<table border=\"1\" class=\"dataframe\">\n",
       "  <thead>\n",
       "    <tr style=\"text-align: right;\">\n",
       "      <th></th>\n",
       "      <th>tweet_id</th>\n",
       "      <th>in_reply_to_status_id</th>\n",
       "      <th>in_reply_to_user_id</th>\n",
       "      <th>timestamp</th>\n",
       "      <th>source</th>\n",
       "      <th>text</th>\n",
       "      <th>retweeted_status_id</th>\n",
       "      <th>retweeted_status_user_id</th>\n",
       "      <th>retweeted_status_timestamp</th>\n",
       "      <th>expanded_urls</th>\n",
       "      <th>rating_numerator</th>\n",
       "      <th>rating_denominator</th>\n",
       "      <th>name</th>\n",
       "      <th>doggo</th>\n",
       "      <th>floofer</th>\n",
       "      <th>pupper</th>\n",
       "      <th>puppo</th>\n",
       "    </tr>\n",
       "  </thead>\n",
       "  <tbody>\n",
       "    <tr>\n",
       "      <th>0</th>\n",
       "      <td>892420643555336193</td>\n",
       "      <td>NaN</td>\n",
       "      <td>NaN</td>\n",
       "      <td>2017-08-01 16:23:56 +0000</td>\n",
       "      <td>&lt;a href=\"http://twitter.com/download/iphone\" r...</td>\n",
       "      <td>This is Phineas. He's a mystical boy. Only eve...</td>\n",
       "      <td>NaN</td>\n",
       "      <td>NaN</td>\n",
       "      <td>NaN</td>\n",
       "      <td>https://twitter.com/dog_rates/status/892420643...</td>\n",
       "      <td>13</td>\n",
       "      <td>10</td>\n",
       "      <td>Phineas</td>\n",
       "      <td>None</td>\n",
       "      <td>None</td>\n",
       "      <td>None</td>\n",
       "      <td>None</td>\n",
       "    </tr>\n",
       "    <tr>\n",
       "      <th>1</th>\n",
       "      <td>892177421306343426</td>\n",
       "      <td>NaN</td>\n",
       "      <td>NaN</td>\n",
       "      <td>2017-08-01 00:17:27 +0000</td>\n",
       "      <td>&lt;a href=\"http://twitter.com/download/iphone\" r...</td>\n",
       "      <td>This is Tilly. She's just checking pup on you....</td>\n",
       "      <td>NaN</td>\n",
       "      <td>NaN</td>\n",
       "      <td>NaN</td>\n",
       "      <td>https://twitter.com/dog_rates/status/892177421...</td>\n",
       "      <td>13</td>\n",
       "      <td>10</td>\n",
       "      <td>Tilly</td>\n",
       "      <td>None</td>\n",
       "      <td>None</td>\n",
       "      <td>None</td>\n",
       "      <td>None</td>\n",
       "    </tr>\n",
       "  </tbody>\n",
       "</table>\n",
       "</div>"
      ],
      "text/plain": [
       "             tweet_id  in_reply_to_status_id  in_reply_to_user_id  \\\n",
       "0  892420643555336193                    NaN                  NaN   \n",
       "1  892177421306343426                    NaN                  NaN   \n",
       "\n",
       "                   timestamp  \\\n",
       "0  2017-08-01 16:23:56 +0000   \n",
       "1  2017-08-01 00:17:27 +0000   \n",
       "\n",
       "                                              source  \\\n",
       "0  <a href=\"http://twitter.com/download/iphone\" r...   \n",
       "1  <a href=\"http://twitter.com/download/iphone\" r...   \n",
       "\n",
       "                                                text  retweeted_status_id  \\\n",
       "0  This is Phineas. He's a mystical boy. Only eve...                  NaN   \n",
       "1  This is Tilly. She's just checking pup on you....                  NaN   \n",
       "\n",
       "   retweeted_status_user_id retweeted_status_timestamp  \\\n",
       "0                       NaN                        NaN   \n",
       "1                       NaN                        NaN   \n",
       "\n",
       "                                       expanded_urls  rating_numerator  \\\n",
       "0  https://twitter.com/dog_rates/status/892420643...                13   \n",
       "1  https://twitter.com/dog_rates/status/892177421...                13   \n",
       "\n",
       "   rating_denominator     name doggo floofer pupper puppo  \n",
       "0                  10  Phineas  None    None   None  None  \n",
       "1                  10    Tilly  None    None   None  None  "
      ]
     },
     "execution_count": 23,
     "metadata": {},
     "output_type": "execute_result"
    }
   ],
   "source": [
    "archived_df.head(2)"
   ]
  },
  {
   "cell_type": "code",
   "execution_count": 24,
   "id": "29c551b1",
   "metadata": {},
   "outputs": [
    {
     "data": {
      "text/html": [
       "<div>\n",
       "<style scoped>\n",
       "    .dataframe tbody tr th:only-of-type {\n",
       "        vertical-align: middle;\n",
       "    }\n",
       "\n",
       "    .dataframe tbody tr th {\n",
       "        vertical-align: top;\n",
       "    }\n",
       "\n",
       "    .dataframe thead th {\n",
       "        text-align: right;\n",
       "    }\n",
       "</style>\n",
       "<table border=\"1\" class=\"dataframe\">\n",
       "  <thead>\n",
       "    <tr style=\"text-align: right;\">\n",
       "      <th></th>\n",
       "      <th>tweet_id</th>\n",
       "      <th>retweet_count</th>\n",
       "      <th>favorite_count</th>\n",
       "    </tr>\n",
       "  </thead>\n",
       "  <tbody>\n",
       "    <tr>\n",
       "      <th>0</th>\n",
       "      <td>892420643555336193</td>\n",
       "      <td>8853</td>\n",
       "      <td>39467</td>\n",
       "    </tr>\n",
       "    <tr>\n",
       "      <th>1</th>\n",
       "      <td>892177421306343426</td>\n",
       "      <td>6514</td>\n",
       "      <td>33819</td>\n",
       "    </tr>\n",
       "    <tr>\n",
       "      <th>2</th>\n",
       "      <td>891815181378084864</td>\n",
       "      <td>4328</td>\n",
       "      <td>25461</td>\n",
       "    </tr>\n",
       "    <tr>\n",
       "      <th>3</th>\n",
       "      <td>891689557279858688</td>\n",
       "      <td>8964</td>\n",
       "      <td>42908</td>\n",
       "    </tr>\n",
       "    <tr>\n",
       "      <th>4</th>\n",
       "      <td>891327558926688256</td>\n",
       "      <td>9774</td>\n",
       "      <td>41048</td>\n",
       "    </tr>\n",
       "  </tbody>\n",
       "</table>\n",
       "</div>"
      ],
      "text/plain": [
       "             tweet_id  retweet_count  favorite_count\n",
       "0  892420643555336193           8853           39467\n",
       "1  892177421306343426           6514           33819\n",
       "2  891815181378084864           4328           25461\n",
       "3  891689557279858688           8964           42908\n",
       "4  891327558926688256           9774           41048"
      ]
     },
     "execution_count": 24,
     "metadata": {},
     "output_type": "execute_result"
    }
   ],
   "source": [
    "count_like_df.head()"
   ]
  },
  {
   "cell_type": "code",
   "execution_count": 25,
   "id": "a2d1d837",
   "metadata": {},
   "outputs": [
    {
     "data": {
      "text/plain": [
       "retweeted_status_id           181\n",
       "retweeted_status_user_id      181\n",
       "retweeted_status_timestamp    181\n",
       "dtype: int64"
      ]
     },
     "execution_count": 25,
     "metadata": {},
     "output_type": "execute_result"
    }
   ],
   "source": [
    "# number of retweeted values\n",
    "archived_df[['retweeted_status_id', 'retweeted_status_user_id', 'retweeted_status_timestamp']].notnull().sum()"
   ]
  },
  {
   "cell_type": "code",
   "execution_count": 26,
   "id": "0e2d55cb",
   "metadata": {},
   "outputs": [
    {
     "data": {
      "text/plain": [
       "Index(['tweet_id', 'in_reply_to_status_id', 'in_reply_to_user_id', 'timestamp',\n",
       "       'source', 'text', 'retweeted_status_id', 'retweeted_status_user_id',\n",
       "       'retweeted_status_timestamp', 'expanded_urls', 'rating_numerator',\n",
       "       'rating_denominator', 'name', 'doggo', 'floofer', 'pupper', 'puppo'],\n",
       "      dtype='object')"
      ]
     },
     "execution_count": 26,
     "metadata": {},
     "output_type": "execute_result"
    }
   ],
   "source": [
    "# columns in the dataset\n",
    "archived_df.columns"
   ]
  },
  {
   "cell_type": "code",
   "execution_count": 27,
   "id": "8f036534",
   "metadata": {},
   "outputs": [
    {
     "data": {
      "text/plain": [
       "in_reply_to_user_id           2278\n",
       "in_reply_to_status_id         2278\n",
       "retweeted_status_timestamp    2175\n",
       "retweeted_status_id           2175\n",
       "retweeted_status_user_id      2175\n",
       "expanded_urls                   59\n",
       "rating_denominator               0\n",
       "pupper                           0\n",
       "floofer                          0\n",
       "doggo                            0\n",
       "name                             0\n",
       "tweet_id                         0\n",
       "rating_numerator                 0\n",
       "text                             0\n",
       "source                           0\n",
       "timestamp                        0\n",
       "puppo                            0\n",
       "dtype: int64"
      ]
     },
     "execution_count": 27,
     "metadata": {},
     "output_type": "execute_result"
    }
   ],
   "source": [
    "# missing values in the dataset for non-retweeted data\n",
    "archived_missing_val = archived_df.isna().sum().sort_values(ascending=False)\n",
    "archived_missing_val"
   ]
  },
  {
   "cell_type": "code",
   "execution_count": 28,
   "id": "d10754ed",
   "metadata": {},
   "outputs": [
    {
     "name": "stdout",
     "output_type": "stream",
     "text": [
      "retweet ids: 92\n",
      "reply ids: 97\n"
     ]
    }
   ],
   "source": [
    "# percentage of observation with missing values\n",
    "print(f\"retweet ids: {round((2175/archived_df.shape[0])*100)}\")\n",
    "print(f\"reply ids: {round((2278/archived_df.shape[0])*100)}\")"
   ]
  },
  {
   "cell_type": "code",
   "execution_count": 29,
   "id": "aa443bec",
   "metadata": {},
   "outputs": [
    {
     "data": {
      "text/plain": [
       "Text(0, 0.5, 'No of Missing Values')"
      ]
     },
     "execution_count": 29,
     "metadata": {},
     "output_type": "execute_result"
    },
    {
     "data": {
      "image/png": "[encoded data removed]",
      "text/plain": [
       "<Figure size 432x288 with 1 Axes>"
      ]
     },
     "metadata": {},
     "output_type": "display_data"
    }
   ],
   "source": [
    "sns.barplot(y=archived_missing_val.index, x=archived_missing_val.values)\n",
    "plt.title('Number of missing values')\n",
    "plt.xlabel('Features')\n",
    "plt.ylabel('No of Missing Values')"
   ]
  },
  {
   "cell_type": "code",
   "execution_count": 30,
   "id": "a194b27f",
   "metadata": {},
   "outputs": [
    {
     "data": {
      "text/plain": [
       "0"
      ]
     },
     "execution_count": 30,
     "metadata": {},
     "output_type": "execute_result"
    }
   ],
   "source": [
    "# duplicate\n",
    "archived_df.duplicated().sum()"
   ]
  },
  {
   "cell_type": "code",
   "execution_count": 31,
   "id": "283ce555",
   "metadata": {},
   "outputs": [
    {
     "data": {
      "text/plain": [
       "array([  13,   12,   14,    5,   17,   11,   10,  420,  666,    6,   15,\n",
       "        182,  960,    0,   75,    7,   84,    9,   24,    8,    1,   27,\n",
       "          3,    4,  165, 1776,  204,   50,   99,   80,   45,   60,   44,\n",
       "        143,  121,   20,   26,    2,  144,   88], dtype=int64)"
      ]
     },
     "execution_count": 31,
     "metadata": {},
     "output_type": "execute_result"
    }
   ],
   "source": [
    "# access the values in the numerator rating\n",
    "archived_df.rating_numerator.unique()"
   ]
  },
  {
   "cell_type": "code",
   "execution_count": 33,
   "id": "ae195639",
   "metadata": {},
   "outputs": [
    {
     "name": "stdout",
     "output_type": "stream",
     "text": [
      "This is Bella. She hopes her smile made you smile. If not, she is also offering you her favorite monkey. 13.5/10 https://t.co/qjrljjt948 [values: 5] [index: 45]\n",
      "\n",
      "RT @dog_rates: This is Logan, the Chow who lived. He solemnly swears he's up to lots of good. H*ckin magical af 9.75/10 https://t.co/yBO5wu… [values: 75] [index: 340]\n",
      "\n",
      "This is Logan, the Chow who lived. He solemnly swears he's up to lots of good. H*ckin magical af 9.75/10 https://t.co/yBO5wuqaPS [values: 75] [index: 695]\n",
      "\n",
      "This is Sophie. She's a Jubilant Bush Pupper. Super h*ckin rare. Appears at random just to smile at the locals. 11.27/10 would smile back https://t.co/QFaUiIHxHq [values: 27] [index: 763]\n",
      "\n",
      "I've been told there's a slight possibility he's checking his mirror. We'll bump to 9.5/10. Still a menace [values: 5] [index: 1689]\n",
      "\n",
      "Here we have uncovered an entire battalion of holiday puppers. Average of 11.26/10 https://t.co/eNm2S6p9BD [values: 26] [index: 1712]\n",
      "\n"
     ]
    },
    {
     "name": "stderr",
     "output_type": "stream",
     "text": [
      "C:\\Users\\PT WORLD\\anaconda3\\lib\\site-packages\\pandas\\core\\strings\\accessor.py:101: UserWarning: This pattern has match groups. To actually get the groups, use str.extract.\n",
      "  return func(self, *args, **kwargs)\n"
     ]
    }
   ],
   "source": [
    "# some numerator values in the text features seems to decimal string \n",
    "# but there is no decimal value in the numerator string\n",
    "# this require further access\n",
    "accurate = archived_df[archived_df.text.str.contains(r\"(\\d+\\.\\d*\\/\\d+)\")][['text', 'rating_numerator']]\n",
    "for i in accurate.index:\n",
    "    print(f\"{accurate.loc[i, 'text']} [values: {accurate.loc[i, 'rating_numerator']}] [index: {i}]\")\n",
    "    print()"
   ]
  },
  {
   "cell_type": "code",
   "execution_count": 34,
   "id": "8d5b98a7",
   "metadata": {},
   "outputs": [
    {
     "data": {
      "text/plain": [
       "array([ 10,   0,  15,  70,   7,  11, 150, 170,  20,  50,  90,  80,  40,\n",
       "       130, 110,  16, 120,   2], dtype=int64)"
      ]
     },
     "execution_count": 34,
     "metadata": {},
     "output_type": "execute_result"
    }
   ],
   "source": [
    "# access the values in the numerator rating\n",
    "archived_df.rating_denominator.unique()"
   ]
  },
  {
   "cell_type": "code",
   "execution_count": 35,
   "id": "49a8fc6a",
   "metadata": {},
   "outputs": [
    {
     "name": "stdout",
     "output_type": "stream",
     "text": [
      "<class 'pandas.core.frame.DataFrame'>\n",
      "RangeIndex: 2356 entries, 0 to 2355\n",
      "Data columns (total 17 columns):\n",
      " #   Column                      Non-Null Count  Dtype  \n",
      "---  ------                      --------------  -----  \n",
      " 0   tweet_id                    2356 non-null   int64  \n",
      " 1   in_reply_to_status_id       78 non-null     float64\n",
      " 2   in_reply_to_user_id         78 non-null     float64\n",
      " 3   timestamp                   2356 non-null   object \n",
      " 4   source                      2356 non-null   object \n",
      " 5   text                        2356 non-null   object \n",
      " 6   retweeted_status_id         181 non-null    float64\n",
      " 7   retweeted_status_user_id    181 non-null    float64\n",
      " 8   retweeted_status_timestamp  181 non-null    object \n",
      " 9   expanded_urls               2297 non-null   object \n",
      " 10  rating_numerator            2356 non-null   int64  \n",
      " 11  rating_denominator          2356 non-null   int64  \n",
      " 12  name                        2356 non-null   object \n",
      " 13  doggo                       2356 non-null   object \n",
      " 14  floofer                     2356 non-null   object \n",
      " 15  pupper                      2356 non-null   object \n",
      " 16  puppo                       2356 non-null   object \n",
      "dtypes: float64(4), int64(3), object(10)\n",
      "memory usage: 313.0+ KB\n"
     ]
    }
   ],
   "source": [
    "# valid type\n",
    "archived_df.info()"
   ]
  },
  {
   "cell_type": "markdown",
   "id": "262a38de",
   "metadata": {},
   "source": [
    "* `rating_numerator` and `rating_denominator` should be float type\n",
    "* `timestamp` should be datatime type"
   ]
  },
  {
   "cell_type": "code",
   "execution_count": 36,
   "id": "18835c79",
   "metadata": {},
   "outputs": [
    {
     "data": {
      "text/plain": [
       "array(['<a href=\"http://twitter.com/download/iphone\" rel=\"nofollow\">Twitter for iPhone</a>',\n",
       "       '<a href=\"http://twitter.com\" rel=\"nofollow\">Twitter Web Client</a>',\n",
       "       '<a href=\"http://vine.co\" rel=\"nofollow\">Vine - Make a Scene</a>',\n",
       "       '<a href=\"https://about.twitter.com/products/tweetdeck\" rel=\"nofollow\">TweetDeck</a>'],\n",
       "      dtype=object)"
      ]
     },
     "execution_count": 36,
     "metadata": {},
     "output_type": "execute_result"
    }
   ],
   "source": [
    "archived_df.source.unique()"
   ]
  },
  {
   "cell_type": "markdown",
   "id": "71536925",
   "metadata": {},
   "source": [
    "* The `source` feature should be a categorical type.\n",
    "* Also, the values of the `source` feature is still not valid."
   ]
  },
  {
   "cell_type": "markdown",
   "id": "9355f144",
   "metadata": {},
   "source": [
    "* **image_df: Low Quality Issue**"
   ]
  },
  {
   "cell_type": "code",
   "execution_count": 37,
   "id": "b4c538d0",
   "metadata": {},
   "outputs": [
    {
     "data": {
      "text/plain": [
       "tweet_id    0\n",
       "jpg_url     0\n",
       "img_num     0\n",
       "p1          0\n",
       "p1_conf     0\n",
       "p1_dog      0\n",
       "p2          0\n",
       "p2_conf     0\n",
       "p2_dog      0\n",
       "p3          0\n",
       "p3_conf     0\n",
       "p3_dog      0\n",
       "dtype: int64"
      ]
     },
     "execution_count": 37,
     "metadata": {},
     "output_type": "execute_result"
    }
   ],
   "source": [
    "# check for missing values\n",
    "image_df.isna().sum()"
   ]
  },
  {
   "cell_type": "code",
   "execution_count": 38,
   "id": "49585815",
   "metadata": {},
   "outputs": [
    {
     "name": "stdout",
     "output_type": "stream",
     "text": [
      "<class 'pandas.core.frame.DataFrame'>\n",
      "RangeIndex: 2075 entries, 0 to 2074\n",
      "Data columns (total 12 columns):\n",
      " #   Column    Non-Null Count  Dtype  \n",
      "---  ------    --------------  -----  \n",
      " 0   tweet_id  2075 non-null   int64  \n",
      " 1   jpg_url   2075 non-null   object \n",
      " 2   img_num   2075 non-null   int64  \n",
      " 3   p1        2075 non-null   object \n",
      " 4   p1_conf   2075 non-null   float64\n",
      " 5   p1_dog    2075 non-null   bool   \n",
      " 6   p2        2075 non-null   object \n",
      " 7   p2_conf   2075 non-null   float64\n",
      " 8   p2_dog    2075 non-null   bool   \n",
      " 9   p3        2075 non-null   object \n",
      " 10  p3_conf   2075 non-null   float64\n",
      " 11  p3_dog    2075 non-null   bool   \n",
      "dtypes: bool(3), float64(3), int64(2), object(4)\n",
      "memory usage: 152.1+ KB\n"
     ]
    }
   ],
   "source": [
    "# check for invalid data type\n",
    "image_df.info()"
   ]
  },
  {
   "cell_type": "code",
   "execution_count": 39,
   "id": "1206b599",
   "metadata": {},
   "outputs": [
    {
     "data": {
      "text/plain": [
       "tweet_id    2075\n",
       "jpg_url     2009\n",
       "img_num        4\n",
       "p1           378\n",
       "p1_conf     2006\n",
       "p1_dog         2\n",
       "p2           405\n",
       "p2_conf     2004\n",
       "p2_dog         2\n",
       "p3           408\n",
       "p3_conf     2006\n",
       "p3_dog         2\n",
       "dtype: int64"
      ]
     },
     "execution_count": 39,
     "metadata": {},
     "output_type": "execute_result"
    }
   ],
   "source": [
    "# check for categorical feature\n",
    "image_df.nunique()"
   ]
  },
  {
   "cell_type": "markdown",
   "id": "8d42ebf0",
   "metadata": {},
   "source": [
    "`jpg_url` should be a category type"
   ]
  },
  {
   "cell_type": "code",
   "execution_count": 40,
   "id": "8cdd7c45",
   "metadata": {},
   "outputs": [
    {
     "data": {
      "text/plain": [
       "Index(['tweet_id', 'jpg_url', 'img_num', 'p1', 'p1_conf', 'p1_dog', 'p2',\n",
       "       'p2_conf', 'p2_dog', 'p3', 'p3_conf', 'p3_dog'],\n",
       "      dtype='object')"
      ]
     },
     "execution_count": 40,
     "metadata": {},
     "output_type": "execute_result"
    }
   ],
   "source": [
    "# descriptive name\n",
    "image_df.columns"
   ]
  },
  {
   "cell_type": "markdown",
   "id": "2f3dd72a",
   "metadata": {},
   "source": [
    "`jpg_url`, `p1`, `p2`, `p3`, `p1_dog`, `p2_dog`, `p3_dog`, `p1_conf`, `p2_conf` and `p1_conf` should be renamed"
   ]
  },
  {
   "cell_type": "markdown",
   "id": "1a4e9c98",
   "metadata": {},
   "source": [
    "* **count_like_df: Low Quality Issue**"
   ]
  },
  {
   "cell_type": "code",
   "execution_count": 41,
   "id": "5a873693",
   "metadata": {},
   "outputs": [
    {
     "data": {
      "text/plain": [
       "tweet_id          0\n",
       "retweet_count     0\n",
       "favorite_count    0\n",
       "dtype: int64"
      ]
     },
     "execution_count": 41,
     "metadata": {},
     "output_type": "execute_result"
    }
   ],
   "source": [
    "count_like_df.isna().sum()"
   ]
  },
  {
   "cell_type": "code",
   "execution_count": 42,
   "id": "c10b44d8",
   "metadata": {},
   "outputs": [
    {
     "name": "stdout",
     "output_type": "stream",
     "text": [
      "<class 'pandas.core.frame.DataFrame'>\n",
      "RangeIndex: 2354 entries, 0 to 2353\n",
      "Data columns (total 3 columns):\n",
      " #   Column          Non-Null Count  Dtype\n",
      "---  ------          --------------  -----\n",
      " 0   tweet_id        2354 non-null   int64\n",
      " 1   retweet_count   2354 non-null   int64\n",
      " 2   favorite_count  2354 non-null   int64\n",
      "dtypes: int64(3)\n",
      "memory usage: 55.3 KB\n"
     ]
    }
   ],
   "source": [
    "count_like_df.info()"
   ]
  },
  {
   "cell_type": "markdown",
   "id": "50ca922c",
   "metadata": {},
   "source": [
    "Rename the `id` feature to `tweet_id` as that of `archived_df` and `image_df`"
   ]
  },
  {
   "cell_type": "markdown",
   "id": "cd4d7ec2",
   "metadata": {},
   "source": [
    "#### Tidiness Issues\n",
    "1. The archived data is untidy. The archived_df features: `doggo`, `floofer`, `pupper`, `puppo` are all dog stage names and are suppose to be values of a feature (i will call the feature `stage_name`).\n",
    "2. The three dataset are suppose to be make one dataset since they have a common unique features"
   ]
  },
  {
   "cell_type": "markdown",
   "id": "db456bf1",
   "metadata": {},
   "source": [
    "#### Quality Issue\n",
    "1. There are retweeted rows present and we need to remove them.\n",
    "2. There are many missing values in retweeted id features (`retweeted_status_id`, `retweeted_status_user_id` and `retweeted_status_timestamp`) of the `archived_df`. So they will be dropped.\n",
    "3. The reply ids features of the archived_df have too many missing values. So they will be dropped aswell.\n",
    "4. `expanded_urls` feature is has 59 missing but it can be solved given the `tweed_id` is known.\n",
    "5. Ratings contain some inaccurate values.\n",
    "6. `rating_numerator` of `archived_df` should be float type.\n",
    "7. `timestamp` of `archived_df` should be datatime type.\n",
    "8. Also, the values of the source feature is not accurate.\n",
    "9. The `source` feature of `archived_df` should be a categorical type.\n",
    "10. img_num of `image_df` should be a category type\n",
    "11. `jpg_url`, `p1`, `p2`, `p3`, `p1_dog`, `p2_dog`, `p3_dog`, `p1_conf`, `p2_conf` and `p1_conf` should be renamed for descriptive purpose."
   ]
  },
  {
   "cell_type": "code",
   "execution_count": 43,
   "id": "beb155c7",
   "metadata": {},
   "outputs": [
    {
     "data": {
      "text/plain": [
       "(2175, 17)"
      ]
     },
     "execution_count": 43,
     "metadata": {},
     "output_type": "execute_result"
    }
   ],
   "source": [
    "archived_df[archived_df.retweeted_status_id.isna()].shape"
   ]
  },
  {
   "cell_type": "markdown",
   "id": "3f802c2d",
   "metadata": {},
   "source": [
    "### Data Cleaning"
   ]
  },
  {
   "cell_type": "markdown",
   "id": "c77c2ac6",
   "metadata": {},
   "source": [
    "**Make a copy of all the dataset**"
   ]
  },
  {
   "cell_type": "code",
   "execution_count": 44,
   "id": "f66949a0",
   "metadata": {},
   "outputs": [],
   "source": [
    "archived_df_copy = archived_df.copy()\n",
    "count_like_df_copy = count_like_df.copy()\n",
    "image_df_copy = image_df.copy()"
   ]
  },
  {
   "cell_type": "code",
   "execution_count": 45,
   "id": "296e433f",
   "metadata": {},
   "outputs": [],
   "source": [
    "def drop_features(df, features):\n",
    "    \"\"\"\n",
    "    df: dataframe\n",
    "    features: list of features to drop\n",
    "    drop the number of features from the df dataframe\n",
    "    \"\"\"\n",
    "    df.drop(features, axis=1, inplace=True)"
   ]
  },
  {
   "cell_type": "markdown",
   "id": "e489c4d4",
   "metadata": {},
   "source": [
    "#### Quality Issue #1: Unwanted Retweeted Observation\n",
    "`retweeted_status_id`, `retweeted_status_user_id`, and `retweeted_status_timestamp` of `archived_df_copy` have `188` retweeted values."
   ]
  },
  {
   "cell_type": "markdown",
   "id": "673c83a1",
   "metadata": {},
   "source": [
    "#### Define\n",
    "Drop all of the retweeted observations ."
   ]
  },
  {
   "cell_type": "markdown",
   "id": "b3de5be3",
   "metadata": {},
   "source": [
    "#### Code"
   ]
  },
  {
   "cell_type": "code",
   "execution_count": 46,
   "id": "774ed089",
   "metadata": {},
   "outputs": [],
   "source": [
    "# filtering out the 188 retweeted data\n",
    "archived_df_copy = archived_df_copy[archived_df_copy.retweeted_status_id.isna()].reset_index(drop=True)\n",
    "archived_df_copy = archived_df_copy[archived_df_copy.retweeted_status_user_id.isna()].reset_index(drop=True)\n",
    "archived_df_copy = archived_df_copy[archived_df_copy.retweeted_status_timestamp.isna()].reset_index(drop=True)"
   ]
  },
  {
   "cell_type": "markdown",
   "id": "a23b71bc",
   "metadata": {},
   "source": [
    "#### Test"
   ]
  },
  {
   "cell_type": "code",
   "execution_count": 47,
   "id": "37c54ca3",
   "metadata": {},
   "outputs": [
    {
     "name": "stdout",
     "output_type": "stream",
     "text": [
      "<class 'pandas.core.frame.DataFrame'>\n",
      "RangeIndex: 2175 entries, 0 to 2174\n",
      "Data columns (total 3 columns):\n",
      " #   Column                      Non-Null Count  Dtype  \n",
      "---  ------                      --------------  -----  \n",
      " 0   retweeted_status_id         0 non-null      float64\n",
      " 1   retweeted_status_user_id    0 non-null      float64\n",
      " 2   retweeted_status_timestamp  0 non-null      object \n",
      "dtypes: float64(2), object(1)\n",
      "memory usage: 51.1+ KB\n"
     ]
    }
   ],
   "source": [
    "archived_df_copy[['retweeted_status_id', 'retweeted_status_user_id', 'retweeted_status_timestamp']].info()"
   ]
  },
  {
   "cell_type": "markdown",
   "id": "cacbd497",
   "metadata": {},
   "source": [
    "#### Quality Issue #2: Missing Values\n",
    "`retweeted_status_id`, `retweeted_status_user_id`, and `retweeted_status_timestamp` of `archived_df_copy` unwanted missing values"
   ]
  },
  {
   "cell_type": "markdown",
   "id": "a468ea0a",
   "metadata": {},
   "source": [
    "#### Define\n",
    "Drop all of the retweet id features rows."
   ]
  },
  {
   "cell_type": "markdown",
   "id": "b7f06331",
   "metadata": {},
   "source": [
    "#### Code"
   ]
  },
  {
   "cell_type": "code",
   "execution_count": 48,
   "id": "c5bb8e74",
   "metadata": {},
   "outputs": [],
   "source": [
    "target_features = ['retweeted_status_id', 'retweeted_status_user_id', 'retweeted_status_timestamp']\n",
    "drop_features(archived_df_copy, target_features)"
   ]
  },
  {
   "cell_type": "markdown",
   "id": "4e190cab",
   "metadata": {},
   "source": [
    "#### Test"
   ]
  },
  {
   "cell_type": "code",
   "execution_count": 49,
   "id": "af46c82a",
   "metadata": {},
   "outputs": [
    {
     "data": {
      "text/plain": [
       "Index(['tweet_id', 'in_reply_to_status_id', 'in_reply_to_user_id', 'timestamp',\n",
       "       'source', 'text', 'expanded_urls', 'rating_numerator',\n",
       "       'rating_denominator', 'name', 'doggo', 'floofer', 'pupper', 'puppo'],\n",
       "      dtype='object')"
      ]
     },
     "execution_count": 49,
     "metadata": {},
     "output_type": "execute_result"
    }
   ],
   "source": [
    "archived_df_copy.columns"
   ]
  },
  {
   "cell_type": "markdown",
   "id": "71d4f661",
   "metadata": {},
   "source": [
    "#### Quality Issue #3: Missing Values\n",
    "`in_reply_to_status_id` and `in_reply_to_user_id` of `archived_df_copy` has large amount of missing values."
   ]
  },
  {
   "cell_type": "markdown",
   "id": "27d2abba",
   "metadata": {},
   "source": [
    "#### Define\n",
    "Drop all of the reply id features rows."
   ]
  },
  {
   "cell_type": "code",
   "execution_count": 50,
   "id": "b857f5f0",
   "metadata": {},
   "outputs": [],
   "source": [
    "target_features = ['in_reply_to_status_id', 'in_reply_to_user_id']\n",
    "drop_features(archived_df_copy, target_features)"
   ]
  },
  {
   "cell_type": "markdown",
   "id": "9514afa7",
   "metadata": {},
   "source": [
    "#### Test"
   ]
  },
  {
   "cell_type": "code",
   "execution_count": 51,
   "id": "283a87b0",
   "metadata": {},
   "outputs": [
    {
     "data": {
      "text/plain": [
       "Index(['tweet_id', 'timestamp', 'source', 'text', 'expanded_urls',\n",
       "       'rating_numerator', 'rating_denominator', 'name', 'doggo', 'floofer',\n",
       "       'pupper', 'puppo'],\n",
       "      dtype='object')"
      ]
     },
     "execution_count": 51,
     "metadata": {},
     "output_type": "execute_result"
    }
   ],
   "source": [
    "archived_df_copy.columns"
   ]
  },
  {
   "cell_type": "markdown",
   "id": "3327b829",
   "metadata": {},
   "source": [
    "#### Quality Issue #4: Missing Values\n",
    "`expanded_url` of `archived_df_copy` contains some missing values."
   ]
  },
  {
   "cell_type": "markdown",
   "id": "eb9a322f",
   "metadata": {},
   "source": [
    "#### Define\n",
    "Fill missing expanded url by getting and using the user id and the general url all of the reply ids features"
   ]
  },
  {
   "cell_type": "markdown",
   "id": "2f341a30",
   "metadata": {},
   "source": [
    "#### Code"
   ]
  },
  {
   "cell_type": "code",
   "execution_count": 52,
   "id": "b0d43e87",
   "metadata": {},
   "outputs": [
    {
     "name": "stdout",
     "output_type": "stream",
     "text": [
      "https://twitter.com/dog_rates/status/892420643555336193/photo/1\n"
     ]
    }
   ],
   "source": [
    "# print out an existed expanded url of a user \n",
    "print(archived_df_copy.expanded_urls[0])"
   ]
  },
  {
   "cell_type": "code",
   "execution_count": 53,
   "id": "f403a81b",
   "metadata": {},
   "outputs": [
    {
     "name": "stderr",
     "output_type": "stream",
     "text": [
      "<ipython-input-53-59e42963b834>:5: SettingWithCopyWarning: \n",
      "A value is trying to be set on a copy of a slice from a DataFrame\n",
      "\n",
      "See the caveats in the documentation: https://pandas.pydata.org/pandas-docs/stable/user_guide/indexing.html#returning-a-view-versus-a-copy\n",
      "  archived_df_copy.expanded_urls[i] = 'https://twitter.com/dog_rates/status/'+str(archived_df_copy.tweet_id[i])+'/photo/1'\n"
     ]
    }
   ],
   "source": [
    "# filter all the nan observations in the expanded_urls\n",
    "missing_pet_id = archived_df_copy[archived_df_copy.expanded_urls.isna()].index\n",
    "for i in range(archived_df_copy.shape[0]):\n",
    "    if i in missing_pet_id:\n",
    "        archived_df_copy.expanded_urls[i] = 'https://twitter.com/dog_rates/status/'+str(archived_df_copy.tweet_id[i])+'/photo/1'"
   ]
  },
  {
   "cell_type": "markdown",
   "id": "089e4a5d",
   "metadata": {},
   "source": [
    "#### Test"
   ]
  },
  {
   "cell_type": "code",
   "execution_count": 54,
   "id": "2e12d013",
   "metadata": {},
   "outputs": [
    {
     "data": {
      "text/plain": [
       "tweet_id              0\n",
       "timestamp             0\n",
       "source                0\n",
       "text                  0\n",
       "expanded_urls         0\n",
       "rating_numerator      0\n",
       "rating_denominator    0\n",
       "name                  0\n",
       "doggo                 0\n",
       "floofer               0\n",
       "pupper                0\n",
       "puppo                 0\n",
       "dtype: int64"
      ]
     },
     "execution_count": 54,
     "metadata": {},
     "output_type": "execute_result"
    }
   ],
   "source": [
    "archived_df_copy.isna().sum()"
   ]
  },
  {
   "cell_type": "markdown",
   "id": "cc90bcc3",
   "metadata": {},
   "source": [
    "#### Quality Issue #5: Inaccurate Entry\n",
    "The `rating_numerator` contains an inaccurate value."
   ]
  },
  {
   "cell_type": "markdown",
   "id": "ffe4f022",
   "metadata": {},
   "source": [
    "#### Define\n",
    "Replace the inaccurate value in `rating_numerator` of `archived_df_copy` with its correct values."
   ]
  },
  {
   "cell_type": "markdown",
   "id": "9944d7cc",
   "metadata": {},
   "source": [
    "#### Code"
   ]
  },
  {
   "cell_type": "code",
   "execution_count": 55,
   "id": "7d396866",
   "metadata": {},
   "outputs": [
    {
     "name": "stdout",
     "output_type": "stream",
     "text": [
      "['13.5' '9.75' '11.27' '9.5' '11.26']\n"
     ]
    },
    {
     "data": {
      "text/plain": [
       "Int64Index([42, 558, 617, 1510, 1533], dtype='int64')"
      ]
     },
     "execution_count": 55,
     "metadata": {},
     "output_type": "execute_result"
    }
   ],
   "source": [
    "# extract the original values\n",
    "target_observation = archived_df_copy.text.str.extract(r\"([0-9]+\\.[0-9]+\\/)\")\n",
    "target_observation = target_observation[target_observation[0].notna()][0].str[:-1]\n",
    "values = target_observation.values\n",
    "ind = target_observation.index\n",
    "print(values)\n",
    "ind"
   ]
  },
  {
   "cell_type": "code",
   "execution_count": 56,
   "id": "0d5b06b0",
   "metadata": {},
   "outputs": [],
   "source": [
    "for i, v in list(zip(ind, values)):\n",
    "    archived_df_copy.loc[i, 'rating_numerator'] = v"
   ]
  },
  {
   "cell_type": "markdown",
   "id": "c0f09c25",
   "metadata": {},
   "source": [
    "#### Test"
   ]
  },
  {
   "cell_type": "code",
   "execution_count": 59,
   "id": "55865bc8",
   "metadata": {},
   "outputs": [
    {
     "name": "stdout",
     "output_type": "stream",
     "text": [
      "This is Bella. She hopes her smile made you smile. If not, she is also offering you her favorite monkey. 13.5/10 https://t.co/qjrljjt948 [values: 13.5] [index: 42]\n",
      "\n",
      "This is Logan, the Chow who lived. He solemnly swears he's up to lots of good. H*ckin magical af 9.75/10 https://t.co/yBO5wuqaPS [values: 9.75] [index: 558]\n",
      "\n",
      "This is Sophie. She's a Jubilant Bush Pupper. Super h*ckin rare. Appears at random just to smile at the locals. 11.27/10 would smile back https://t.co/QFaUiIHxHq [values: 11.27] [index: 617]\n",
      "\n",
      "I've been told there's a slight possibility he's checking his mirror. We'll bump to 9.5/10. Still a menace [values: 9.5] [index: 1510]\n",
      "\n",
      "Here we have uncovered an entire battalion of holiday puppers. Average of 11.26/10 https://t.co/eNm2S6p9BD [values: 11.26] [index: 1533]\n",
      "\n"
     ]
    },
    {
     "name": "stderr",
     "output_type": "stream",
     "text": [
      "C:\\Users\\PT WORLD\\anaconda3\\lib\\site-packages\\pandas\\core\\strings\\accessor.py:101: UserWarning: This pattern has match groups. To actually get the groups, use str.extract.\n",
      "  return func(self, *args, **kwargs)\n"
     ]
    }
   ],
   "source": [
    "target_index_value = archived_df_copy[archived_df_copy.text.str.contains(r\"(\\d+\\.\\d*\\/\\d+)\")][['text', 'rating_numerator']]\n",
    "for i in target_index_value.index:\n",
    "    print(f\"{archived_df_copy.loc[i, 'text']} [values: {archived_df_copy.loc[i, 'rating_numerator']}] [index: {i}]\")\n",
    "    print()"
   ]
  },
  {
   "cell_type": "markdown",
   "id": "deab35d2",
   "metadata": {},
   "source": [
    "#### Quality Issue #6: Wrong Type\n",
    "The `rating_numerator` and `rating_denominator` of `archived_df` are integer type"
   ]
  },
  {
   "cell_type": "markdown",
   "id": "47d22fdb",
   "metadata": {},
   "source": [
    "#### Define\n",
    "Convert the type of `rating_numerator` and `rating_denominator` of `archived_df_copy` should beto float type"
   ]
  },
  {
   "cell_type": "markdown",
   "id": "5370fa25",
   "metadata": {},
   "source": [
    "#### Code"
   ]
  },
  {
   "cell_type": "code",
   "execution_count": 60,
   "id": "2c40ced5",
   "metadata": {},
   "outputs": [],
   "source": [
    "archived_df_copy.rating_numerator = archived_df_copy.rating_numerator.astype('float')"
   ]
  },
  {
   "cell_type": "markdown",
   "id": "4166a66f",
   "metadata": {},
   "source": [
    "#### Test"
   ]
  },
  {
   "cell_type": "code",
   "execution_count": 61,
   "id": "4a34f628",
   "metadata": {},
   "outputs": [
    {
     "data": {
      "text/plain": [
       "dtype('float64')"
      ]
     },
     "execution_count": 61,
     "metadata": {},
     "output_type": "execute_result"
    }
   ],
   "source": [
    "archived_df_copy['rating_numerator'].dtype"
   ]
  },
  {
   "cell_type": "markdown",
   "id": "2546c2dd",
   "metadata": {},
   "source": [
    "#### Quality Issue #7: Wrong Type\n",
    "`timestamp` of `archived_df_copy` is an object type."
   ]
  },
  {
   "cell_type": "markdown",
   "id": "1e55fc31",
   "metadata": {},
   "source": [
    "#### Define\n",
    "Convert the type of `timestamp` of `archived_df_copy` to float type."
   ]
  },
  {
   "cell_type": "markdown",
   "id": "a856d3d3",
   "metadata": {},
   "source": [
    "#### Code"
   ]
  },
  {
   "cell_type": "code",
   "execution_count": 62,
   "id": "9eba680e",
   "metadata": {},
   "outputs": [],
   "source": [
    "archived_df_copy.timestamp = pd.to_datetime(archived_df_copy.timestamp)"
   ]
  },
  {
   "cell_type": "markdown",
   "id": "0b16cadb",
   "metadata": {},
   "source": [
    "#### Test"
   ]
  },
  {
   "cell_type": "code",
   "execution_count": 63,
   "id": "bc409c24",
   "metadata": {},
   "outputs": [
    {
     "data": {
      "text/plain": [
       "datetime64[ns, UTC]"
      ]
     },
     "execution_count": 63,
     "metadata": {},
     "output_type": "execute_result"
    }
   ],
   "source": [
    "archived_df_copy.timestamp.dtype"
   ]
  },
  {
   "cell_type": "markdown",
   "id": "03576089",
   "metadata": {},
   "source": [
    "#### Quality Issue #8: Inaccurate Source Name\n",
    "`source` feature of `archived_df_copy` contains the source HTML raw anchor tag code"
   ]
  },
  {
   "cell_type": "markdown",
   "id": "f8336681",
   "metadata": {},
   "source": [
    "#### Define\n",
    "Extract the source name from the hyperlink of the `source` feature of `archived_df_copy`"
   ]
  },
  {
   "cell_type": "markdown",
   "id": "7fd6e2a6",
   "metadata": {},
   "source": [
    "#### Code"
   ]
  },
  {
   "cell_type": "code",
   "execution_count": 64,
   "id": "b78925a6",
   "metadata": {},
   "outputs": [
    {
     "data": {
      "text/plain": [
       "'<a href=\"http://twitter.com/download/iphone\" rel=\"nofollow\">Twitter for iPhone</a>'"
      ]
     },
     "execution_count": 64,
     "metadata": {},
     "output_type": "execute_result"
    }
   ],
   "source": [
    "archived_df_copy.source[0]"
   ]
  },
  {
   "cell_type": "code",
   "execution_count": 65,
   "id": "92e17a4a",
   "metadata": {},
   "outputs": [],
   "source": [
    "archived_df_copy.source = archived_df_copy.source.str.extract(r'(>[a-zA-Z].*<)').iloc[:, 0].str[1:-1]"
   ]
  },
  {
   "cell_type": "markdown",
   "id": "1a09305f",
   "metadata": {},
   "source": [
    "#### Test"
   ]
  },
  {
   "cell_type": "code",
   "execution_count": 66,
   "id": "c13c5651",
   "metadata": {},
   "outputs": [
    {
     "data": {
      "text/plain": [
       "array(['Twitter for iPhone', 'Twitter Web Client', 'Vine - Make a Scene',\n",
       "       'TweetDeck'], dtype=object)"
      ]
     },
     "execution_count": 66,
     "metadata": {},
     "output_type": "execute_result"
    }
   ],
   "source": [
    "archived_df_copy.source.unique()"
   ]
  },
  {
   "cell_type": "markdown",
   "id": "2f25a972",
   "metadata": {},
   "source": [
    "#### Quality Issue #9: Wrong Type\n",
    "`source` of `archived_df_copy` is an integer type"
   ]
  },
  {
   "cell_type": "markdown",
   "id": "3a6ec56e",
   "metadata": {},
   "source": [
    "#### Define\n",
    "Convert the type of `source` of `archived_df_copy` to float type"
   ]
  },
  {
   "cell_type": "markdown",
   "id": "66ddb5d8",
   "metadata": {},
   "source": [
    "#### Code"
   ]
  },
  {
   "cell_type": "code",
   "execution_count": 67,
   "id": "0afea420",
   "metadata": {},
   "outputs": [],
   "source": [
    "archived_df_copy.source = archived_df_copy.source.astype('category')"
   ]
  },
  {
   "cell_type": "markdown",
   "id": "4275bcb8",
   "metadata": {},
   "source": [
    "#### Test"
   ]
  },
  {
   "cell_type": "code",
   "execution_count": 68,
   "id": "557ccb91",
   "metadata": {},
   "outputs": [
    {
     "data": {
      "text/plain": [
       "CategoricalDtype(categories=['TweetDeck', 'Twitter Web Client', 'Twitter for iPhone',\n",
       "                  'Vine - Make a Scene'],\n",
       ", ordered=False)"
      ]
     },
     "execution_count": 68,
     "metadata": {},
     "output_type": "execute_result"
    }
   ],
   "source": [
    "archived_df_copy.source.dtype"
   ]
  },
  {
   "cell_type": "markdown",
   "id": "bfa64f42",
   "metadata": {},
   "source": [
    "#### Quality Issue #10: Wrong Type\n",
    "`img_num` of `image_df_copy` is an object type"
   ]
  },
  {
   "cell_type": "markdown",
   "id": "961feefa",
   "metadata": {},
   "source": [
    "#### Define\n",
    "Change the type of `img_num` of `image_df_copy` to category type\n"
   ]
  },
  {
   "cell_type": "markdown",
   "id": "baa22530",
   "metadata": {},
   "source": [
    "#### Code"
   ]
  },
  {
   "cell_type": "code",
   "execution_count": 69,
   "id": "4b7362d7",
   "metadata": {},
   "outputs": [],
   "source": [
    "image_df_copy.img_num = image_df_copy.img_num.astype('category')"
   ]
  },
  {
   "cell_type": "markdown",
   "id": "9fe58a89",
   "metadata": {},
   "source": [
    "#### Test"
   ]
  },
  {
   "cell_type": "code",
   "execution_count": 70,
   "id": "6fc64e84",
   "metadata": {},
   "outputs": [
    {
     "data": {
      "text/plain": [
       "CategoricalDtype(categories=[1, 2, 3, 4], ordered=False)"
      ]
     },
     "execution_count": 70,
     "metadata": {},
     "output_type": "execute_result"
    }
   ],
   "source": [
    "image_df_copy.img_num.dtype"
   ]
  },
  {
   "cell_type": "markdown",
   "id": "c99ac805",
   "metadata": {},
   "source": [
    "#### Quality Issue #11: Non Descriptive Name"
   ]
  },
  {
   "cell_type": "markdown",
   "id": "1ad7a885",
   "metadata": {},
   "source": [
    "#### Define\n",
    "`jpg_url`, `p1`, `p2`, `p3`, `p1_dog`, `p2_dog`, `p3_dog`, `p1_conf`, `p2_conf` and `p1_conf` should be renamed for descriptive purpose."
   ]
  },
  {
   "cell_type": "markdown",
   "id": "1ffe649f",
   "metadata": {},
   "source": [
    "#### Code"
   ]
  },
  {
   "cell_type": "code",
   "execution_count": 71,
   "id": "1e986f18",
   "metadata": {},
   "outputs": [],
   "source": [
    "# renaming the image_df\n",
    "image_df_copy.rename({'jpg_url':'image_url', 'p1':\"prediction1\", 'p1_conf':\"prediction1_confidence\", 'p1_dog':'prediction1_is_dog', \n",
    "                     'p2':\"prediction2\", 'p2_conf':\"prediction2_confidence\", 'p2_dog':'prediction2_is_dog',\n",
    "                     'p3':\"prediction3\", 'p3_conf':\"prediction3_confidence\", 'p3_dog':'prediction3_is_dog'}, \n",
    "                     axis=1, inplace=True)"
   ]
  },
  {
   "cell_type": "markdown",
   "id": "73c676ef",
   "metadata": {},
   "source": [
    "#### Test"
   ]
  },
  {
   "cell_type": "code",
   "execution_count": 72,
   "id": "c8180061",
   "metadata": {},
   "outputs": [
    {
     "data": {
      "text/plain": [
       "Index(['tweet_id', 'image_url', 'img_num', 'prediction1',\n",
       "       'prediction1_confidence', 'prediction1_is_dog', 'prediction2',\n",
       "       'prediction2_confidence', 'prediction2_is_dog', 'prediction3',\n",
       "       'prediction3_confidence', 'prediction3_is_dog'],\n",
       "      dtype='object')"
      ]
     },
     "execution_count": 72,
     "metadata": {},
     "output_type": "execute_result"
    }
   ],
   "source": [
    "image_df_copy.columns"
   ]
  },
  {
   "cell_type": "markdown",
   "id": "28c98c0e",
   "metadata": {},
   "source": [
    "#### Tidiness Issue #1: Values as Features\n",
    "Values of a feature as features"
   ]
  },
  {
   "cell_type": "markdown",
   "id": "6e2192bb",
   "metadata": {},
   "source": [
    "#### Define\n",
    "Rename the `id` feature of `count_like_df_copy` to `tweet_id` as that of `archived_df` and `image_df`."
   ]
  },
  {
   "cell_type": "markdown",
   "id": "789d346b",
   "metadata": {},
   "source": [
    "#### Code"
   ]
  },
  {
   "cell_type": "code",
   "execution_count": 73,
   "id": "f5684071",
   "metadata": {},
   "outputs": [],
   "source": [
    "# create a new series as the size of the archived_df_copy with all None values\n",
    "archived_df_copy['stage_name'] = pd.Series('None', index=archived_df.index).astype('object')"
   ]
  },
  {
   "cell_type": "code",
   "execution_count": 74,
   "id": "d11ab288",
   "metadata": {},
   "outputs": [],
   "source": [
    "for i in archived_df_copy.index:\n",
    "    if archived_df.doggo[i]==\"None\" and archived_df.floofer[i]==\"None\" and archived_df.pupper[i]==\"None\" and archived_df.puppo[i]==\"None\":\n",
    "        archived_df_copy.loc[i, 'stage_name'] = 'None'\n",
    "    elif archived_df.doggo[i]!=\"None\" and archived_df.floofer[i]==\"None\" and archived_df.pupper[i]==\"None\" and archived_df.puppo[i]==\"None\":\n",
    "        archived_df_copy.loc[i, 'stage_name'] = archived_df.doggo[i]\n",
    "    elif archived_df.doggo[i]==\"None\" and archived_df.floofer[i]!=\"None\" and archived_df.pupper[i]==\"None\" and archived_df.puppo[i]==\"None\":\n",
    "        archived_df_copy.loc[i, 'stage_name'] = archived_df.floofer[i]\n",
    "    elif archived_df.doggo[i]==\"None\" and archived_df.floofer[i]==\"None\" and archived_df.pupper[i]!=\"None\" and archived_df.puppo[i]==\"None\":\n",
    "        archived_df_copy.loc[i, 'stage_name'] = archived_df.pupper[i]\n",
    "    else:\n",
    "        archived_df_copy.loc[i, 'stage_name'] = archived_df.puppo[i]"
   ]
  },
  {
   "cell_type": "code",
   "execution_count": 75,
   "id": "fbc16629",
   "metadata": {},
   "outputs": [],
   "source": [
    "# dropping all thise features\n",
    "archived_df_copy.drop(['doggo', 'puppo', 'pupper', 'floofer'], axis=1, inplace=True)"
   ]
  },
  {
   "cell_type": "markdown",
   "id": "f08902f7",
   "metadata": {},
   "source": [
    "#### Test"
   ]
  },
  {
   "cell_type": "code",
   "execution_count": 76,
   "id": "7fd0ce04",
   "metadata": {},
   "outputs": [
    {
     "data": {
      "text/html": [
       "<div>\n",
       "<style scoped>\n",
       "    .dataframe tbody tr th:only-of-type {\n",
       "        vertical-align: middle;\n",
       "    }\n",
       "\n",
       "    .dataframe tbody tr th {\n",
       "        vertical-align: top;\n",
       "    }\n",
       "\n",
       "    .dataframe thead th {\n",
       "        text-align: right;\n",
       "    }\n",
       "</style>\n",
       "<table border=\"1\" class=\"dataframe\">\n",
       "  <thead>\n",
       "    <tr style=\"text-align: right;\">\n",
       "      <th></th>\n",
       "      <th>tweet_id</th>\n",
       "      <th>timestamp</th>\n",
       "      <th>source</th>\n",
       "      <th>text</th>\n",
       "      <th>expanded_urls</th>\n",
       "      <th>rating_numerator</th>\n",
       "      <th>rating_denominator</th>\n",
       "      <th>name</th>\n",
       "      <th>stage_name</th>\n",
       "    </tr>\n",
       "  </thead>\n",
       "  <tbody>\n",
       "    <tr>\n",
       "      <th>0</th>\n",
       "      <td>892420643555336193</td>\n",
       "      <td>2017-08-01 16:23:56+00:00</td>\n",
       "      <td>Twitter for iPhone</td>\n",
       "      <td>This is Phineas. He's a mystical boy. Only eve...</td>\n",
       "      <td>https://twitter.com/dog_rates/status/892420643...</td>\n",
       "      <td>13.0</td>\n",
       "      <td>10</td>\n",
       "      <td>Phineas</td>\n",
       "      <td>None</td>\n",
       "    </tr>\n",
       "    <tr>\n",
       "      <th>1</th>\n",
       "      <td>892177421306343426</td>\n",
       "      <td>2017-08-01 00:17:27+00:00</td>\n",
       "      <td>Twitter for iPhone</td>\n",
       "      <td>This is Tilly. She's just checking pup on you....</td>\n",
       "      <td>https://twitter.com/dog_rates/status/892177421...</td>\n",
       "      <td>13.0</td>\n",
       "      <td>10</td>\n",
       "      <td>Tilly</td>\n",
       "      <td>None</td>\n",
       "    </tr>\n",
       "  </tbody>\n",
       "</table>\n",
       "</div>"
      ],
      "text/plain": [
       "             tweet_id                 timestamp              source  \\\n",
       "0  892420643555336193 2017-08-01 16:23:56+00:00  Twitter for iPhone   \n",
       "1  892177421306343426 2017-08-01 00:17:27+00:00  Twitter for iPhone   \n",
       "\n",
       "                                                text  \\\n",
       "0  This is Phineas. He's a mystical boy. Only eve...   \n",
       "1  This is Tilly. She's just checking pup on you....   \n",
       "\n",
       "                                       expanded_urls  rating_numerator  \\\n",
       "0  https://twitter.com/dog_rates/status/892420643...              13.0   \n",
       "1  https://twitter.com/dog_rates/status/892177421...              13.0   \n",
       "\n",
       "   rating_denominator     name stage_name  \n",
       "0                  10  Phineas       None  \n",
       "1                  10    Tilly       None  "
      ]
     },
     "execution_count": 76,
     "metadata": {},
     "output_type": "execute_result"
    }
   ],
   "source": [
    "archived_df_copy.head(2)"
   ]
  },
  {
   "cell_type": "markdown",
   "id": "ed518b29",
   "metadata": {},
   "source": [
    "#### Tidiness Issue #2: Separated Dataframe\n",
    "Separated dataframes"
   ]
  },
  {
   "cell_type": "markdown",
   "id": "bc369ce6",
   "metadata": {},
   "source": [
    "#### Define\n",
    "The dataframe `count_like_df_copy` and `image_df` will be joined to `archived_df` on `tweet_id`."
   ]
  },
  {
   "cell_type": "markdown",
   "id": "8884c096",
   "metadata": {},
   "source": [
    "#### Code"
   ]
  },
  {
   "cell_type": "code",
   "execution_count": 77,
   "id": "302ccfc8",
   "metadata": {},
   "outputs": [],
   "source": [
    "new_df = archived_df_copy.merge(image_df_copy, on='tweet_id').merge(count_like_df_copy, on='tweet_id')"
   ]
  },
  {
   "cell_type": "markdown",
   "id": "dc9dbc11",
   "metadata": {},
   "source": [
    "#### Test"
   ]
  },
  {
   "cell_type": "code",
   "execution_count": 79,
   "id": "f9c68e4c",
   "metadata": {},
   "outputs": [
    {
     "data": {
      "text/html": [
       "<div>\n",
       "<style scoped>\n",
       "    .dataframe tbody tr th:only-of-type {\n",
       "        vertical-align: middle;\n",
       "    }\n",
       "\n",
       "    .dataframe tbody tr th {\n",
       "        vertical-align: top;\n",
       "    }\n",
       "\n",
       "    .dataframe thead th {\n",
       "        text-align: right;\n",
       "    }\n",
       "</style>\n",
       "<table border=\"1\" class=\"dataframe\">\n",
       "  <thead>\n",
       "    <tr style=\"text-align: right;\">\n",
       "      <th></th>\n",
       "      <th>tweet_id</th>\n",
       "      <th>timestamp</th>\n",
       "      <th>source</th>\n",
       "      <th>text</th>\n",
       "      <th>expanded_urls</th>\n",
       "      <th>rating_numerator</th>\n",
       "      <th>rating_denominator</th>\n",
       "      <th>name</th>\n",
       "      <th>stage_name</th>\n",
       "      <th>image_url</th>\n",
       "      <th>...</th>\n",
       "      <th>prediction1_confidence</th>\n",
       "      <th>prediction1_is_dog</th>\n",
       "      <th>prediction2</th>\n",
       "      <th>prediction2_confidence</th>\n",
       "      <th>prediction2_is_dog</th>\n",
       "      <th>prediction3</th>\n",
       "      <th>prediction3_confidence</th>\n",
       "      <th>prediction3_is_dog</th>\n",
       "      <th>retweet_count</th>\n",
       "      <th>favorite_count</th>\n",
       "    </tr>\n",
       "  </thead>\n",
       "  <tbody>\n",
       "    <tr>\n",
       "      <th>0</th>\n",
       "      <td>892420643555336193</td>\n",
       "      <td>2017-08-01 16:23:56+00:00</td>\n",
       "      <td>Twitter for iPhone</td>\n",
       "      <td>This is Phineas. He's a mystical boy. Only eve...</td>\n",
       "      <td>https://twitter.com/dog_rates/status/892420643...</td>\n",
       "      <td>13.0</td>\n",
       "      <td>10</td>\n",
       "      <td>Phineas</td>\n",
       "      <td>None</td>\n",
       "      <td>https://pbs.twimg.com/media/DGKD1-bXoAAIAUK.jpg</td>\n",
       "      <td>...</td>\n",
       "      <td>0.097049</td>\n",
       "      <td>False</td>\n",
       "      <td>bagel</td>\n",
       "      <td>0.085851</td>\n",
       "      <td>False</td>\n",
       "      <td>banana</td>\n",
       "      <td>0.076110</td>\n",
       "      <td>False</td>\n",
       "      <td>8853</td>\n",
       "      <td>39467</td>\n",
       "    </tr>\n",
       "    <tr>\n",
       "      <th>1</th>\n",
       "      <td>892177421306343426</td>\n",
       "      <td>2017-08-01 00:17:27+00:00</td>\n",
       "      <td>Twitter for iPhone</td>\n",
       "      <td>This is Tilly. She's just checking pup on you....</td>\n",
       "      <td>https://twitter.com/dog_rates/status/892177421...</td>\n",
       "      <td>13.0</td>\n",
       "      <td>10</td>\n",
       "      <td>Tilly</td>\n",
       "      <td>None</td>\n",
       "      <td>https://pbs.twimg.com/media/DGGmoV4XsAAUL6n.jpg</td>\n",
       "      <td>...</td>\n",
       "      <td>0.323581</td>\n",
       "      <td>True</td>\n",
       "      <td>Pekinese</td>\n",
       "      <td>0.090647</td>\n",
       "      <td>True</td>\n",
       "      <td>papillon</td>\n",
       "      <td>0.068957</td>\n",
       "      <td>True</td>\n",
       "      <td>6514</td>\n",
       "      <td>33819</td>\n",
       "    </tr>\n",
       "  </tbody>\n",
       "</table>\n",
       "<p>2 rows × 22 columns</p>\n",
       "</div>"
      ],
      "text/plain": [
       "             tweet_id                 timestamp              source  \\\n",
       "0  892420643555336193 2017-08-01 16:23:56+00:00  Twitter for iPhone   \n",
       "1  892177421306343426 2017-08-01 00:17:27+00:00  Twitter for iPhone   \n",
       "\n",
       "                                                text  \\\n",
       "0  This is Phineas. He's a mystical boy. Only eve...   \n",
       "1  This is Tilly. She's just checking pup on you....   \n",
       "\n",
       "                                       expanded_urls  rating_numerator  \\\n",
       "0  https://twitter.com/dog_rates/status/892420643...              13.0   \n",
       "1  https://twitter.com/dog_rates/status/892177421...              13.0   \n",
       "\n",
       "   rating_denominator     name stage_name  \\\n",
       "0                  10  Phineas       None   \n",
       "1                  10    Tilly       None   \n",
       "\n",
       "                                         image_url  ...  \\\n",
       "0  https://pbs.twimg.com/media/DGKD1-bXoAAIAUK.jpg  ...   \n",
       "1  https://pbs.twimg.com/media/DGGmoV4XsAAUL6n.jpg  ...   \n",
       "\n",
       "  prediction1_confidence prediction1_is_dog  prediction2  \\\n",
       "0               0.097049              False        bagel   \n",
       "1               0.323581               True     Pekinese   \n",
       "\n",
       "   prediction2_confidence prediction2_is_dog  prediction3  \\\n",
       "0                0.085851              False       banana   \n",
       "1                0.090647               True     papillon   \n",
       "\n",
       "   prediction3_confidence prediction3_is_dog  retweet_count  favorite_count  \n",
       "0                0.076110              False           8853           39467  \n",
       "1                0.068957               True           6514           33819  \n",
       "\n",
       "[2 rows x 22 columns]"
      ]
     },
     "execution_count": 79,
     "metadata": {},
     "output_type": "execute_result"
    }
   ],
   "source": [
    "new_df.head(2)"
   ]
  },
  {
   "cell_type": "markdown",
   "id": "7332514a",
   "metadata": {},
   "source": [
    "### Storing Data"
   ]
  },
  {
   "cell_type": "markdown",
   "id": "dcea60af",
   "metadata": {},
   "source": [
    "**Store as .csv**"
   ]
  },
  {
   "cell_type": "code",
   "execution_count": 80,
   "id": "a2d9f6de",
   "metadata": {},
   "outputs": [],
   "source": [
    "# store as csv\n",
    "new_df.to_csv('twitter_archive_master.csv', index=False)"
   ]
  },
  {
   "cell_type": "markdown",
   "id": "a5af1836",
   "metadata": {},
   "source": [
    "**STore on Database**"
   ]
  },
  {
   "cell_type": "code",
   "execution_count": 81,
   "id": "28bab4c8",
   "metadata": {},
   "outputs": [],
   "source": [
    "from sqlalchemy import create_engine"
   ]
  },
  {
   "cell_type": "code",
   "execution_count": 82,
   "id": "d66a17c8",
   "metadata": {},
   "outputs": [],
   "source": [
    "# create a database named twitter_archive\n",
    "db = create_engine('sqlite:///twitter_archive_master.db')"
   ]
  },
  {
   "cell_type": "code",
   "execution_count": 83,
   "id": "08c89888",
   "metadata": {},
   "outputs": [],
   "source": [
    "# save the new_df to the twitter_archive database and named it as twitter_archive_master table\n",
    "new_df.to_sql('twitter_archive_master', db, index=False)"
   ]
  },
  {
   "cell_type": "markdown",
   "id": "338acd9c",
   "metadata": {},
   "source": [
    "### Analyse and Visualize"
   ]
  },
  {
   "cell_type": "code",
   "execution_count": 84,
   "id": "5a54e602",
   "metadata": {},
   "outputs": [],
   "source": [
    "df = pd.read_csv('twitter_archive_master.csv')"
   ]
  },
  {
   "cell_type": "code",
   "execution_count": 85,
   "id": "3ea55f33",
   "metadata": {},
   "outputs": [],
   "source": [
    "# create a new feature with value from the division of rating_numerator and rating_denominator\n",
    "df['rating_ratio'] = df['rating_numerator'] / df['rating_denominator'] "
   ]
  },
  {
   "cell_type": "code",
   "execution_count": 86,
   "id": "540b1344",
   "metadata": {},
   "outputs": [
    {
     "name": "stdout",
     "output_type": "stream",
     "text": [
      "<class 'pandas.core.frame.DataFrame'>\n",
      "RangeIndex: 1994 entries, 0 to 1993\n",
      "Data columns (total 23 columns):\n",
      " #   Column                  Non-Null Count  Dtype  \n",
      "---  ------                  --------------  -----  \n",
      " 0   tweet_id                1994 non-null   int64  \n",
      " 1   timestamp               1994 non-null   object \n",
      " 2   source                  1994 non-null   object \n",
      " 3   text                    1994 non-null   object \n",
      " 4   expanded_urls           1994 non-null   object \n",
      " 5   rating_numerator        1994 non-null   float64\n",
      " 6   rating_denominator      1994 non-null   int64  \n",
      " 7   name                    1994 non-null   object \n",
      " 8   stage_name              1994 non-null   object \n",
      " 9   image_url               1994 non-null   object \n",
      " 10  img_num                 1994 non-null   int64  \n",
      " 11  prediction1             1994 non-null   object \n",
      " 12  prediction1_confidence  1994 non-null   float64\n",
      " 13  prediction1_is_dog      1994 non-null   bool   \n",
      " 14  prediction2             1994 non-null   object \n",
      " 15  prediction2_confidence  1994 non-null   float64\n",
      " 16  prediction2_is_dog      1994 non-null   bool   \n",
      " 17  prediction3             1994 non-null   object \n",
      " 18  prediction3_confidence  1994 non-null   float64\n",
      " 19  prediction3_is_dog      1994 non-null   bool   \n",
      " 20  retweet_count           1994 non-null   int64  \n",
      " 21  favorite_count          1994 non-null   int64  \n",
      " 22  rating_ratio            1994 non-null   float64\n",
      "dtypes: bool(3), float64(5), int64(5), object(10)\n",
      "memory usage: 317.5+ KB\n"
     ]
    }
   ],
   "source": [
    "df.info()"
   ]
  },
  {
   "cell_type": "code",
   "execution_count": 87,
   "id": "f6b210b1",
   "metadata": {},
   "outputs": [],
   "source": [
    "def barplot(x, y, title, xlabel, ylabel):\n",
    "    \"\"\"\n",
    "    x: x values\n",
    "    y: y values\n",
    "    title: plot title\n",
    "    xlabel: axis x label\n",
    "    ylabel: axis y label\n",
    "    \"\"\"\n",
    "    sns.barplot(x=x, y=y)\n",
    "    plt.title(title)\n",
    "    plt.xlabel(xlabel)\n",
    "    plt.ylabel(ylabel)\n",
    "    plt.show()"
   ]
  },
  {
   "cell_type": "markdown",
   "id": "7538bc52",
   "metadata": {},
   "source": [
    "**Summary Statistics of the numerical features**"
   ]
  },
  {
   "cell_type": "code",
   "execution_count": 88,
   "id": "faa023ea",
   "metadata": {},
   "outputs": [
    {
     "data": {
      "text/html": [
       "<div>\n",
       "<style scoped>\n",
       "    .dataframe tbody tr th:only-of-type {\n",
       "        vertical-align: middle;\n",
       "    }\n",
       "\n",
       "    .dataframe tbody tr th {\n",
       "        vertical-align: top;\n",
       "    }\n",
       "\n",
       "    .dataframe thead th {\n",
       "        text-align: right;\n",
       "    }\n",
       "</style>\n",
       "<table border=\"1\" class=\"dataframe\">\n",
       "  <thead>\n",
       "    <tr style=\"text-align: right;\">\n",
       "      <th></th>\n",
       "      <th>tweet_id</th>\n",
       "      <th>rating_numerator</th>\n",
       "      <th>rating_denominator</th>\n",
       "      <th>img_num</th>\n",
       "      <th>prediction1_confidence</th>\n",
       "      <th>prediction2_confidence</th>\n",
       "      <th>prediction3_confidence</th>\n",
       "      <th>retweet_count</th>\n",
       "      <th>favorite_count</th>\n",
       "      <th>rating_ratio</th>\n",
       "    </tr>\n",
       "  </thead>\n",
       "  <tbody>\n",
       "    <tr>\n",
       "      <th>count</th>\n",
       "      <td>1.994000e+03</td>\n",
       "      <td>1994.000000</td>\n",
       "      <td>1994.000000</td>\n",
       "      <td>1994.000000</td>\n",
       "      <td>1994.000000</td>\n",
       "      <td>1.994000e+03</td>\n",
       "      <td>1.994000e+03</td>\n",
       "      <td>1994.000000</td>\n",
       "      <td>1994.000000</td>\n",
       "      <td>1994.000000</td>\n",
       "    </tr>\n",
       "    <tr>\n",
       "      <th>mean</th>\n",
       "      <td>7.358508e+17</td>\n",
       "      <td>12.237101</td>\n",
       "      <td>10.532096</td>\n",
       "      <td>1.203109</td>\n",
       "      <td>0.593941</td>\n",
       "      <td>1.344195e-01</td>\n",
       "      <td>6.024848e-02</td>\n",
       "      <td>2766.753260</td>\n",
       "      <td>8895.725677</td>\n",
       "      <td>1.164875</td>\n",
       "    </tr>\n",
       "    <tr>\n",
       "      <th>std</th>\n",
       "      <td>6.747816e+16</td>\n",
       "      <td>41.471197</td>\n",
       "      <td>7.320710</td>\n",
       "      <td>0.560777</td>\n",
       "      <td>0.271954</td>\n",
       "      <td>1.006807e-01</td>\n",
       "      <td>5.089067e-02</td>\n",
       "      <td>4674.698447</td>\n",
       "      <td>12213.193181</td>\n",
       "      <td>4.064302</td>\n",
       "    </tr>\n",
       "    <tr>\n",
       "      <th>min</th>\n",
       "      <td>6.660209e+17</td>\n",
       "      <td>0.000000</td>\n",
       "      <td>2.000000</td>\n",
       "      <td>1.000000</td>\n",
       "      <td>0.044333</td>\n",
       "      <td>1.011300e-08</td>\n",
       "      <td>1.740170e-10</td>\n",
       "      <td>16.000000</td>\n",
       "      <td>81.000000</td>\n",
       "      <td>0.000000</td>\n",
       "    </tr>\n",
       "    <tr>\n",
       "      <th>25%</th>\n",
       "      <td>6.758475e+17</td>\n",
       "      <td>10.000000</td>\n",
       "      <td>10.000000</td>\n",
       "      <td>1.000000</td>\n",
       "      <td>0.362857</td>\n",
       "      <td>5.393987e-02</td>\n",
       "      <td>1.619283e-02</td>\n",
       "      <td>624.750000</td>\n",
       "      <td>1982.000000</td>\n",
       "      <td>1.000000</td>\n",
       "    </tr>\n",
       "    <tr>\n",
       "      <th>50%</th>\n",
       "      <td>7.084748e+17</td>\n",
       "      <td>11.000000</td>\n",
       "      <td>10.000000</td>\n",
       "      <td>1.000000</td>\n",
       "      <td>0.587635</td>\n",
       "      <td>1.174550e-01</td>\n",
       "      <td>4.950530e-02</td>\n",
       "      <td>1359.500000</td>\n",
       "      <td>4136.000000</td>\n",
       "      <td>1.100000</td>\n",
       "    </tr>\n",
       "    <tr>\n",
       "      <th>75%</th>\n",
       "      <td>7.877873e+17</td>\n",
       "      <td>12.000000</td>\n",
       "      <td>10.000000</td>\n",
       "      <td>1.000000</td>\n",
       "      <td>0.846285</td>\n",
       "      <td>1.951377e-01</td>\n",
       "      <td>9.159438e-02</td>\n",
       "      <td>3220.000000</td>\n",
       "      <td>11308.000000</td>\n",
       "      <td>1.200000</td>\n",
       "    </tr>\n",
       "    <tr>\n",
       "      <th>max</th>\n",
       "      <td>8.924206e+17</td>\n",
       "      <td>1776.000000</td>\n",
       "      <td>170.000000</td>\n",
       "      <td>4.000000</td>\n",
       "      <td>1.000000</td>\n",
       "      <td>4.880140e-01</td>\n",
       "      <td>2.734190e-01</td>\n",
       "      <td>79515.000000</td>\n",
       "      <td>132810.000000</td>\n",
       "      <td>177.600000</td>\n",
       "    </tr>\n",
       "  </tbody>\n",
       "</table>\n",
       "</div>"
      ],
      "text/plain": [
       "           tweet_id  rating_numerator  rating_denominator      img_num  \\\n",
       "count  1.994000e+03       1994.000000         1994.000000  1994.000000   \n",
       "mean   7.358508e+17         12.237101           10.532096     1.203109   \n",
       "std    6.747816e+16         41.471197            7.320710     0.560777   \n",
       "min    6.660209e+17          0.000000            2.000000     1.000000   \n",
       "25%    6.758475e+17         10.000000           10.000000     1.000000   \n",
       "50%    7.084748e+17         11.000000           10.000000     1.000000   \n",
       "75%    7.877873e+17         12.000000           10.000000     1.000000   \n",
       "max    8.924206e+17       1776.000000          170.000000     4.000000   \n",
       "\n",
       "       prediction1_confidence  prediction2_confidence  prediction3_confidence  \\\n",
       "count             1994.000000            1.994000e+03            1.994000e+03   \n",
       "mean                 0.593941            1.344195e-01            6.024848e-02   \n",
       "std                  0.271954            1.006807e-01            5.089067e-02   \n",
       "min                  0.044333            1.011300e-08            1.740170e-10   \n",
       "25%                  0.362857            5.393987e-02            1.619283e-02   \n",
       "50%                  0.587635            1.174550e-01            4.950530e-02   \n",
       "75%                  0.846285            1.951377e-01            9.159438e-02   \n",
       "max                  1.000000            4.880140e-01            2.734190e-01   \n",
       "\n",
       "       retweet_count  favorite_count  rating_ratio  \n",
       "count    1994.000000     1994.000000   1994.000000  \n",
       "mean     2766.753260     8895.725677      1.164875  \n",
       "std      4674.698447    12213.193181      4.064302  \n",
       "min        16.000000       81.000000      0.000000  \n",
       "25%       624.750000     1982.000000      1.000000  \n",
       "50%      1359.500000     4136.000000      1.100000  \n",
       "75%      3220.000000    11308.000000      1.200000  \n",
       "max     79515.000000   132810.000000    177.600000  "
      ]
     },
     "execution_count": 88,
     "metadata": {},
     "output_type": "execute_result"
    }
   ],
   "source": [
    "df.describe()"
   ]
  },
  {
   "cell_type": "markdown",
   "id": "2534d620",
   "metadata": {},
   "source": [
    "**Top 5 most numerator rating values**"
   ]
  },
  {
   "cell_type": "code",
   "execution_count": 89,
   "id": "ba9bedcb",
   "metadata": {},
   "outputs": [
    {
     "data": {
      "text/html": [
       "<div>\n",
       "<style scoped>\n",
       "    .dataframe tbody tr th:only-of-type {\n",
       "        vertical-align: middle;\n",
       "    }\n",
       "\n",
       "    .dataframe tbody tr th {\n",
       "        vertical-align: top;\n",
       "    }\n",
       "\n",
       "    .dataframe thead th {\n",
       "        text-align: right;\n",
       "    }\n",
       "</style>\n",
       "<table border=\"1\" class=\"dataframe\">\n",
       "  <thead>\n",
       "    <tr style=\"text-align: right;\">\n",
       "      <th></th>\n",
       "      <th>nume_value</th>\n",
       "      <th>nume_count</th>\n",
       "      <th>nume_rate</th>\n",
       "    </tr>\n",
       "  </thead>\n",
       "  <tbody>\n",
       "    <tr>\n",
       "      <th>0</th>\n",
       "      <td>12.0</td>\n",
       "      <td>450</td>\n",
       "      <td>0.225677</td>\n",
       "    </tr>\n",
       "    <tr>\n",
       "      <th>1</th>\n",
       "      <td>10.0</td>\n",
       "      <td>419</td>\n",
       "      <td>0.210130</td>\n",
       "    </tr>\n",
       "    <tr>\n",
       "      <th>2</th>\n",
       "      <td>11.0</td>\n",
       "      <td>396</td>\n",
       "      <td>0.198596</td>\n",
       "    </tr>\n",
       "    <tr>\n",
       "      <th>3</th>\n",
       "      <td>13.0</td>\n",
       "      <td>261</td>\n",
       "      <td>0.130893</td>\n",
       "    </tr>\n",
       "    <tr>\n",
       "      <th>4</th>\n",
       "      <td>9.0</td>\n",
       "      <td>151</td>\n",
       "      <td>0.075727</td>\n",
       "    </tr>\n",
       "  </tbody>\n",
       "</table>\n",
       "</div>"
      ],
      "text/plain": [
       "   nume_value  nume_count  nume_rate\n",
       "0        12.0         450   0.225677\n",
       "1        10.0         419   0.210130\n",
       "2        11.0         396   0.198596\n",
       "3        13.0         261   0.130893\n",
       "4         9.0         151   0.075727"
      ]
     },
     "execution_count": 89,
     "metadata": {},
     "output_type": "execute_result"
    }
   ],
   "source": [
    "nume = df.rating_numerator.value_counts()\n",
    "nume_df = pd.DataFrame({'nume_value':nume.index, 'nume_count':nume.values})\n",
    "nume_df['nume_rate'] = nume_df['nume_count'] / sum(nume_df['nume_count'])\n",
    "nume_df[:5]"
   ]
  },
  {
   "cell_type": "code",
   "execution_count": 90,
   "id": "650e7c1c",
   "metadata": {},
   "outputs": [
    {
     "data": {
      "image/png": "[encoded data removed]",
      "text/plain": [
       "<Figure size 432x288 with 1 Axes>"
      ]
     },
     "metadata": {},
     "output_type": "display_data"
    }
   ],
   "source": [
    "barplot(nume_df['nume_value'][:5], nume_df['nume_count'][:5], \"Top 5 Most Numerator Rating Values\", \"Numerator Values\", \"Numerator Count\")"
   ]
  },
  {
   "cell_type": "markdown",
   "id": "36234349",
   "metadata": {},
   "source": [
    "The highest numerator rating for a pet is `12`"
   ]
  },
  {
   "cell_type": "markdown",
   "id": "02d6d67d",
   "metadata": {},
   "source": [
    "**5 Least numerator rating values?**"
   ]
  },
  {
   "cell_type": "code",
   "execution_count": 91,
   "id": "b4d4e048",
   "metadata": {},
   "outputs": [
    {
     "data": {
      "image/png": "[encoded data removed]",
      "text/plain": [
       "<Figure size 432x288 with 1 Axes>"
      ]
     },
     "metadata": {},
     "output_type": "display_data"
    }
   ],
   "source": [
    "barplot(nume_df['nume_value'][-5:], nume_df['nume_count'][-5:], \"5 Least Numerator Rating Values\", \"Numerator Values\", \"Numerator Count\")"
   ]
  },
  {
   "cell_type": "markdown",
   "id": "32e1dd83",
   "metadata": {},
   "source": [
    "The occurrence of 5 smallest numerator rating is `1`"
   ]
  },
  {
   "cell_type": "markdown",
   "id": "28da7084",
   "metadata": {},
   "source": [
    "**What proportion of the data has a denominator rating of 10?**"
   ]
  },
  {
   "cell_type": "code",
   "execution_count": 92,
   "id": "0304bbfd",
   "metadata": {},
   "outputs": [
    {
     "data": {
      "text/html": [
       "<div>\n",
       "<style scoped>\n",
       "    .dataframe tbody tr th:only-of-type {\n",
       "        vertical-align: middle;\n",
       "    }\n",
       "\n",
       "    .dataframe tbody tr th {\n",
       "        vertical-align: top;\n",
       "    }\n",
       "\n",
       "    .dataframe thead th {\n",
       "        text-align: right;\n",
       "    }\n",
       "</style>\n",
       "<table border=\"1\" class=\"dataframe\">\n",
       "  <thead>\n",
       "    <tr style=\"text-align: right;\">\n",
       "      <th></th>\n",
       "      <th>denom_value</th>\n",
       "      <th>denom_count</th>\n",
       "      <th>denom_rate</th>\n",
       "    </tr>\n",
       "  </thead>\n",
       "  <tbody>\n",
       "    <tr>\n",
       "      <th>0</th>\n",
       "      <td>10</td>\n",
       "      <td>1976</td>\n",
       "      <td>0.990973</td>\n",
       "    </tr>\n",
       "    <tr>\n",
       "      <th>1</th>\n",
       "      <td>50</td>\n",
       "      <td>3</td>\n",
       "      <td>0.001505</td>\n",
       "    </tr>\n",
       "    <tr>\n",
       "      <th>2</th>\n",
       "      <td>11</td>\n",
       "      <td>2</td>\n",
       "      <td>0.001003</td>\n",
       "    </tr>\n",
       "    <tr>\n",
       "      <th>3</th>\n",
       "      <td>80</td>\n",
       "      <td>2</td>\n",
       "      <td>0.001003</td>\n",
       "    </tr>\n",
       "    <tr>\n",
       "      <th>4</th>\n",
       "      <td>2</td>\n",
       "      <td>1</td>\n",
       "      <td>0.000502</td>\n",
       "    </tr>\n",
       "    <tr>\n",
       "      <th>5</th>\n",
       "      <td>7</td>\n",
       "      <td>1</td>\n",
       "      <td>0.000502</td>\n",
       "    </tr>\n",
       "    <tr>\n",
       "      <th>6</th>\n",
       "      <td>20</td>\n",
       "      <td>1</td>\n",
       "      <td>0.000502</td>\n",
       "    </tr>\n",
       "    <tr>\n",
       "      <th>7</th>\n",
       "      <td>40</td>\n",
       "      <td>1</td>\n",
       "      <td>0.000502</td>\n",
       "    </tr>\n",
       "    <tr>\n",
       "      <th>8</th>\n",
       "      <td>70</td>\n",
       "      <td>1</td>\n",
       "      <td>0.000502</td>\n",
       "    </tr>\n",
       "    <tr>\n",
       "      <th>9</th>\n",
       "      <td>90</td>\n",
       "      <td>1</td>\n",
       "      <td>0.000502</td>\n",
       "    </tr>\n",
       "    <tr>\n",
       "      <th>10</th>\n",
       "      <td>110</td>\n",
       "      <td>1</td>\n",
       "      <td>0.000502</td>\n",
       "    </tr>\n",
       "    <tr>\n",
       "      <th>11</th>\n",
       "      <td>120</td>\n",
       "      <td>1</td>\n",
       "      <td>0.000502</td>\n",
       "    </tr>\n",
       "    <tr>\n",
       "      <th>12</th>\n",
       "      <td>130</td>\n",
       "      <td>1</td>\n",
       "      <td>0.000502</td>\n",
       "    </tr>\n",
       "    <tr>\n",
       "      <th>13</th>\n",
       "      <td>150</td>\n",
       "      <td>1</td>\n",
       "      <td>0.000502</td>\n",
       "    </tr>\n",
       "    <tr>\n",
       "      <th>14</th>\n",
       "      <td>170</td>\n",
       "      <td>1</td>\n",
       "      <td>0.000502</td>\n",
       "    </tr>\n",
       "  </tbody>\n",
       "</table>\n",
       "</div>"
      ],
      "text/plain": [
       "    denom_value  denom_count  denom_rate\n",
       "0            10         1976    0.990973\n",
       "1            50            3    0.001505\n",
       "2            11            2    0.001003\n",
       "3            80            2    0.001003\n",
       "4             2            1    0.000502\n",
       "5             7            1    0.000502\n",
       "6            20            1    0.000502\n",
       "7            40            1    0.000502\n",
       "8            70            1    0.000502\n",
       "9            90            1    0.000502\n",
       "10          110            1    0.000502\n",
       "11          120            1    0.000502\n",
       "12          130            1    0.000502\n",
       "13          150            1    0.000502\n",
       "14          170            1    0.000502"
      ]
     },
     "execution_count": 92,
     "metadata": {},
     "output_type": "execute_result"
    }
   ],
   "source": [
    "denom = df.rating_denominator.value_counts()\n",
    "denom_df = pd.DataFrame({'denom_value':denom.index, 'denom_count':denom.values})\n",
    "denom_df['denom_rate'] = denom_df['denom_count'] / sum(denom_df['denom_count'])\n",
    "denom_df"
   ]
  },
  {
   "cell_type": "code",
   "execution_count": 93,
   "id": "77022a65",
   "metadata": {},
   "outputs": [
    {
     "name": "stderr",
     "output_type": "stream",
     "text": [
      "C:\\Users\\PT WORLD\\anaconda3\\lib\\site-packages\\seaborn\\_decorators.py:36: FutureWarning: Pass the following variable as a keyword arg: x. From version 0.12, the only valid positional argument will be `data`, and passing other arguments without an explicit keyword will result in an error or misinterpretation.\n",
      "  warnings.warn(\n"
     ]
    },
    {
     "data": {
      "text/plain": [
       "Text(0, 0.5, 'No. of Denominator Values')"
      ]
     },
     "execution_count": 93,
     "metadata": {},
     "output_type": "execute_result"
    },
    {
     "data": {
      "image/png": "[encoded data removed]",
      "text/plain": [
       "<Figure size 432x288 with 1 Axes>"
      ]
     },
     "metadata": {},
     "output_type": "display_data"
    }
   ],
   "source": [
    "g = sns.countplot(df.rating_denominator)\n",
    "g.set_yscale('log')\n",
    "plt.title('Denominator Unique values and Their Count')\n",
    "plt.xlabel('Rating Denominator Values')\n",
    "plt.ylabel('No. of Denominator Values')"
   ]
  },
  {
   "cell_type": "markdown",
   "id": "89d590fc",
   "metadata": {},
   "source": [
    "`99%` of the denominator rating value is `10` and the remaining `1%` of the denominator rating value are between `1` and `14`"
   ]
  },
  {
   "cell_type": "markdown",
   "id": "973f17e3",
   "metadata": {},
   "source": [
    "**What is the average rating of pets?**"
   ]
  },
  {
   "cell_type": "code",
   "execution_count": 94,
   "id": "183ddb62",
   "metadata": {},
   "outputs": [],
   "source": [
    "rating_statistic = df.rating_ratio.describe()"
   ]
  },
  {
   "cell_type": "code",
   "execution_count": 95,
   "id": "82d0e842",
   "metadata": {
    "scrolled": true
   },
   "outputs": [
    {
     "data": {
      "text/html": [
       "<div>\n",
       "<style scoped>\n",
       "    .dataframe tbody tr th:only-of-type {\n",
       "        vertical-align: middle;\n",
       "    }\n",
       "\n",
       "    .dataframe tbody tr th {\n",
       "        vertical-align: top;\n",
       "    }\n",
       "\n",
       "    .dataframe thead th {\n",
       "        text-align: right;\n",
       "    }\n",
       "</style>\n",
       "<table border=\"1\" class=\"dataframe\">\n",
       "  <thead>\n",
       "    <tr style=\"text-align: right;\">\n",
       "      <th></th>\n",
       "      <th>statistics</th>\n",
       "      <th>values</th>\n",
       "    </tr>\n",
       "  </thead>\n",
       "  <tbody>\n",
       "    <tr>\n",
       "      <th>0</th>\n",
       "      <td>count</td>\n",
       "      <td>1994.000000</td>\n",
       "    </tr>\n",
       "    <tr>\n",
       "      <th>1</th>\n",
       "      <td>mean</td>\n",
       "      <td>1.164875</td>\n",
       "    </tr>\n",
       "    <tr>\n",
       "      <th>2</th>\n",
       "      <td>std</td>\n",
       "      <td>4.064302</td>\n",
       "    </tr>\n",
       "    <tr>\n",
       "      <th>3</th>\n",
       "      <td>min</td>\n",
       "      <td>0.000000</td>\n",
       "    </tr>\n",
       "    <tr>\n",
       "      <th>4</th>\n",
       "      <td>25%</td>\n",
       "      <td>1.000000</td>\n",
       "    </tr>\n",
       "    <tr>\n",
       "      <th>5</th>\n",
       "      <td>50%</td>\n",
       "      <td>1.100000</td>\n",
       "    </tr>\n",
       "    <tr>\n",
       "      <th>6</th>\n",
       "      <td>75%</td>\n",
       "      <td>1.200000</td>\n",
       "    </tr>\n",
       "    <tr>\n",
       "      <th>7</th>\n",
       "      <td>max</td>\n",
       "      <td>177.600000</td>\n",
       "    </tr>\n",
       "  </tbody>\n",
       "</table>\n",
       "</div>"
      ],
      "text/plain": [
       "  statistics       values\n",
       "0      count  1994.000000\n",
       "1       mean     1.164875\n",
       "2        std     4.064302\n",
       "3        min     0.000000\n",
       "4        25%     1.000000\n",
       "5        50%     1.100000\n",
       "6        75%     1.200000\n",
       "7        max   177.600000"
      ]
     },
     "execution_count": 95,
     "metadata": {},
     "output_type": "execute_result"
    }
   ],
   "source": [
    "rating_statistic_df = pd.DataFrame({'statistics': rating_statistic.index, 'values':rating_statistic.values})\n",
    "rating_statistic_df"
   ]
  },
  {
   "cell_type": "code",
   "execution_count": 96,
   "id": "29eed36e",
   "metadata": {},
   "outputs": [
    {
     "data": {
      "image/png": "[encoded data removed]",
      "text/plain": [
       "<Figure size 432x288 with 1 Axes>"
      ]
     },
     "metadata": {},
     "output_type": "display_data"
    }
   ],
   "source": [
    "# save the table as an image\n",
    "ax = plt.subplot(111, frame_on=False)\n",
    "ax.xaxis.set_visible(False)\n",
    "ax.yaxis.set_visible(False) \n",
    "pd.plotting.table(ax, rating_statistic_df)\n",
    "plt.savefig('rate_statistics')"
   ]
  },
  {
   "cell_type": "markdown",
   "id": "17b0470a",
   "metadata": {},
   "source": [
    "There seems to be an outliers from the visualization above. But the average rating of pets in the dataset is `1.17`."
   ]
  },
  {
   "cell_type": "markdown",
   "id": "45e4e166",
   "metadata": {},
   "source": [
    "**Relationship between the numerator rating and the denominator rating**"
   ]
  },
  {
   "cell_type": "code",
   "execution_count": 97,
   "id": "e9b33d89",
   "metadata": {},
   "outputs": [
    {
     "data": {
      "text/plain": [
       "Text(0, 0.5, 'Rating Numerator')"
      ]
     },
     "execution_count": 97,
     "metadata": {},
     "output_type": "execute_result"
    },
    {
     "data": {
      "image/png": "[encoded data removed]",
      "text/plain": [
       "<Figure size 432x288 with 1 Axes>"
      ]
     },
     "metadata": {},
     "output_type": "display_data"
    }
   ],
   "source": [
    "plt.scatter(x='rating_denominator', y='rating_numerator', data=df)\n",
    "plt.title('Relationship between Rating Denominator and Numerator')\n",
    "plt.xlabel('Rating Denominator')\n",
    "plt.ylabel('Rating Numerator')"
   ]
  },
  {
   "cell_type": "markdown",
   "id": "8ebed937",
   "metadata": {},
   "source": [
    "There seems to be a positive correlation between the rating numerator and denominator. Note, however, that correlation do not imply causation."
   ]
  },
  {
   "cell_type": "markdown",
   "id": "88f503bb",
   "metadata": {},
   "source": [
    "**Highest number of pet images**"
   ]
  },
  {
   "cell_type": "code",
   "execution_count": 98,
   "id": "85221ffb",
   "metadata": {},
   "outputs": [
    {
     "data": {
      "text/html": [
       "<div>\n",
       "<style scoped>\n",
       "    .dataframe tbody tr th:only-of-type {\n",
       "        vertical-align: middle;\n",
       "    }\n",
       "\n",
       "    .dataframe tbody tr th {\n",
       "        vertical-align: top;\n",
       "    }\n",
       "\n",
       "    .dataframe thead th {\n",
       "        text-align: right;\n",
       "    }\n",
       "</style>\n",
       "<table border=\"1\" class=\"dataframe\">\n",
       "  <thead>\n",
       "    <tr style=\"text-align: right;\">\n",
       "      <th></th>\n",
       "      <th>img_num</th>\n",
       "      <th>img_num_count</th>\n",
       "      <th>img_num_rate</th>\n",
       "    </tr>\n",
       "  </thead>\n",
       "  <tbody>\n",
       "    <tr>\n",
       "      <th>0</th>\n",
       "      <td>1</td>\n",
       "      <td>1711</td>\n",
       "      <td>0.858074</td>\n",
       "    </tr>\n",
       "    <tr>\n",
       "      <th>1</th>\n",
       "      <td>2</td>\n",
       "      <td>191</td>\n",
       "      <td>0.095787</td>\n",
       "    </tr>\n",
       "    <tr>\n",
       "      <th>2</th>\n",
       "      <td>3</td>\n",
       "      <td>62</td>\n",
       "      <td>0.031093</td>\n",
       "    </tr>\n",
       "    <tr>\n",
       "      <th>3</th>\n",
       "      <td>4</td>\n",
       "      <td>30</td>\n",
       "      <td>0.015045</td>\n",
       "    </tr>\n",
       "  </tbody>\n",
       "</table>\n",
       "</div>"
      ],
      "text/plain": [
       "   img_num  img_num_count  img_num_rate\n",
       "0        1           1711      0.858074\n",
       "1        2            191      0.095787\n",
       "2        3             62      0.031093\n",
       "3        4             30      0.015045"
      ]
     },
     "execution_count": 98,
     "metadata": {},
     "output_type": "execute_result"
    }
   ],
   "source": [
    "img_num_count = df['img_num'].value_counts()\n",
    "img_num_df = pd.DataFrame({'img_num':img_num_count.index, 'img_num_count':img_num_count.values})\n",
    "img_num_df['img_num_rate'] = img_num_df['img_num_count'] / sum(img_num_df['img_num_count'])\n",
    "img_num_df"
   ]
  },
  {
   "cell_type": "code",
   "execution_count": 99,
   "id": "ba846698",
   "metadata": {},
   "outputs": [
    {
     "name": "stderr",
     "output_type": "stream",
     "text": [
      "C:\\Users\\PT WORLD\\anaconda3\\lib\\site-packages\\seaborn\\_decorators.py:36: FutureWarning: Pass the following variable as a keyword arg: x. From version 0.12, the only valid positional argument will be `data`, and passing other arguments without an explicit keyword will result in an error or misinterpretation.\n",
      "  warnings.warn(\n"
     ]
    },
    {
     "data": {
      "text/plain": [
       "Text(0, 0.5, 'Count of Image No.')"
      ]
     },
     "execution_count": 99,
     "metadata": {},
     "output_type": "execute_result"
    },
    {
     "data": {
      "image/png": "[encoded data removed]",
      "text/plain": [
       "<Figure size 432x288 with 1 Axes>"
      ]
     },
     "metadata": {},
     "output_type": "display_data"
    }
   ],
   "source": [
    "sns.countplot(df['img_num'])\n",
    "plt.title('Count of Catehories of Uploaded Images')\n",
    "plt.xlabel('Image Number Category')\n",
    "plt.ylabel('Count of Image No.')"
   ]
  },
  {
   "cell_type": "markdown",
   "id": "8ff952a8",
   "metadata": {},
   "source": [
    "`85%` of the whole observation has one image (the minimum number of image for a pet in the dataset) for a pet. But only `1%` of the pet has four images which is the highest number of images of a pet in the dataset."
   ]
  },
  {
   "cell_type": "markdown",
   "id": "613ced43",
   "metadata": {},
   "source": [
    "**Does number of image for a pet affects the confidence of it being predicted accurately by the best model?**"
   ]
  },
  {
   "cell_type": "code",
   "execution_count": 100,
   "id": "0b0d8170",
   "metadata": {},
   "outputs": [
    {
     "data": {
      "text/html": [
       "<div>\n",
       "<style scoped>\n",
       "    .dataframe tbody tr th:only-of-type {\n",
       "        vertical-align: middle;\n",
       "    }\n",
       "\n",
       "    .dataframe tbody tr th {\n",
       "        vertical-align: top;\n",
       "    }\n",
       "\n",
       "    .dataframe thead th {\n",
       "        text-align: right;\n",
       "    }\n",
       "</style>\n",
       "<table border=\"1\" class=\"dataframe\">\n",
       "  <thead>\n",
       "    <tr style=\"text-align: right;\">\n",
       "      <th></th>\n",
       "      <th>img_num</th>\n",
       "      <th>prediction1_confidence</th>\n",
       "    </tr>\n",
       "  </thead>\n",
       "  <tbody>\n",
       "    <tr>\n",
       "      <th>0</th>\n",
       "      <td>1</td>\n",
       "      <td>0.571656</td>\n",
       "    </tr>\n",
       "    <tr>\n",
       "      <th>1</th>\n",
       "      <td>2</td>\n",
       "      <td>0.702738</td>\n",
       "    </tr>\n",
       "    <tr>\n",
       "      <th>2</th>\n",
       "      <td>3</td>\n",
       "      <td>0.766557</td>\n",
       "    </tr>\n",
       "    <tr>\n",
       "      <th>3</th>\n",
       "      <td>4</td>\n",
       "      <td>0.815534</td>\n",
       "    </tr>\n",
       "  </tbody>\n",
       "</table>\n",
       "</div>"
      ],
      "text/plain": [
       "   img_num  prediction1_confidence\n",
       "0        1                0.571656\n",
       "1        2                0.702738\n",
       "2        3                0.766557\n",
       "3        4                0.815534"
      ]
     },
     "execution_count": 100,
     "metadata": {},
     "output_type": "execute_result"
    }
   ],
   "source": [
    "img_num_confidence = df.groupby('img_num')['prediction1_confidence'].mean().reset_index()\n",
    "img_num_confidence"
   ]
  },
  {
   "cell_type": "code",
   "execution_count": 101,
   "id": "6f63f319",
   "metadata": {},
   "outputs": [
    {
     "data": {
      "image/png": "[encoded data removed]",
      "text/plain": [
       "<Figure size 432x288 with 1 Axes>"
      ]
     },
     "metadata": {},
     "output_type": "display_data"
    }
   ],
   "source": [
    "barplot(img_num_confidence['img_num'], img_num_confidence['prediction1_confidence'], \n",
    "        'Effect of Number of Images on Model Performance', 'Image Number Category', 'Confidence of Prediction')"
   ]
  },
  {
   "cell_type": "markdown",
   "id": "fd7ab0ec",
   "metadata": {},
   "source": [
    "As can be seen from above, the number of images for a pet improves the accuracy of the prediction model"
   ]
  },
  {
   "cell_type": "markdown",
   "id": "025ae452",
   "metadata": {},
   "source": [
    "**How does ratings relate to favorite_count?**"
   ]
  },
  {
   "cell_type": "code",
   "execution_count": 102,
   "id": "6822a277",
   "metadata": {},
   "outputs": [
    {
     "data": {
      "text/plain": [
       "Text(0, 0.5, 'Favorite Count')"
      ]
     },
     "execution_count": 102,
     "metadata": {},
     "output_type": "execute_result"
    },
    {
     "data": {
      "image/png": "[encoded data removed]",
      "text/plain": [
       "<Figure size 432x288 with 1 Axes>"
      ]
     },
     "metadata": {},
     "output_type": "display_data"
    }
   ],
   "source": [
    "sns.scatterplot(x='rating_ratio', y='favorite_count', data=df)\n",
    "plt.title('Relationship Between Ratings and Favorite Count')\n",
    "plt.xlabel('Rating')\n",
    "plt.ylabel('Favorite Count')"
   ]
  },
  {
   "cell_type": "markdown",
   "id": "3e72f6b8",
   "metadata": {},
   "source": [
    "There is no relationship between pet ratings and number of pet twitter favorite count."
   ]
  },
  {
   "cell_type": "markdown",
   "id": "746d6db4",
   "metadata": {},
   "source": [
    "**What is the relationship between favorite count and retweet?** "
   ]
  },
  {
   "cell_type": "code",
   "execution_count": 103,
   "id": "4e21b366",
   "metadata": {},
   "outputs": [
    {
     "data": {
      "text/plain": [
       "Text(0, 0.5, 'Favorite Count')"
      ]
     },
     "execution_count": 103,
     "metadata": {},
     "output_type": "execute_result"
    },
    {
     "data": {
      "image/png": "[encoded data removed]",
      "text/plain": [
       "<Figure size 432x288 with 1 Axes>"
      ]
     },
     "metadata": {},
     "output_type": "display_data"
    }
   ],
   "source": [
    "sns.scatterplot(x='retweet_count', y='favorite_count', data=df)\n",
    "plt.title('Relationship between favorite count and retweet')\n",
    "plt.xlabel('Retweet Count')\n",
    "plt.ylabel('Favorite Count')"
   ]
  },
  {
   "cell_type": "markdown",
   "id": "14a35d06",
   "metadata": {},
   "source": [
    "There is a positive correlation between retweet count and favorite count."
   ]
  },
  {
   "cell_type": "markdown",
   "id": "32c14b2e",
   "metadata": {},
   "source": [
    "### Conclusion\n",
    "1.\tThe highest numerator rating for a pet is 12.\n",
    "2.\tThe minimum numerator rating is 1.\n",
    "3.\t99% of the denominator rating value is 10 and the remaining 1% of the denominator rating value is between 1 and 14.\n",
    "4.\tThere seems to be an outliers from the visualization above. But the average rating of pets in the dataset is 1.17.\n",
    "5.\tThere seems to be a positive correlation between the rating numerator and denominator. Note, however, that correlation do not imply causation.\n",
    "6.\t85% of the whole observation has one image (the minimum number of image for a pet in the dataset) for a pet. But only 1% of the pet has four images which is the highest number of images of a pet in the dataset.\n",
    "7.\tAs can be seen from above, the number of images for a pet improves the accuracy of the prediction model.\n",
    "8. There is no relationship between pet ratings and number of pet twitter favorite count.\n",
    "9. There is a positive correlation between retweet count and favorite count."
   ]
  },
  {
   "cell_type": "markdown",
   "id": "a4703879",
   "metadata": {},
   "source": [
    "### Limitation\n",
    "* The data was untidy.\n",
    "* Data cleaning is a long process but it worths it."
   ]
  },
  {
   "cell_type": "markdown",
   "id": "cb4dd9b0",
   "metadata": {},
   "source": [
    "# Thank You"
   ]
  }
 ],
 "metadata": {
  "kernelspec": {
   "display_name": "Python 3",
   "language": "python",
   "name": "python3"
  },
  "language_info": {
   "codemirror_mode": {
    "name": "ipython",
    "version": 3
   },
   "file_extension": ".py",
   "mimetype": "text/x-python",
   "name": "python",
   "nbconvert_exporter": "python",
   "pygments_lexer": "ipython3",
   "version": "3.8.8"
  }
 },
 "nbformat": 4,
 "nbformat_minor": 5
}
